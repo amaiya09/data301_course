{
 "cells": [
  {
   "cell_type": "markdown",
   "metadata": {},
   "source": [
    "### Reading and Writing Files in Python\n",
    "\n",
    "### Python File Input/Output\n",
    "- Many data processing tasks require reading and writing to files. open() is a built-in function for creating, writing and reading files.\n",
    "- This function takes two parameters; filename, and mode .\n"
   ]
  },
  {
   "cell_type": "markdown",
   "metadata": {},
   "source": [
    "- Open a file for writing:\n",
    "```\n",
    "myfile = open(\"output.txt\", mode = \"w\")􏰀\n",
    "```\n",
    "- Open a file for reading (default):\n",
    "```\n",
    "infile = open(\"input.txt\", mode = \"r\") \n",
    "```\n",
    "- Python will look for the file in the current directory, but you can specify an path if it is located elsewhere.\n",
    "\n",
    "### Reading from a text file (as one string)\n",
    "􏰀\n",
    "- Notice that even if you are reading in a text file, the object myfile will not be a string.\n",
    "\n"
   ]
  },
  {
   "cell_type": "code",
   "execution_count": 131,
   "metadata": {},
   "outputs": [
    {
     "ename": "SyntaxError",
     "evalue": "invalid syntax (<ipython-input-131-0ded4c1a8a42>, line 2)",
     "output_type": "error",
     "traceback": [
      "\u001b[0;36m  File \u001b[0;32m\"<ipython-input-131-0ded4c1a8a42>\"\u001b[0;36m, line \u001b[0;32m2\u001b[0m\n\u001b[0;31m    class(infile)\u001b[0m\n\u001b[0m         ^\u001b[0m\n\u001b[0;31mSyntaxError\u001b[0m\u001b[0;31m:\u001b[0m invalid syntax\n"
     ]
    }
   ],
   "source": [
    "infile = open(\"input.txt\", \"r\")\n",
    "class(infile)"
   ]
  },
  {
   "cell_type": "markdown",
   "metadata": {},
   "source": [
    "- The open function returns a [file object](https://docs.python.org/3/glossary.html%23term-file-object).\n",
    "- In the above, I saved my file object to a variable called infile. Common naming conventions for file input/file output objects are fin and fout, resp.\n",
    "- N.B. If the file cannot be opened, an OSError is raised.\n",
    "\n",
    "### Reading from a text file (as one string)\n",
    "- One way to read a text file in Python is using the filename.read() method:\n",
    "- By default read() will return the entire text document.\n",
    "```code\n",
    "this = infile.read()\n",
    "print(this) '1\\n2\\n3\\n4\\n5\\n6\\n7\\n8\\n9\\n10\\n'\n",
    "```\n",
    "􏰀\n",
    "- Notice that all characters (including line breaks \\n) are returned.\n",
    "- The out outputs of the read() method is a string\n",
    " \n",
    "```code\n",
    ">>> type(this)\n",
    "<class 'str'>\n",
    "```\n",
    "\n",
    "### Reading from a text file by parts\n",
    "- Alternatively we can specify the the number characters you want to return as an argument (notice how newline character \\n is treated as a character:\n",
    "```code\n",
    ">>> infile = open(\"input.txt\", \"r\") \n",
    ">>> infile.read(4)\n",
    "'1\\n2\\n'\n",
    "```\n",
    "- read will keep our place in the document so that if we call it again it will read the next 4 characters.\n",
    "``` code\n",
    ">>> infile.read(4)\n",
    "3\\n4\\n\n",
    "```\n",
    "- Notice how when we call these strings in the print() function \\n is converted to new lines:\n",
    "```code  \n",
    "  >>> print(infile.read(4)) \n",
    "  5\n",
    "  6\n",
    "```  \n",
    " \n",
    "### Reading from a text file by parts\n",
    "We can repeatedly call this function until there are no more characters to be read. \n",
    "```code\n",
    "# this reaches the end of the document\n",
    ">>> print(infile.read(9)) 7\n",
    "8\n",
    "9\n",
    "10\n",
    "# there are no more characters to be read\n",
    ">>> infile.read(1) ''\n",
    "```\n",
    "### Reading from a text file by line\n",
    "\n",
    "- Alternatively we can read the contents line by line:\n",
    "\n",
    "``` code\n",
    ">>> infile = open(\"input.txt\", \"r\") \n",
    ">>> infile.readline()\n",
    ">>> infile.readline()\n",
    "```\n",
    "- As before, it will keep track of where we are in the file until there are no more lines to be read:\n",
    "``` code\n",
    "# ...\n",
    ">>> infile.readline() \n",
    "'9\\n'\n",
    ">>> infile.readline() \n",
    "'10\\n'\n",
    ">>> infile.readline() \n",
    "''\n",
    "\n",
    "```\n",
    "\n",
    "### Reading from a text file (as one string)\n",
    "- It is good practice to close a file once you no longer need it to free up resources. Once the file is closed, any further attempts to use the file object (infile) will fail.\n"
   ]
  },
  {
   "cell_type": "code",
   "execution_count": 132,
   "metadata": {},
   "outputs": [
    {
     "name": "stdout",
     "output_type": "stream",
     "text": [
      "1\n",
      "2\n",
      "3\n"
     ]
    },
    {
     "ename": "ValueError",
     "evalue": "I/O operation on closed file.",
     "output_type": "error",
     "traceback": [
      "\u001b[0;31m---------------------------------------------------------------------------\u001b[0m",
      "\u001b[0;31mValueError\u001b[0m                                Traceback (most recent call last)",
      "\u001b[0;32m<ipython-input-132-bcbd09023d1a>\u001b[0m in \u001b[0;36m<module>\u001b[0;34m\u001b[0m\n\u001b[1;32m      2\u001b[0m \u001b[0mprint\u001b[0m\u001b[0;34m(\u001b[0m\u001b[0mfin\u001b[0m\u001b[0;34m.\u001b[0m\u001b[0mread\u001b[0m\u001b[0;34m(\u001b[0m\u001b[0;36m5\u001b[0m\u001b[0;34m)\u001b[0m\u001b[0;34m)\u001b[0m\u001b[0;34m\u001b[0m\u001b[0;34m\u001b[0m\u001b[0m\n\u001b[1;32m      3\u001b[0m \u001b[0mfin\u001b[0m\u001b[0;34m.\u001b[0m\u001b[0mclose\u001b[0m\u001b[0;34m(\u001b[0m\u001b[0;34m)\u001b[0m \u001b[0;31m# close the file\u001b[0m\u001b[0;34m\u001b[0m\u001b[0;34m\u001b[0m\u001b[0m\n\u001b[0;32m----> 4\u001b[0;31m \u001b[0mfin\u001b[0m\u001b[0;34m.\u001b[0m\u001b[0mread\u001b[0m\u001b[0;34m(\u001b[0m\u001b[0;36m5\u001b[0m\u001b[0;34m)\u001b[0m \u001b[0;31m# can no longer read from file\u001b[0m\u001b[0;34m\u001b[0m\u001b[0;34m\u001b[0m\u001b[0m\n\u001b[0m",
      "\u001b[0;31mValueError\u001b[0m: I/O operation on closed file."
     ]
    }
   ],
   "source": [
    "\n",
    "fin = open(\"input.txt\", \"r\") \n",
    "print(fin.read(5))\n",
    "fin.close() # close the file\n",
    "fin.read(5) # can no longer read from file"
   ]
  },
  {
   "cell_type": "markdown",
   "metadata": {},
   "source": [
    "### Reading from a text file (as one string)\n",
    "- We have the option to save the entire file as a string object to a variable. If we do that, we can access the information regardless of whether or not the file object has been closed:"
   ]
  },
  {
   "cell_type": "code",
   "execution_count": 133,
   "metadata": {},
   "outputs": [
    {
     "name": "stdout",
     "output_type": "stream",
     "text": [
      "1\n",
      "2\n",
      "3\n",
      "\n",
      "1\n",
      "2\n",
      "\n",
      "3\n",
      "\n",
      "True\n"
     ]
    }
   ],
   "source": [
    "fin = open(\"input.txt\", \"r\")\n",
    "val = fin.read() # read file as one string\n",
    "fin.close() # close the file \n",
    "print(val) # the entire contents of the file\n",
    "print(val[0:4])# first 4 characters\n",
    "print(val[4:8]) # next 4 characters\n",
    "print(fin.closed)# returns True\n"
   ]
  },
  {
   "cell_type": "markdown",
   "metadata": {},
   "source": [
    "-  You can check whether the file is close using filename.closed which returns True or False."
   ]
  },
  {
   "cell_type": "markdown",
   "metadata": {},
   "source": [
    "### Reading from a text file into a list\n",
    "- 􏰀 We could read every line using the readlines() method (as opposed to readline() (singular which reads a singleline).\n",
    "- Notice that readlines() returns a Python list which includes the end of line characters."
   ]
  },
  {
   "cell_type": "code",
   "execution_count": 134,
   "metadata": {},
   "outputs": [
    {
     "name": "stdout",
     "output_type": "stream",
     "text": [
      "['1\\n', '2\\n', '3\\n']\n"
     ]
    }
   ],
   "source": [
    "fin = open(\"input.txt\", \"r\")\n",
    "alllines = fin.readlines()\n",
    "print(alllines)\n"
   ]
  },
  {
   "cell_type": "markdown",
   "metadata": {},
   "source": [
    "### Iteration with files\n",
    "- As with any Python list, we can iterate through its contents element by element using a for loop.\n",
    "- For this particular scenario, this corresponds to going through the input.txt file line by line.\n",
    "```text\n",
    ">>> for lines in alllines:\n",
    "...\n",
    "...\n",
    "1\n",
    "2 \n",
    "... 10\n",
    "print(lines)\n",
    " ```"
   ]
  },
  {
   "cell_type": "markdown",
   "metadata": {},
   "source": []
  },
  {
   "cell_type": "markdown",
   "metadata": {},
   "source": [
    "### Iteration with files\n",
    "- You may have noticed extra whitespace between lines.\n",
    "- This is because the print function has a newline character printed by default (eg, we are actually printing '1\\n\\n' for the first line). To remedy this we could use the strip method to remove the newline characters before printing.\n",
    "- [strip()](https://www.geeksforgeeks.org/python-string-strip-2/) removes any characters specified as arguments from both left and right of a string. If no argument is specified, then all whitespace from starting from the left (resp. right) is removed until we reach the first non-match.\n",
    "```\n",
    ">>> 'aacabbaaccbbcacc'.strip('ac') # removed/not removed\n",
    "'bbaaccbb'\n",
    "```"
   ]
  },
  {
   "cell_type": "markdown",
   "metadata": {},
   "source": [
    "### Iteration with files\n",
    "- Hence we can iterate through this file line by line using:\n",
    "```text\n",
    ">>> for lines in alllines:\n",
    "... print(lines.strip('\\n'))\n",
    "...\n",
    "1\n",
    "2\n",
    "...\n",
    "10\n",
    "```\n",
    "- While this worked well for this small file, if our text file was very long, creating this list would consume a lot of memory.\n",
    "- To get around this, we can loop over the file line by line, and only read the lines of text that your program needs. . ."
   ]
  },
  {
   "cell_type": "markdown",
   "metadata": {},
   "source": [
    "### Iteration with files\n",
    "- The file objects themselves are actually iteratable (that is we can iterate through them in a for loop).\n",
    "- Hence we traverse through the text file line by line and do something with it, eg, print the contents to the screen.\n",
    "- Remember that the end of line characters are part of the string on each line.\n",
    "- We may choose to remove them in combination with print so that we don’t produce all that unnecessary white space.\n",
    "- As before, we mustn’t forget to close the file once we are done with it.\n",
    "### Iteration with files\n",
    "- By using a loop we can iterate through the whole file line by line:"
   ]
  },
  {
   "cell_type": "code",
   "execution_count": 135,
   "metadata": {},
   "outputs": [
    {
     "name": "stdout",
     "output_type": "stream",
     "text": [
      "1\n",
      "\n",
      "2\n",
      "\n",
      "3\n",
      "\n"
     ]
    }
   ],
   "source": [
    "infile = open(\"input.txt\", \"r\") \n",
    "for x in infile:\n",
    "    print(x)"
   ]
  },
  {
   "cell_type": "markdown",
   "metadata": {},
   "source": [
    "- If we only wanted to read this file until we say a 3, say, we could exit the for loop using break:"
   ]
  },
  {
   "cell_type": "code",
   "execution_count": 136,
   "metadata": {},
   "outputs": [
    {
     "name": "stdout",
     "output_type": "stream",
     "text": [
      "1\n",
      "2\n",
      "3\n"
     ]
    }
   ],
   "source": [
    "# Check for Equality \n",
    "fin = open(\"input.txt\", \"r\") \n",
    "for x in fin:\n",
    "    line = x.strip('\\n')\n",
    "    print(line)\n",
    "    if (int(line) == 4):\n",
    "        break\n",
    "fin.close()"
   ]
  },
  {
   "cell_type": "code",
   "execution_count": 137,
   "metadata": {},
   "outputs": [
    {
     "name": "stdout",
     "output_type": "stream",
     "text": [
      "1\n",
      "2\n",
      "3\n"
     ]
    }
   ],
   "source": [
    "#check substring \n",
    "\n",
    "fin = open(\"input.txt\", \"r\") \n",
    "for x in fin:\n",
    "    print(x.strip('\\n')) \n",
    "    if '3' in x:\n",
    "        break \n",
    "fin.close()"
   ]
  },
  {
   "cell_type": "markdown",
   "metadata": {},
   "source": [
    "### Reading text from a file line by line\n",
    "It is worth mentioning that we can also cycle through the lines of text document using a while loop:"
   ]
  },
  {
   "cell_type": "code",
   "execution_count": 138,
   "metadata": {},
   "outputs": [
    {
     "name": "stdout",
     "output_type": "stream",
     "text": [
      "1\n",
      "2\n",
      "3\n"
     ]
    }
   ],
   "source": [
    "#Using a for loop \n",
    "infile = open(\"input.txt\", \"r\")\n",
    "for line in infile: \n",
    "    print(line.strip('\\n'))\n",
    "infile.close()"
   ]
  },
  {
   "cell_type": "code",
   "execution_count": 139,
   "metadata": {},
   "outputs": [
    {
     "name": "stdout",
     "output_type": "stream",
     "text": [
      "2\n",
      "3\n",
      "\n"
     ]
    }
   ],
   "source": [
    "#Using a while loop \n",
    "infile = open(\"input.txt\", \"r\")\n",
    "line = infile.readline() \n",
    "while line != \"\":\n",
    "    line = infile.readline()\n",
    "    print(line.strip('\\n')) \n",
    "infile.close()"
   ]
  },
  {
   "cell_type": "markdown",
   "metadata": {},
   "source": [
    "### Reading text from a file line by line\n",
    "- To avoid writing programs which forget to close the file, we could also use with . The with statement will automatically close the file after the suite is exited. Hence we never have to write infile.close()."
   ]
  },
  {
   "cell_type": "code",
   "execution_count": 140,
   "metadata": {},
   "outputs": [
    {
     "name": "stdout",
     "output_type": "stream",
     "text": [
      "1\n",
      "2\n",
      "3\n",
      "None\n"
     ]
    }
   ],
   "source": [
    "# The following will auto-close file \n",
    "with open(\"input.txt\", \"r\") as infile:\n",
    "    for line in infile: \n",
    "        print(line.strip('\\n'))\n",
    "print(infile.close()) # returns True\n"
   ]
  },
  {
   "cell_type": "markdown",
   "metadata": {},
   "source": [
    "```code\n",
    "Tip:\n",
    "The with option is considered best practice as it automatically closes the file for us.\n",
    "```"
   ]
  },
  {
   "cell_type": "markdown",
   "metadata": {},
   "source": [
    "### Writing to a Text File\n",
    "- Selecting the write ('w') mode will allow us to write text to a file\n"
   ]
  },
  {
   "cell_type": "code",
   "execution_count": 141,
   "metadata": {},
   "outputs": [],
   "source": [
    "outfile = open(\"output.txt\", \"w\")\n",
    "# writes the numbers 1 through 10 on new lines \n",
    "for n in range(1,11):\n",
    "    outfile.write(str(n) + \"\\n\")\n",
    "# not written to final until we run the following:\n",
    "outfile.close()"
   ]
  },
  {
   "cell_type": "markdown",
   "metadata": {},
   "source": [
    "```text\n",
    "Warnings\n",
    "1. Python will try to overwrite the file output.txt if it exists,\n",
    "otherwise, the file will be created.\n",
    "2. The contents are not written to file until we close it.\n",
    "3. Numbers need to be converted to strings before writing\n",
    "\n",
    "```\n",
    "### Writing to a Text File\n",
    "- The second warning outlined on the previous slide is yet another reason that the with method is generally preferred."
   ]
  },
  {
   "cell_type": "code",
   "execution_count": 142,
   "metadata": {},
   "outputs": [],
   "source": [
    "with open('output.txt', 'w') as fout: \n",
    "    for n in range(1,11):\n",
    "        fout.write(str(n) + \"\\n\")\n",
    "\n",
    "# Notice how this method makes it impossible for us to forget to close a file."
   ]
  },
  {
   "cell_type": "markdown",
   "metadata": {},
   "source": [
    "### Writing to a Text File\n",
    "- This will overwrite the file if it already exists, otherwise, it, creates a new file for writing. The following will overwrite the contents of output.txt:"
   ]
  },
  {
   "cell_type": "code",
   "execution_count": 143,
   "metadata": {},
   "outputs": [],
   "source": [
    "with open(\"output.txt\", \"w\") as f: \n",
    "    f.write(\"Test\")"
   ]
  },
  {
   "cell_type": "markdown",
   "metadata": {},
   "source": [
    "- To create an empty file, we can use the pass command"
   ]
  },
  {
   "cell_type": "code",
   "execution_count": 144,
   "metadata": {},
   "outputs": [],
   "source": [
    "# creates an empty file\n",
    "with open(\"test2.txt\", \"w\") as f:\n",
    "    pass"
   ]
  },
  {
   "cell_type": "code",
   "execution_count": 145,
   "metadata": {},
   "outputs": [
    {
     "ename": "NameError",
     "evalue": "name 'filename' is not defined",
     "output_type": "error",
     "traceback": [
      "\u001b[0;31m---------------------------------------------------------------------------\u001b[0m",
      "\u001b[0;31mNameError\u001b[0m                                 Traceback (most recent call last)",
      "\u001b[0;32m<ipython-input-145-57fa3e6dad7d>\u001b[0m in \u001b[0;36m<module>\u001b[0;34m\u001b[0m\n\u001b[1;32m      1\u001b[0m \u001b[0;31m#Another alternative for creating an empty file is:\u001b[0m\u001b[0;34m\u001b[0m\u001b[0;34m\u001b[0m\u001b[0;34m\u001b[0m\u001b[0m\n\u001b[0;32m----> 2\u001b[0;31m \u001b[0mopen\u001b[0m\u001b[0;34m(\u001b[0m\u001b[0mfilename\u001b[0m\u001b[0;34m,\u001b[0m \u001b[0;34m'w'\u001b[0m\u001b[0;34m)\u001b[0m\u001b[0;34m.\u001b[0m\u001b[0mclose\u001b[0m\u001b[0;34m(\u001b[0m\u001b[0;34m)\u001b[0m\u001b[0;34m\u001b[0m\u001b[0;34m\u001b[0m\u001b[0m\n\u001b[0m",
      "\u001b[0;31mNameError\u001b[0m: name 'filename' is not defined"
     ]
    }
   ],
   "source": [
    "#Another alternative for creating an empty file is:\n",
    "open(filename, 'w').close()"
   ]
  },
  {
   "cell_type": "markdown",
   "metadata": {},
   "source": [
    "### Writing to a Text File\n",
    "- Like the read functions, write will remember its place within the document and will pick up where it left off:"
   ]
  },
  {
   "cell_type": "code",
   "execution_count": 146,
   "metadata": {},
   "outputs": [],
   "source": [
    "with open(\"test.txt\", \"w\") as fout: \n",
    "    fout.write(\"Test\")\n",
    "    fout.write(\"Test again\")"
   ]
  },
  {
   "cell_type": "markdown",
   "metadata": {},
   "source": [
    "- Test.txt file will contain:\n",
    "- TestTest again"
   ]
  },
  {
   "cell_type": "markdown",
   "metadata": {},
   "source": [
    "- To include line breaks, we need to include the newline character \\n."
   ]
  },
  {
   "cell_type": "code",
   "execution_count": 147,
   "metadata": {},
   "outputs": [],
   "source": [
    "with open(\"test.txt\", \"w\") as f:\n",
    "    f.write(\"Test\") \n",
    "    f.write(\"\\n Test again\")"
   ]
  },
  {
   "cell_type": "markdown",
   "metadata": {},
   "source": [
    "- Test.txt file will contain:\n",
    "- Test\n",
    "- Test again"
   ]
  },
  {
   "cell_type": "markdown",
   "metadata": {},
   "source": [
    "### Writing to a Text File\n",
    "- Once we close the file however, we need to select the append mode ('a') in order to add text to the end of the document."
   ]
  },
  {
   "cell_type": "code",
   "execution_count": 148,
   "metadata": {},
   "outputs": [],
   "source": [
    "outfile = open(\"output.txt\", \"a\") \n",
    "for n in range(11,20):\n",
    "    outfile.write(str(n) + \"\\n\") \n",
    "outfile.close()\n"
   ]
  },
  {
   "cell_type": "markdown",
   "metadata": {},
   "source": [
    " - As in the w (write) mode, the contents are not written to file until we close the file.\n",
    " - Note that, if the file does not exist, it creates a new file for writing."
   ]
  },
  {
   "cell_type": "markdown",
   "metadata": {},
   "source": [
    "### Using split for CSV files\n",
    "- A common type of file you may want to read into your program is a comma separated value (CSV) file.\n",
    "- We can read csv files by iterating over the file object and using strip and split:\n"
   ]
  },
  {
   "cell_type": "code",
   "execution_count": 149,
   "metadata": {
    "scrolled": true
   },
   "outputs": [
    {
     "name": "stdout",
     "output_type": "stream",
     "text": [
      "['\\ufeff1', '3', '9', '27', '81', '243', '729']\n",
      "['2', '6', '18', '54', '162', '486', '1458']\n",
      "['3', '9', '27', '81', '243', '729', '2187']\n",
      "['4', '12', '36', '108', '324', '972', '2916']\n",
      "['5', '15', '45', '135', '405', '1215', '3645']\n",
      "['6', '18', '54', '162', '486', '1458', '4374']\n",
      "['7', '21', '63', '189', '567', '1701', '5103']\n",
      "['8', '24', '72', '216', '648', '1944', '5832']\n",
      "['9', '27', '81', '243', '729', '2187', '6561']\n",
      "['10', '30', '90', '270', '810', '2430', '7290']\n",
      "['11', '33', '99', '297', '891', '2673', '8019']\n",
      "['12', '36', '108', '324', '972', '2916', '8748']\n",
      "['13', '39', '117', '351', '1053', '3159', '9477']\n",
      "['14', '42', '126', '378', '1134', '3402', '10206']\n",
      "['15', '45', '135', '405', '1215', '3645', '10935']\n",
      "['16', '48', '144', '432', '1296', '3888', '11664']\n",
      "['17', '51', '153', '459', '1377', '4131', '12393']\n",
      "['18', '54', '162', '486', '1458', '4374', '13122']\n",
      "['19', '57', '171', '513', '1539', '4617', '13851']\n",
      "['20', '60', '180', '540', '1620', '4860', '14580']\n",
      "['21', '63', '189', '567', '1701', '5103', '15309']\n",
      "['22', '66', '198', '594', '1782', '5346', '16038']\n",
      "['23', '69', '207', '621', '1863', '5589', '16767']\n",
      "['24', '72', '216', '648', '1944', '5832', '17496']\n",
      "['25', '75', '225', '675', '2025', '6075', '18225']\n",
      "['26', '78', '234', '702', '2106', '6318', '18954']\n",
      "['27', '81', '243', '729', '2187', '6561', '19683']\n",
      "['28', '84', '252', '756', '2268', '6804', '20412']\n",
      "['29', '87', '261', '783', '2349', '7047', '21141']\n",
      "['30', '90', '270', '810', '2430', '7290', '21870']\n",
      "['31', '93', '279', '837', '2511', '7533', '22599']\n",
      "['32', '96', '288', '864', '2592', '7776', '23328']\n",
      "['33', '99', '297', '891', '2673', '8019', '24057']\n",
      "['34', '102', '306', '918', '2754', '8262', '24786']\n",
      "['35', '105', '315', '945', '2835', '8505', '25515']\n",
      "['36', '108', '324', '972', '2916', '8748', '26244']\n",
      "['37', '111', '333', '999', '2997', '8991', '26973']\n",
      "['38', '114', '342', '1026', '3078', '9234', '27702']\n",
      "['39', '117', '351', '1053', '3159', '9477', '28431']\n",
      "['40', '120', '360', '1080', '3240', '9720', '29160']\n",
      "['41', '123', '369', '1107', '3321', '9963', '29889']\n",
      "['42', '126', '378', '1134', '3402', '10206', '30618']\n",
      "['43', '129', '387', '1161', '3483', '10449', '31347']\n",
      "['44', '132', '396', '1188', '3564', '10692', '32076']\n"
     ]
    }
   ],
   "source": [
    "with open(\"data.csv\", \"r\") as infile: \n",
    "    for line in infile:\n",
    "        line = line.strip(\" \\n\") \n",
    "        fields = line.split(\",\")\n",
    "        for i in range(0,len(fields)):\n",
    "            fields[i] = fields[i].strip()\n",
    "        print(fields)"
   ]
  },
  {
   "cell_type": "markdown",
   "metadata": {},
   "source": [
    "### Using split for CSV files\n",
    "- In the code from the previous slide:\n",
    "    - line is a string (with the end of line character \\n removed)\n",
    "    - fields is a list containing the individual cell values for the corresponding row.\n",
    "- For the last row in our CSV file:"
   ]
  },
  {
   "cell_type": "code",
   "execution_count": 150,
   "metadata": {},
   "outputs": [
    {
     "name": "stdout",
     "output_type": "stream",
     "text": [
      "<class 'str'>\n",
      "44,132,396,1188,3564,10692,32076\n",
      "<class 'list'>\n",
      "['44', '132', '396', '1188', '3564', '10692', '32076']\n"
     ]
    }
   ],
   "source": [
    "print(type(line))\n",
    "print(line)  \n",
    "print(type(fields))\n",
    "print(fields)"
   ]
  },
  {
   "cell_type": "markdown",
   "metadata": {},
   "source": [
    "### Using modules: csv for CSV files\n",
    "- Alternatively, you can use the csv module to read csv files:\n",
    "- By importing the module named csv, we can now call the csv.reader function (see more [here](https://docs.python.org/3/library/csv.html)).\n",
    "- A useful module/function in case you forget the name of your file is the os.listdir() to list all files in a directory."
   ]
  },
  {
   "cell_type": "code",
   "execution_count": 151,
   "metadata": {},
   "outputs": [
    {
     "name": "stdout",
     "output_type": "stream",
     "text": [
      "['03Excel.md', 'midterm1-review.md', 'test2.txt', 'part2.md', '09CommandLine.md', 'project.md', '02DataRep.md', '06Python.ipynb', 'part3.md', '06PythonIInotes.md', 'data.csv', 'input.txt', 'Python6.md', 'part1.md', 'test.txt', '.ipynb_checkpoints', '07Python.ipynb', 'visualization.md', '12OpenData.md', 'labs.md', '05Databases.ipynb', '01Intro.md', 'output.txt']\n"
     ]
    }
   ],
   "source": [
    "import os \n",
    "print(os.listdir(\".\"))"
   ]
  },
  {
   "cell_type": "markdown",
   "metadata": {},
   "source": [
    "- We can also use the module pprint (for pretty print) to make this output a little neater:"
   ]
  },
  {
   "cell_type": "code",
   "execution_count": 31,
   "metadata": {
    "scrolled": true
   },
   "outputs": [
    {
     "name": "stdout",
     "output_type": "stream",
     "text": [
      "['03Excel.md',\n",
      " 'midterm1-review.md',\n",
      " 'test2.txt',\n",
      " 'part2.md',\n",
      " '09CommandLine.md',\n",
      " 'project.md',\n",
      " '02DataRep.md',\n",
      " '06Python.ipynb',\n",
      " 'part3.md',\n",
      " '06PythonIInotes.md',\n",
      " 'data.csv',\n",
      " 'input.txt',\n",
      " 'Python6.md',\n",
      " 'part1.md',\n",
      " 'test.txt',\n",
      " '.ipynb_checkpoints',\n",
      " '07Python.ipynb',\n",
      " 'visualization.md',\n",
      " '12OpenData.md',\n",
      " 'labs.md',\n",
      " '05Databases.ipynb',\n",
      " '01Intro.md',\n",
      " 'output.txt']\n"
     ]
    }
   ],
   "source": [
    "from pprint import pprint\n",
    "pprint(os.listdir(\".\"))"
   ]
  },
  {
   "cell_type": "code",
   "execution_count": 33,
   "metadata": {
    "scrolled": true
   },
   "outputs": [
    {
     "name": "stdout",
     "output_type": "stream",
     "text": [
      "['\\ufeff1', '3', '9', '27', '81', '243', '729']\n",
      "['2', '6', '18', '54', '162', '486', '1458']\n",
      "['3', '9', '27', '81', '243', '729', '2187']\n",
      "['4', '12', '36', '108', '324', '972', '2916']\n",
      "['5', '15', '45', '135', '405', '1215', '3645']\n",
      "['6', '18', '54', '162', '486', '1458', '4374']\n",
      "['7', '21', '63', '189', '567', '1701', '5103']\n",
      "['8', '24', '72', '216', '648', '1944', '5832']\n",
      "['9', '27', '81', '243', '729', '2187', '6561']\n",
      "['10', '30', '90', '270', '810', '2430', '7290']\n",
      "['11', '33', '99', '297', '891', '2673', '8019']\n",
      "['12', '36', '108', '324', '972', '2916', '8748']\n",
      "['13', '39', '117', '351', '1053', '3159', '9477']\n",
      "['14', '42', '126', '378', '1134', '3402', '10206']\n",
      "['15', '45', '135', '405', '1215', '3645', '10935']\n",
      "['16', '48', '144', '432', '1296', '3888', '11664']\n",
      "['17', '51', '153', '459', '1377', '4131', '12393']\n",
      "['18', '54', '162', '486', '1458', '4374', '13122']\n",
      "['19', '57', '171', '513', '1539', '4617', '13851']\n",
      "['20', '60', '180', '540', '1620', '4860', '14580']\n",
      "['21', '63', '189', '567', '1701', '5103', '15309']\n",
      "['22', '66', '198', '594', '1782', '5346', '16038']\n",
      "['23', '69', '207', '621', '1863', '5589', '16767']\n",
      "['24', '72', '216', '648', '1944', '5832', '17496']\n",
      "['25', '75', '225', '675', '2025', '6075', '18225']\n",
      "['26', '78', '234', '702', '2106', '6318', '18954']\n",
      "['27', '81', '243', '729', '2187', '6561', '19683']\n",
      "['28', '84', '252', '756', '2268', '6804', '20412']\n",
      "['29', '87', '261', '783', '2349', '7047', '21141']\n",
      "['30', '90', '270', '810', '2430', '7290', '21870']\n",
      "['31', '93', '279', '837', '2511', '7533', '22599']\n",
      "['32', '96', '288', '864', '2592', '7776', '23328']\n",
      "['33', '99', '297', '891', '2673', '8019', '24057']\n",
      "['34', '102', '306', '918', '2754', '8262', '24786']\n",
      "['35', '105', '315', '945', '2835', '8505', '25515']\n",
      "['36', '108', '324', '972', '2916', '8748', '26244']\n",
      "['37', '111', '333', '999', '2997', '8991', '26973']\n",
      "['38', '114', '342', '1026', '3078', '9234', '27702']\n",
      "['39', '117', '351', '1053', '3159', '9477', '28431']\n",
      "['40', '120', '360', '1080', '3240', '9720', '29160']\n",
      "['41', '123', '369', '1107', '3321', '9963', '29889']\n",
      "['42', '126', '378', '1134', '3402', '10206', '30618']\n",
      "['43', '129', '387', '1161', '3483', '10449', '31347']\n",
      "['44', '132', '396', '1188', '3564', '10692', '32076']\n"
     ]
    }
   ],
   "source": [
    "### Using modules: csv for CSV files\n",
    "import csv\n",
    "with open(\"data.csv\", \"r\") as infile:\n",
    "    csvfile = csv.reader(infile)\n",
    "    for row in csvfile:\n",
    "        print(row)"
   ]
  },
  {
   "cell_type": "markdown",
   "metadata": {},
   "source": [
    "- csvfile is a reader object we can iterate over in a for loop. 􏰀 \n",
    "- Each iteration corresponds to a line from data.csv.\n",
    "- Each row is a Python list of string elements containing the data found by removing the delimiters."
   ]
  },
  {
   "cell_type": "code",
   "execution_count": null,
   "metadata": {},
   "outputs": [],
   "source": [
    "print(type(csvfile)) \n",
    "print(type(row)) \n",
    "print(row)"
   ]
  },
  {
   "cell_type": "markdown",
   "metadata": {},
   "source": [
    "### Using modules: csv for CSV files\n",
    "- Remember that each element in this list is currently being treated as a string. Before we do any calculations on this numeric values, we need to convert them using float."
   ]
  },
  {
   "cell_type": "code",
   "execution_count": 34,
   "metadata": {},
   "outputs": [
    {
     "ename": "ValueError",
     "evalue": "could not convert string to float: '\\ufeff1'",
     "output_type": "error",
     "traceback": [
      "\u001b[0;31m---------------------------------------------------------------------------\u001b[0m",
      "\u001b[0;31mValueError\u001b[0m                                Traceback (most recent call last)",
      "\u001b[0;32m<ipython-input-34-a0b4921e0cd1>\u001b[0m in \u001b[0;36m<module>\u001b[0;34m\u001b[0m\n\u001b[1;32m      4\u001b[0m     \u001b[0mcsvfile\u001b[0m \u001b[0;34m=\u001b[0m \u001b[0mcsv\u001b[0m\u001b[0;34m.\u001b[0m\u001b[0mreader\u001b[0m\u001b[0;34m(\u001b[0m\u001b[0minfile\u001b[0m\u001b[0;34m)\u001b[0m\u001b[0;34m\u001b[0m\u001b[0;34m\u001b[0m\u001b[0m\n\u001b[1;32m      5\u001b[0m     \u001b[0;32mfor\u001b[0m \u001b[0mrow\u001b[0m \u001b[0;32min\u001b[0m \u001b[0mcsvfile\u001b[0m\u001b[0;34m:\u001b[0m\u001b[0;34m\u001b[0m\u001b[0;34m\u001b[0m\u001b[0m\n\u001b[0;32m----> 6\u001b[0;31m         \u001b[0;32mif\u001b[0m \u001b[0mfloat\u001b[0m\u001b[0;34m(\u001b[0m\u001b[0mrow\u001b[0m\u001b[0;34m[\u001b[0m\u001b[0;36m0\u001b[0m\u001b[0;34m]\u001b[0m\u001b[0;34m)\u001b[0m \u001b[0;34m>\u001b[0m \u001b[0;36m1\u001b[0m\u001b[0;34m:\u001b[0m\u001b[0;34m\u001b[0m\u001b[0;34m\u001b[0m\u001b[0m\n\u001b[0m\u001b[1;32m      7\u001b[0m             \u001b[0mprint\u001b[0m\u001b[0;34m(\u001b[0m\u001b[0mrow\u001b[0m\u001b[0;34m)\u001b[0m\u001b[0;34m\u001b[0m\u001b[0;34m\u001b[0m\u001b[0m\n\u001b[1;32m      8\u001b[0m \u001b[0;34m\u001b[0m\u001b[0m\n",
      "\u001b[0;31mValueError\u001b[0m: could not convert string to float: '\\ufeff1'"
     ]
    }
   ],
   "source": [
    "import csv\n",
    "# only print the rows that start with a number> 1 \n",
    "with open(\"data.csv\", \"r\") as infile:\n",
    "    csvfile = csv.reader(infile)\n",
    "    for row in csvfile:\n",
    "        if float(row[0]) > 1:\n",
    "            print(row)\n",
    "  "
   ]
  },
  {
   "cell_type": "markdown",
   "metadata": {},
   "source": [
    "```text\n",
    "Example\n",
    "How many of the following statements are TRUE?\n",
    "1. A Python file is automatically closed for you.\n",
    "2. If you use the with syntax, Python will close the file for you.\n",
    "3. To read from a file, use w when opening a file.\n",
    "4. The read() method will read the entire file into a string.\n",
    "5. You can use a for loop to iterate through all lines in a file.\n",
    "A) 0 B) 1 C) 2 D) 3 E) 4\n",
    "\n",
    "````"
   ]
  },
  {
   "cell_type": "markdown",
   "metadata": {},
   "source": [
    "Answer:\n",
    "How many of the following statements are TRUE?\n",
    "1. A Python file is automatically closed for you.\n",
    "2. If you use the with syntax, Python will close the file for\n",
    "you.\n",
    "3. To read from a file, use w when opening a file.\n",
    "4. The read() method will read the entire file into a string.\n",
    "5. You can use a for loop to iterate through all lines in a file.\n",
    "<br>A) 0 B) 1 C) 2 **D) 3** E) 4"
   ]
  },
  {
   "cell_type": "markdown",
   "metadata": {},
   "source": [
    "### Try it\n",
    "- Example\n",
    "1. Write a Python program that writes to the file test.txt the numbers from 20 to 10 on its own line in descending order.\n",
    "2. Write a Python program that reads your newly created test.txt file line by line and only prints out the value if it is even.\n",
    "3. Print out the contents of the census file [provinces.csv](https://www150.statcan.gc.ca/t1/tbl1/en/tv.action?pid=1710000501) available on Canvas (You may use the csv module).\n",
    "4. Try to print out only the provinces with population> 1 million people in 2015 from the data in 3. Hint: You will need to remove the commas from the numbers (eg. 44214 instead of 44,214) using the replace() function."
   ]
  },
  {
   "cell_type": "markdown",
   "metadata": {},
   "source": [
    "### Handling Errors and Exceptions\n",
    "- An **exception** is an error situation that must be handled or the program will fail.\n",
    "- **Exception handling** is how your program deals with these errors. Examples:\n",
    "- ZeroDivisionError Attempting to divide by zero\n",
    "- IndexError An array index that is out of bounds\n",
    "- TypeError operation is applied to an object of an incorrect type. NameError when an object could not be found\n",
    "- SyntaxError when a syntax error is encountered\n",
    "- See a list of all errors [here](https://www.tutorialsteacher.com/python/error-types-in-python)."
   ]
  },
  {
   "cell_type": "markdown",
   "metadata": {},
   "source": [
    "- Example taken from [here](https://docs.python.org/3/tutorial/errors.html)\n"
   ]
  },
  {
   "cell_type": "code",
   "execution_count": 37,
   "metadata": {},
   "outputs": [
    {
     "ename": "ZeroDivisionError",
     "evalue": "division by zero",
     "output_type": "error",
     "traceback": [
      "\u001b[0;31m---------------------------------------------------------------------------\u001b[0m",
      "\u001b[0;31mZeroDivisionError\u001b[0m                         Traceback (most recent call last)",
      "\u001b[0;32m<ipython-input-37-0b280f36835c>\u001b[0m in \u001b[0;36m<module>\u001b[0;34m\u001b[0m\n\u001b[0;32m----> 1\u001b[0;31m \u001b[0;36m10\u001b[0m \u001b[0;34m*\u001b[0m \u001b[0;34m(\u001b[0m\u001b[0;36m1\u001b[0m\u001b[0;34m/\u001b[0m\u001b[0;36m0\u001b[0m\u001b[0;34m)\u001b[0m\u001b[0;34m\u001b[0m\u001b[0;34m\u001b[0m\u001b[0m\n\u001b[0m",
      "\u001b[0;31mZeroDivisionError\u001b[0m: division by zero"
     ]
    }
   ],
   "source": [
    "10 * (1/0)"
   ]
  },
  {
   "cell_type": "markdown",
   "metadata": {},
   "source": [
    "- ZeroDivisionError: division by zero"
   ]
  },
  {
   "cell_type": "code",
   "execution_count": 38,
   "metadata": {},
   "outputs": [
    {
     "ename": "NameError",
     "evalue": "name 'spam' is not defined",
     "output_type": "error",
     "traceback": [
      "\u001b[0;31m---------------------------------------------------------------------------\u001b[0m",
      "\u001b[0;31mNameError\u001b[0m                                 Traceback (most recent call last)",
      "\u001b[0;32m<ipython-input-38-c98bb92cdcac>\u001b[0m in \u001b[0;36m<module>\u001b[0;34m\u001b[0m\n\u001b[0;32m----> 1\u001b[0;31m \u001b[0;36m4\u001b[0m \u001b[0;34m+\u001b[0m \u001b[0mspam\u001b[0m\u001b[0;34m*\u001b[0m\u001b[0;36m3\u001b[0m\u001b[0;34m\u001b[0m\u001b[0;34m\u001b[0m\u001b[0m\n\u001b[0m",
      "\u001b[0;31mNameError\u001b[0m: name 'spam' is not defined"
     ]
    }
   ],
   "source": [
    "4 + spam*3"
   ]
  },
  {
   "cell_type": "markdown",
   "metadata": {},
   "source": [
    "- NameError: name ’spam’ is not defined"
   ]
  },
  {
   "cell_type": "code",
   "execution_count": 39,
   "metadata": {},
   "outputs": [
    {
     "ename": "SyntaxError",
     "evalue": "invalid character in identifier (<ipython-input-39-2af446e6cb51>, line 1)",
     "output_type": "error",
     "traceback": [
      "\u001b[0;36m  File \u001b[0;32m\"<ipython-input-39-2af446e6cb51>\"\u001b[0;36m, line \u001b[0;32m1\u001b[0m\n\u001b[0;31m    ’2’ + 2\u001b[0m\n\u001b[0m      ^\u001b[0m\n\u001b[0;31mSyntaxError\u001b[0m\u001b[0;31m:\u001b[0m invalid character in identifier\n"
     ]
    }
   ],
   "source": [
    "’2’ + 2"
   ]
  },
  {
   "cell_type": "markdown",
   "metadata": {},
   "source": [
    "- TypeError: Can’t convert ’int’ object to str implicitly"
   ]
  },
  {
   "cell_type": "markdown",
   "metadata": {},
   "source": [
    "### The try-except statement\n",
    "- The try-except statement will handle an exception that may occur in a block of statements:\n",
    "- Execution flow:\n",
    "- The statements in the try block are executed.\n",
    "- If no exception occurs:\n",
    "    - If there is an else clause, it is executed.\n",
    "    - Continue on with next statement after try.\n",
    "- If an exception occurs:\n",
    "    - Execute the code after the except.\n",
    "- If the optional finally block is present, it is always executed regardless if there is an exception or not.\n",
    "- Keyword pass is used if any block has no statements. \n",
    "For more information see click [here](https://docs.python.org/3/tutorial/errors.html)"
   ]
  },
  {
   "cell_type": "markdown",
   "metadata": {},
   "source": [
    "### Python Exceptions Block\n",
    "- The general syntax is"
   ]
  },
  {
   "cell_type": "markdown",
   "metadata": {},
   "source": [
    "```text\n",
    "try:\n",
    "      # try something that may produce an exception\n",
    "  except ErrorName:\n",
    "      # only executed if an ErrorName exception\n",
    "      # is raised above\n",
    "  # the following lines (else and finally clauses)\n",
    "  # are optional:\n",
    "  else:\n",
    "      # only executed if no exception\n",
    "  finally:\n",
    "      # always executed\n",
    "\n",
    "\n",
    "```\n",
    "\n",
    "***N.B.*** A try statement may have more than one except clause, to specify handlers for different exceptions. However, at most one handler will be executed."
   ]
  },
  {
   "cell_type": "markdown",
   "metadata": {},
   "source": [
    "- This could be useful in the context of reading files: If we try to read a file that does not exist, we need not have our entire program fail, and try to catch this exception in the following manner:"
   ]
  },
  {
   "cell_type": "code",
   "execution_count": 45,
   "metadata": {},
   "outputs": [
    {
     "ename": "IndentationError",
     "evalue": "expected an indented block (<ipython-input-45-cb70654f6c02>, line 3)",
     "output_type": "error",
     "traceback": [
      "\u001b[0;36m  File \u001b[0;32m\"<ipython-input-45-cb70654f6c02>\"\u001b[0;36m, line \u001b[0;32m3\u001b[0m\n\u001b[0;31m    with open(filename, 'r') as f:\u001b[0m\n\u001b[0m       ^\u001b[0m\n\u001b[0;31mIndentationError\u001b[0m\u001b[0;31m:\u001b[0m expected an indented block\n"
     ]
    }
   ],
   "source": [
    "filename = 'nonexistingfile.txt' \n",
    "try:\n",
    "with open(filename, 'r') as f: \n",
    "    reader = csv.reader(f)\n",
    "    for row in reader:\n",
    "        pass #do stuff here\n",
    "except FileNotFoundError:\n",
    "    print(\"Could not read file:\", filename)"
   ]
  },
  {
   "cell_type": "markdown",
   "metadata": {},
   "source": [
    "- If the nonexistingfile.txt doesn’t live in our current working directory the above produces:\n",
    "- Could not read file: nonexistingfile.txt."
   ]
  },
  {
   "cell_type": "markdown",
   "metadata": {},
   "source": [
    "### Python Exceptions Block"
   ]
  },
  {
   "cell_type": "code",
   "execution_count": 46,
   "metadata": {},
   "outputs": [
    {
     "name": "stdout",
     "output_type": "stream",
     "text": [
      "Enter a number:10\n",
      "You entered: 10\n",
      "Thank you for the number\n",
      "Always do finally block\n"
     ]
    }
   ],
   "source": [
    "try:\n",
    "# try block, exit if error\n",
    "    num = int(input(\"Enter a number:\"))\n",
    "    print(\"You entered:\",num)\n",
    "except ValueError:\n",
    "          # only executed if exception\n",
    "          print(\"Error: Invalid number\")\n",
    "else:\n",
    "    print(\"Thank you for the number\")\n",
    "      \n",
    "finally:\n",
    "    print(\"Always do finally block\")"
   ]
  },
  {
   "cell_type": "markdown",
   "metadata": {},
   "source": [
    "- If the input has not been a valid integer, we will generate (raise) a ValueError."
   ]
  },
  {
   "cell_type": "markdown",
   "metadata": {},
   "source": [
    "### Python Exceptions Block\n",
    "We can be more generic and catch any error using the following\n",
    "try:\n",
    "     # try something that may produce an exception\n",
    "except:\n",
    "     # only executed if an exception is raised above\n",
    "else:\n",
    "     # only executed if no exception\n",
    "finally:\n",
    "     # always executed"
   ]
  },
  {
   "cell_type": "markdown",
   "metadata": {},
   "source": [
    "```text\n",
    "Example\n",
    "What is the output of the following code if we enter 10?\n",
    "try:\n",
    "num = int(input(\"Enter an integer:\")) print(num)\n",
    "except ValueError:\n",
    "    print(\"Invalid\")\n",
    "else:\n",
    "    print(\"Thanks\")\n",
    "finally:\n",
    "    print(\"Finally\")\n",
    "A)10 B)10    C)Invalid D)10       E)10\n",
    "      Finally            Thanks     Thanks\n",
    "                                    Finally\n",
    "\n",
    "\n",
    "```\n",
    "\n",
    "```\n",
    "Answer \n",
    "\n",
    "Example\n",
    "What is the output of the following code if we enter 10?\n",
    "try:\n",
    "num = int(input(\"Enter an integer:\")) print(num)\n",
    "except ValueError:\n",
    "    print(\"Invalid\")\n",
    "else:\n",
    "    print(\"Thanks\")\n",
    "finally:\n",
    "    print(\"Finally\")\n",
    "```    \n",
    "A)10  B)10 Finally    C)Invalid D)10 Thanks  ***E) 10 Thanks Finally***\n",
    "\n",
    "```\n",
    "Example\n",
    "What is the output of the following code if we enter \"hat\"? try:\n",
    " num = int(input(\"Enter an integer\"))\n",
    "    print(num)\n",
    "except ValueError:\n",
    "    print(\"Invalid\")\n",
    "else:\n",
    "    print(\"Thanks\")\n",
    "finally:\n",
    "    print(\"Finally\")\n",
    "A) hat B) Invalid C) Invalid D) hat       E) Finally  \n",
    "                     Finally    Thanks\n",
    "                                 Finally\n",
    "```\n",
    "```\n",
    "Answer\n",
    "Example\n",
    "What is the output of the following code if we enter \"hat\"? try:\n",
    " num = int(input(\"Enter an integer\"))\n",
    "    print(num)\n",
    "except ValueError:\n",
    "    print(\"Invalid\")\n",
    "else:\n",
    "    print(\"Thanks\")\n",
    "finally:\n",
    "    print(\"Finally\")\n",
    "   \n",
    " ```\n",
    "    \n",
    "A) hat B) Invalid ***C) Invalid Finally*** D) hat  Thanks    Finally  E) Finally  \n",
    "                         \n",
    "### Raising Errors\n",
    "- Note that we can always generate an error using the raise statement.                                "
   ]
  },
  {
   "cell_type": "code",
   "execution_count": 49,
   "metadata": {},
   "outputs": [],
   "source": [
    "def raiseHell():\n",
    "    try:\n",
    "        raise ValueError\n",
    "    except ValueError:\n",
    "        print(\"You raised Hell!\")                    \n",
    "                                                          \n",
    "                                    "
   ]
  },
  {
   "cell_type": "code",
   "execution_count": 50,
   "metadata": {},
   "outputs": [
    {
     "name": "stdout",
     "output_type": "stream",
     "text": [
      "You raised Hell!\n"
     ]
    }
   ],
   "source": [
    "#Calling this function produces:\n",
    "raiseHell()"
   ]
  },
  {
   "cell_type": "markdown",
   "metadata": {},
   "source": [
    "### Try it: Python Exceptions\n",
    "```text\n",
    "Example\n",
    "Write a Python program that reads two numbers and converts them to integers, prints both numbers, and then divides the first number by the second number and prints the result.\n",
    "􏰀 - If we get an exception ValueError when converting to an integer, print Invalid.\n",
    "􏰀 - If we get a ZeroDivisionError, print Cannot divide by 0!\n",
    "\n",
    "```\n",
    "\n",
    "### Internet Terminology\n",
    "- An Internet Protocol (IP) address is an identifier for any device – including computers, smartphones and game consoles – that connects to the Internet.\n",
    "- IP version 4 (IPv4) address comprise 32 bits: 4 numbers in the range of 0 to 255. The numbers are separated by dots. Eg: 142.255.0.1\n",
    "- While IPv4 accommodates over 4 billion addresses, the number of unused IPv4 addresses will eventually run out. For that reason, Internet Protocol version 6 (IPv6) is being deployed (which can accommodate 340 billion billion billion billion, addresses)\n",
    "    - IP version 6 (IPv6) address have 128 bits and are represented as a series of eight 4-character hexadecimal numbers. Eg:\n",
    "    - 2002 : CE57 : 25A2 : 0000 : 0000 : 0000 : CE57 : 25A2\n",
    "    \n",
    "### Internet Terminology\n",
    "- A domain is a related group of networked computers. A domain name is a text name for computer(s) that are easier to remember.\n",
    "    - Eg. [facebook.com](https://www.facebook.com) is the domain name for the IP address 31.13.80.36\n",
    "􏰀 Domain names are organized hierarchically. The most general part of the hierarchy is at the end of the name.\n",
    "􏰀 Example: people.ok.ubc.ca: ca = Canadian domain, ubc = University of British Columbia, ok = Okanagan campus, people = name of computer/server on campus\n",
    "Read more about this in this three part series [part 1](https://www.spiria.com/en/blog/internet/understanding-the-internet-part-1-ip-addressing-and-ports/), [part 2](https://www.spiria.com/en/blog/internet/understanding-the-internet-part-2-domain-names/), [part 3](https://www.spiria.com/en/blog/internet/understanding-the-internet-part-3-practical-applications/). \n",
    "\n",
    "### Internet terminology basics\n",
    "- A uniform resource locator (URL) is an address of an item on the Internet. A URL has three parts:\n",
    "    1. Protocol: http:// Hypertext Transfer Protocol: Tells the computer how to handle the file\n",
    "    2. Server computer’s domain name or IP address\n",
    "    3. Item’s path and name: Tells the server which item (file, page, resource) is requested and where to find it.\n",
    "- Example:\n",
    "    http://people.ok.ubc.ca/ivrbik/teaching.html\n",
    "    http protocol server domain name location of file/resource on server\n",
    "    \n",
    "### Accessing (GET) Web Sites via URL with Python\n",
    "urllib is a package that collects several modules for working with\n",
    "URLs:\n",
    "urllib.request for opening and reading URLs, more here \n",
    "urllib.parse for parsing URLs; more here"
   ]
  },
  {
   "cell_type": "code",
   "execution_count": 54,
   "metadata": {
    "scrolled": true
   },
   "outputs": [
    {
     "name": "stdout",
     "output_type": "stream",
     "text": [
      "b'<!doctype html><html itemscope=\"\" itemtype=\"http://schema.org/WebPage\" lang=\"en-CA\"><head><meta content=\"text/html; charset=UTF-8\" http-equiv=\"Content-Type\"><meta content=\"/images/branding/googleg/1x/googleg_standard_color_128dp.png\" itemprop=\"image\"><title>Google</title><script nonce=\"JAhuDxAKfuUPUPMnFdyNMw==\">(function(){window.google={kEI:\\'ILQiX7Vcgsv6BOX0rqAC\\',kEXPI:\\'0,18168,183955,3,4,32,1151585,5662,731,223,5104,207,2414,790,10,1226,364,1499,612,205,383,246,5,1354,648,371,624,51,1268,668,470,50,264,3,369,174,508,89,193,111,212,413,244,447,165,1120424,1197779,329488,13677,4855,32692,15247,867,28684,9188,8384,4859,1361,283,9008,3027,4740,11033,1808,4020,978,7932,5296,2054,920,873,1215,2977,2784,3646,14527,4518,1398,1379,919,2277,8,2796,1593,1279,2212,532,147,1103,841,519,1463,56,4258,109,203,1136,3,2063,606,2023,1777,143,377,1947,2209,113,328,1284,16,2927,2247,1812,1787,3227,2845,9,5597,469,6286,4455,641,2449,3685,1743,4928,108,1456,297,1654,908,2,941,2614,2397,1386,6084,840,1337,1098,3,241,335,970,865,3918,706,149,189,3313,2042,47,401,2250,1992,1997,1093,651,4,1528,1294,1010,1228,8,271,874,405,42,1818,177,1640,278,372,20,1697,52,214,1202,961,464,203,256,120,755,468,212,601,3466,153,140,1972,86,3,1493,1787,1426,69,1321,1094,200,2070,741,1409,344,690,1542,426,245,247,53,1628,312,1569,108,81,320,200,23,621,266,256,21,209,78,791,16,311,27,5,461,28,419,1154,6,153,61,429,563,495,222,2,655,61,144,2,215,237,46,1080,224,430,527,4,119,18,2,2,200,21,149,535,1513,1238,271,1235,621,44,4,2,36,326,354,169,588,85,979,356,5781829,12,3511,5997462,2800931,549,333,444,1,2,80,1,900,896,1,9,2,2551,1,748,141,59,736,563,1,4265,1,1,2,1017,9,305,3299,150,3,63,14,18,61,9,2,92,3502033,17238639,3220020,2704831\\',kBL:\\'YyCE\\'};google.sn=\\'webhp\\';google.kHL=\\'en-CA\\';})();(function(){google.lc=[];google.li=0;google.getEI=function(a){for(var c;a&&(!a.getAttribute||!(c=a.getAttribute(\"eid\")));)a=a.parentNode;return c||google.kEI};google.getLEI=function(a){for(var c=null;a&&(!a.getAttribute||!(c=a.getAttribute(\"leid\")));)a=a.parentNode;return c};google.ml=function(){return null};google.time=function(){return Date.now()};google.log=function(a,c,b,d,g){if(b=google.logUrl(a,c,b,d,g)){a=new Image;var e=google.lc,f=google.li;e[f]=a;a.onerror=a.onload=a.onabort=function(){delete e[f]};google.vel&&google.vel.lu&&google.vel.lu(b);a.src=b;google.li=f+1}};google.logUrl=function(a,c,b,d,g){var e=\"\",f=google.ls||\"\";b||-1!=c.search(\"&ei=\")||(e=\"&ei=\"+google.getEI(d),-1==c.search(\"&lei=\")&&(d=google.getLEI(d))&&(e+=\"&lei=\"+d));d=\"\";!b&&google.cshid&&-1==c.search(\"&cshid=\")&&\"slh\"!=a&&(d=\"&cshid=\"+google.cshid);b=b||\"/\"+(g||\"gen_204\")+\"?atyp=i&ct=\"+a+\"&cad=\"+c+e+f+\"&zx=\"+google.time()+d;/^http:/i.test(b)&&\"https:\"==window.location.protocol&&(google.ml(Error(\"a\"),!1,{src:b,glmm:1}),b=\"\");return b};}).call(this);(function(){google.y={};google.x=function(a,b){if(a)var c=a.id;else{do c=Math.random();while(google.y[c])}google.y[c]=[a,b];return!1};google.lm=[];google.plm=function(a){google.lm.push.apply(google.lm,a)};google.lq=[];google.load=function(a,b,c){google.lq.push([[a],b,c])};google.loadAll=function(a,b){google.lq.push([a,b])};}).call(this);google.f={};(function(){\\ndocument.documentElement.addEventListener(\"submit\",function(b){var a;if(a=b.target){var c=a.getAttribute(\"data-submitfalse\");a=\"1\"==c||\"q\"==c&&!a.elements.q.value?!0:!1}else a=!1;a&&(b.preventDefault(),b.stopPropagation())},!0);document.documentElement.addEventListener(\"click\",function(b){var a;a:{for(a=b.target;a&&a!=document.documentElement;a=a.parentElement)if(\"A\"==a.tagName){a=\"1\"==a.getAttribute(\"data-nohref\");break a}a=!1}a&&b.preventDefault()},!0);}).call(this);\\nvar a=window.location,b=a.href.indexOf(\"#\");if(0<=b){var c=a.href.substring(b+1);/(^|&)q=/.test(c)&&-1==c.indexOf(\"#\")&&a.replace(\"/search?\"+c.replace(/(^|&)fp=[^&]*/g,\"\")+\"&cad=h\")};</script><style>#gbar,#guser{font-size:13px;padding-top:1px !important;}#gbar{height:22px}#guser{padding-bottom:7px !important;text-align:right}.gbh,.gbd{border-top:1px solid #c9d7f1;font-size:1px}.gbh{height:0;position:absolute;top:24px;width:100%}@media all{.gb1{height:22px;margin-right:.5em;vertical-align:top}#gbar{float:left}}a.gb1,a.gb4{text-decoration:underline !important}a.gb1,a.gb4{color:#00c !important}.gbi .gb4{color:#dd8e27 !important}.gbf .gb4{color:#900 !important}\\n</style><style>body,td,a,p,.h{font-family:arial,sans-serif}body{margin:0;overflow-y:scroll}#gog{padding:3px 8px 0}td{line-height:.8em}.gac_m td{line-height:17px}form{margin-bottom:20px}.h{color:#36c}.q{color:#00c}em{font-weight:bold;font-style:normal}.lst{height:25px;width:496px}.gsfi,.lst{font:18px arial,sans-serif}.gsfs{font:17px arial,sans-serif}.ds{display:inline-box;display:inline-block;margin:3px 0 4px;margin-left:4px}input{font-family:inherit}body{background:#fff;color:#000}a{color:#11c;text-decoration:none}a:hover,a:active{text-decoration:underline}.fl a{color:#36c}a:visited{color:#551a8b}.sblc{padding-top:5px}.sblc a{display:block;margin:2px 0;margin-left:13px;font-size:11px}.lsbb{background:#eee;border:solid 1px;border-color:#ccc #999 #999 #ccc;height:30px}.lsbb{display:block}#fll a{display:inline-block;margin:0 12px}.lsb{background:url(/images/nav_logo229.png) 0 -261px repeat-x;border:none;color:#000;cursor:pointer;height:30px;margin:0;outline:0;font:15px arial,sans-serif;vertical-align:top}.lsb:active{background:#ccc}.lst:focus{outline:none}</style><script nonce=\"JAhuDxAKfuUPUPMnFdyNMw==\"></script></head><body bgcolor=\"#fff\"><script nonce=\"JAhuDxAKfuUPUPMnFdyNMw==\">(function(){var src=\\'/images/nav_logo229.png\\';var iesg=false;document.body.onload = function(){window.n && window.n();if (document.images){new Image().src=src;}\\nif (!iesg){document.f&&document.f.q.focus();document.gbqf&&document.gbqf.q.focus();}\\n}\\n})();</script><div id=\"mngb\"><div id=gbar><nobr><b class=gb1>Search</b> <a class=gb1 href=\"http://www.google.ca/imghp?hl=en&tab=wi\">Images</a> <a class=gb1 href=\"http://maps.google.ca/maps?hl=en&tab=wl\">Maps</a> <a class=gb1 href=\"https://play.google.com/?hl=en&tab=w8\">Play</a> <a class=gb1 href=\"http://www.youtube.com/?gl=CA&tab=w1\">YouTube</a> <a class=gb1 href=\"http://news.google.ca/nwshp?hl=en&tab=wn\">News</a> <a class=gb1 href=\"https://mail.google.com/mail/?tab=wm\">Gmail</a> <a class=gb1 href=\"https://drive.google.com/?tab=wo\">Drive</a> <a class=gb1 style=\"text-decoration:none\" href=\"https://www.google.ca/intl/en/about/products?tab=wh\"><u>More</u> &raquo;</a></nobr></div><div id=guser width=100%><nobr><span id=gbn class=gbi></span><span id=gbf class=gbf></span><span id=gbe></span><a href=\"http://www.google.ca/history/optout?hl=en\" class=gb4>Web History</a> | <a  href=\"/preferences?hl=en\" class=gb4>Settings</a> | <a target=_top id=gb_70 href=\"https://accounts.google.com/ServiceLogin?hl=en&passive=true&continue=http://www.google.com/\" class=gb4>Sign in</a></nobr></div><div class=gbh style=left:0></div><div class=gbh style=right:0></div></div><center><br clear=\"all\" id=\"lgpd\"><div id=\"lga\"><img alt=\"Google\" height=\"92\" src=\"/images/branding/googlelogo/1x/googlelogo_white_background_color_272x92dp.png\" style=\"padding:28px 0 14px\" width=\"272\" id=\"hplogo\"><br><br></div><form action=\"/search\" name=\"f\"><table cellpadding=\"0\" cellspacing=\"0\"><tr valign=\"top\"><td width=\"25%\">&nbsp;</td><td align=\"center\" nowrap=\"\"><input name=\"ie\" value=\"ISO-8859-1\" type=\"hidden\"><input value=\"en-CA\" name=\"hl\" type=\"hidden\"><input name=\"source\" type=\"hidden\" value=\"hp\"><input name=\"biw\" type=\"hidden\"><input name=\"bih\" type=\"hidden\"><div class=\"ds\" style=\"height:32px;margin:4px 0\"><input class=\"lst\" style=\"margin:0;padding:5px 8px 0 6px;vertical-align:top;color:#000\" autocomplete=\"off\" value=\"\" title=\"Google Search\" maxlength=\"2048\" name=\"q\" size=\"57\"></div><br style=\"line-height:0\"><span class=\"ds\"><span class=\"lsbb\"><input class=\"lsb\" value=\"Google Search\" name=\"btnG\" type=\"submit\"></span></span><span class=\"ds\"><span class=\"lsbb\"><input class=\"lsb\" id=\"tsuid1\" value=\"I\\'m Feeling Lucky\" name=\"btnI\" type=\"submit\"><script nonce=\"JAhuDxAKfuUPUPMnFdyNMw==\">(function(){var id=\\'tsuid1\\';document.getElementById(id).onclick = function(){if (this.form.q.value){this.checked = 1;if (this.form.iflsig)this.form.iflsig.disabled = false;}\\nelse top.location=\\'/doodles/\\';};})();</script><input value=\"AINFCbYAAAAAXyLCMHo3NmhOuwsoEwHrNxxPdoxyoBvf\" name=\"iflsig\" type=\"hidden\"></span></span></td><td class=\"fl sblc\" align=\"left\" nowrap=\"\" width=\"25%\"><a href=\"/advanced_search?hl=en-CA&amp;authuser=0\">Advanced search</a></td></tr></table><input id=\"gbv\" name=\"gbv\" type=\"hidden\" value=\"1\"><script nonce=\"JAhuDxAKfuUPUPMnFdyNMw==\">(function(){var a,b=\"1\";if(document&&document.getElementById)if(\"undefined\"!=typeof XMLHttpRequest)b=\"2\";else if(\"undefined\"!=typeof ActiveXObject){var c,d,e=[\"MSXML2.XMLHTTP.6.0\",\"MSXML2.XMLHTTP.3.0\",\"MSXML2.XMLHTTP\",\"Microsoft.XMLHTTP\"];for(c=0;d=e[c++];)try{new ActiveXObject(d),b=\"2\"}catch(h){}}a=b;if(\"2\"==a&&-1==location.search.indexOf(\"&gbv=2\")){var f=google.gbvu,g=document.getElementById(\"gbv\");g&&(g.value=a);f&&window.setTimeout(function(){location.href=f},0)};}).call(this);</script></form><div id=\"gac_scont\"></div><div style=\"font-size:83%;min-height:3.5em\"><br><div id=\"gws-output-pages-elements-homepage_additional_languages__als\"><style>#gws-output-pages-elements-homepage_additional_languages__als{font-size:small;margin-bottom:24px}#SIvCob{display:inline-block;line-height:28px;}#SIvCob a{padding:0 3px;}.H6sW5{display:inline-block;margin:0 2px;white-space:nowrap}.z4hgWe{display:inline-block;margin:0 2px}</style><div id=\"SIvCob\">Google offered in:  <a href=\"http://www.google.com/setprefs?sig=0_JAcGv0JnZpSmuq20d2obGxA6s_Q%3D&amp;hl=fr&amp;source=homepage&amp;sa=X&amp;ved=0ahUKEwi17PXH9PTqAhWCpZ4KHWW6CyQQ2ZgBCAU\">Fran\\xe7ais</a>  </div></div></div><span id=\"footer\"><div style=\"font-size:10pt\"><div style=\"margin:19px auto;text-align:center\" id=\"fll\"><a href=\"/intl/en/ads/\">Advertising\\xa0Programs</a><a href=\"/services/\">Business Solutions</a><a href=\"/intl/en/about.html\">About Google</a><a href=\"http://www.google.com/setprefdomain?prefdom=CA&amp;prev=http://www.google.ca/&amp;sig=K_2fZ8AxI-gPRMI6dlhXmEtDtsgxc%3D\">Google.ca</a></div></div><p style=\"font-size:8pt;color:#767676\">&copy; 2020 - <a href=\"/intl/en/policies/privacy/\">Privacy</a> - <a href=\"/intl/en/policies/terms/\">Terms</a></p></span></center><script nonce=\"JAhuDxAKfuUPUPMnFdyNMw==\">(function(){window.google.cdo={height:0,width:0};(function(){var a=window.innerWidth,b=window.innerHeight;if(!a||!b){var c=window.document,d=\"CSS1Compat\"==c.compatMode?c.documentElement:c.body;a=d.clientWidth;b=d.clientHeight}a&&b&&(a!=google.cdo.width||b!=google.cdo.height)&&google.log(\"\",\"\",\"/client_204?&atyp=i&biw=\"+a+\"&bih=\"+b+\"&ei=\"+google.kEI);}).call(this);})();(function(){var u=\\'/xjs/_/js/k\\\\x3dxjs.hp.en.Dt95BcOnsgs.O/m\\\\x3dsb_he,d/am\\\\x3dAE-wOQ/d\\\\x3d1/rs\\\\x3dACT90oEUVDfnrWuYXC3ChkVH2PL9bNnEUQ\\';\\nsetTimeout(function(){var b=document;var a=\"SCRIPT\";\"application/xhtml+xml\"===b.contentType&&(a=a.toLowerCase());a=b.createElement(a);a.src=u;google.timers&&google.timers.load&&google.tick&&google.tick(\"load\",\"xjsls\");document.body.appendChild(a)},0);})();(function(){window.google.xjsu=\\'/xjs/_/js/k\\\\x3dxjs.hp.en.Dt95BcOnsgs.O/m\\\\x3dsb_he,d/am\\\\x3dAE-wOQ/d\\\\x3d1/rs\\\\x3dACT90oEUVDfnrWuYXC3ChkVH2PL9bNnEUQ\\';})();function _DumpException(e){throw e;}\\nfunction _F_installCss(c){}\\n(function(){google.jl={dw:false,em:[],emw:false,lls:\\'default\\',pdt:0,snet:true,uwp:true};})();(function(){var pmc=\\'{\\\\x22d\\\\x22:{},\\\\x22sb_he\\\\x22:{\\\\x22agen\\\\x22:false,\\\\x22cgen\\\\x22:false,\\\\x22client\\\\x22:\\\\x22heirloom-hp\\\\x22,\\\\x22dh\\\\x22:true,\\\\x22dhqt\\\\x22:true,\\\\x22ds\\\\x22:\\\\x22\\\\x22,\\\\x22ffql\\\\x22:\\\\x22en\\\\x22,\\\\x22fl\\\\x22:true,\\\\x22host\\\\x22:\\\\x22google.com\\\\x22,\\\\x22isbh\\\\x22:28,\\\\x22jsonp\\\\x22:true,\\\\x22msgs\\\\x22:{\\\\x22cibl\\\\x22:\\\\x22Clear Search\\\\x22,\\\\x22dym\\\\x22:\\\\x22Did you mean:\\\\x22,\\\\x22lcky\\\\x22:\\\\x22I\\\\\\\\u0026#39;m Feeling Lucky\\\\x22,\\\\x22lml\\\\x22:\\\\x22Learn more\\\\x22,\\\\x22oskt\\\\x22:\\\\x22Input tools\\\\x22,\\\\x22psrc\\\\x22:\\\\x22This search was removed from your \\\\\\\\u003Ca href\\\\x3d\\\\\\\\\\\\x22/history\\\\\\\\\\\\x22\\\\\\\\u003EWeb History\\\\\\\\u003C/a\\\\\\\\u003E\\\\x22,\\\\x22psrl\\\\x22:\\\\x22Remove\\\\x22,\\\\x22sbit\\\\x22:\\\\x22Search by image\\\\x22,\\\\x22srch\\\\x22:\\\\x22Google Search\\\\x22},\\\\x22ovr\\\\x22:{},\\\\x22pq\\\\x22:\\\\x22\\\\x22,\\\\x22refpd\\\\x22:true,\\\\x22rfs\\\\x22:[],\\\\x22sbpl\\\\x22:16,\\\\x22sbpr\\\\x22:16,\\\\x22scd\\\\x22:10,\\\\x22stok\\\\x22:\\\\x22R5N-E0LpPzc3a5Mg74hd0vF_zv8\\\\x22,\\\\x22uhde\\\\x22:false}}\\';google.pmc=JSON.parse(pmc);})();</script>        </body></html>'\n"
     ]
    }
   ],
   "source": [
    "import urllib.request\n",
    "# dont forget the http:// \n",
    "loc=\"http://google.com\"\n",
    "site = urllib.request.urlopen(loc) \n",
    "contents = site.read() \n",
    "print(contents)\n",
    "site.close()"
   ]
  },
  {
   "cell_type": "markdown",
   "metadata": {},
   "source": [
    "### Engine Search with Python\n",
    "- The URL (that we have input as a string) must be properly URL encoded.\n",
    "- Rather than learning the URL encoding language, we can use urllib.parse.urlencode to do it for us.\n",
    "- Notes:\n",
    "    - [Requests](https://requests.readthedocs.io/en/master/) package is even higher-level and easy to use\n",
    "    - urllib.request.urlopen could also take a Request object(like a .txt document which can be read) as an argument."
   ]
  },
  {
   "cell_type": "markdown",
   "metadata": {},
   "source": [
    "- To get a shallow understanding of what is going on under the hood, go to www.ask.com and search (or query) \"data analysis\".\n",
    "- You’ll get a new URL that might look something like this: https://www.ask.com/web?q=data+analysis\n",
    "- In the above the q is a parameter, with the input data+analysis\n",
    "- We will save this information in a python dictionary (called values on the next slide) and pass it to the urlencoder:"
   ]
  },
  {
   "cell_type": "code",
   "execution_count": 55,
   "metadata": {},
   "outputs": [
    {
     "name": "stdout",
     "output_type": "stream",
     "text": [
      "q=data+analysis\n"
     ]
    },
    {
     "ename": "NameError",
     "evalue": "name 'analysis' is not defined",
     "output_type": "error",
     "traceback": [
      "\u001b[0;31m---------------------------------------------------------------------------\u001b[0m",
      "\u001b[0;31mNameError\u001b[0m                                 Traceback (most recent call last)",
      "\u001b[0;32m<ipython-input-55-ca352c0d154d>\u001b[0m in \u001b[0;36m<module>\u001b[0;34m\u001b[0m\n\u001b[1;32m      2\u001b[0m \u001b[0mdata\u001b[0m \u001b[0;34m=\u001b[0m \u001b[0murllib\u001b[0m\u001b[0;34m.\u001b[0m\u001b[0mparse\u001b[0m\u001b[0;34m.\u001b[0m\u001b[0murlencode\u001b[0m\u001b[0;34m(\u001b[0m\u001b[0mvalues\u001b[0m\u001b[0;34m)\u001b[0m\u001b[0;34m\u001b[0m\u001b[0;34m\u001b[0m\u001b[0m\n\u001b[1;32m      3\u001b[0m \u001b[0mprint\u001b[0m\u001b[0;34m(\u001b[0m\u001b[0mdata\u001b[0m\u001b[0;34m)\u001b[0m\u001b[0;34m\u001b[0m\u001b[0;34m\u001b[0m\u001b[0m\n\u001b[0;32m----> 4\u001b[0;31m \u001b[0mq\u001b[0m\u001b[0;34m=\u001b[0m\u001b[0mdata\u001b[0m\u001b[0;34m+\u001b[0m\u001b[0manalysis\u001b[0m\u001b[0;34m\u001b[0m\u001b[0;34m\u001b[0m\u001b[0m\n\u001b[0m\u001b[1;32m      5\u001b[0m \u001b[0mdata\u001b[0m \u001b[0;34m=\u001b[0m \u001b[0mdata\u001b[0m\u001b[0;34m.\u001b[0m\u001b[0mencode\u001b[0m\u001b[0;34m(\u001b[0m\u001b[0;34m'utf-8'\u001b[0m\u001b[0;34m)\u001b[0m\u001b[0;34m\u001b[0m\u001b[0;34m\u001b[0m\u001b[0m\n\u001b[1;32m      6\u001b[0m \u001b[0mprint\u001b[0m\u001b[0;34m(\u001b[0m\u001b[0mdata\u001b[0m\u001b[0;34m)\u001b[0m\u001b[0;34m\u001b[0m\u001b[0;34m\u001b[0m\u001b[0m\n",
      "\u001b[0;31mNameError\u001b[0m: name 'analysis' is not defined"
     ]
    }
   ],
   "source": [
    "values = {'q':'data analysis'}\n",
    "data = urllib.parse.urlencode(values) \n",
    "print(data)\n",
    "q=data+analysis\n",
    "data = data.encode('utf-8')\n",
    "print(data)\n",
    "b'q=data+analysis'"
   ]
  },
  {
   "cell_type": "code",
   "execution_count": 57,
   "metadata": {
    "scrolled": true
   },
   "outputs": [
    {
     "name": "stdout",
     "output_type": "stream",
     "text": [
      "b'<!DOCTYPE html>\\n<html lang=\"en\">\\n<head>\\n    <script src=\"/s/0-5-5/usp-api.min.js\"></script>\\n    <meta charset=\"UTF-8\"/>\\n    <meta name=\"referrer\" content=\"no-referrer-when-downgrade\" />\\n    <meta name=\"viewport\" content=\"width=device-width,initial-scale=1\"/>\\n\\n    \\n\\n<title>Ask.com - What\\'s Your Question?</title>\\n\\n\\n<meta property=\"og:image\" content=\"//www.ask.com/logo.png\" />\\n\\n\\n<meta name=\"description\" content=\"Ask.com is the #1 question answering service that delivers the best answers from the web and real people - all in one place.\">\\n    <meta property=\"og:description\" content=\"Ask.com is the #1 question answering service that delivers the best answers from the web and real people - all in one place.\"/>\\n\\n\\n<meta property=\"og:title\" content=\"Ask.com - What&#39;s Your Question?\"/>\\n\\n\\n<meta property=\"og:url\" content=\"https://www.ask.com/\" />\\n\\n\\n<meta property=\"og:site_name\" content=\"Ask.com\"/>\\n\\n\\n\\n<meta property=\"fb:pages\" content=\"123118179545\"/>\\n\\n\\n<link rel=\"canonical\" href=\"https://www.ask.com/\"/>\\n\\n\\n<meta name=\"twitter:card\" content=\"summary\" />\\n    <meta name=\"twitter:site\" content=\"@AskDotCom\" />\\n\\n\\n\\n<link rel=\"search\" type=\"application/opensearchdescription+xml\" href=\"//www.ask.com/ask-search.xml\" title=\"Ask Search\">\\n\\n\\n\\n\\n<link rel=\"stylesheet\" type=\"text/css\" href=\"/s/0-5-5/site-ask-sites-askus-home-page.css\"/>\\n    <script>\\n        var App = {};\\n    </script>\\n    \\n\\n\\n<script>\\n        window.rtkGPTSlotsTargeting = [\\n            [       \\n                [\\'ptype\\', \\'web\\'],\\n                [\\'an\\', \\'organic\\'],\\n                [\\'ad\\', \\'dirN\\'],\\n                [\\'ag\\', \\'\\'],\\n                [\\'origin\\', \\'0\\'],\\n                \\n[\\'ldid\\', \\'\\'],\\n                [\\'EventID\\', \\'1D29A84D-6DAF-4CF7-B0C3-57D05B61E650\\'],\\n                [\\'PageSegment\\', \\'3\\'],\\n                \\n\\n\\n\\n\\n                \\n            ],\\n            {}\\n        ];\\n        \\nwindow.rtkGPTSlotsTargeting[1][\\'/322166814/iacpl-test.www.ask.com/Ask_Desktop_Home_Center1_728x90\\'] = [[\\'pos\\',\\'right-1\\']];\\n        \\n\\nvar jita_tg_params = {};\\n        jita_tg_params[\\'channel\\'] = \\'home\\';\\n        jita_tg_params[\\'pageType\\'] = \\'homePage\\';\\n        jita_tg_params[\\'an\\'] = \\'organic\\';\\n        jita_tg_params[\\'ad\\'] = \\'dirN\\';\\n        \\n\\njita_tg_params[\\'origin\\'] = \\'0\\';\\n        jita_tg_params[\\'ldId\\'] = \\'\\';\\n        jita_tg_params[\\'EventID\\'] = \\'1D29A84D-6DAF-4CF7-B0C3-57D05B61E650\\';\\n        jita_tg_params[\\'PageSegment\\'] = \\'3\\';\\n        \\n\\n\\n\\n\\n\\n   \\n\\n    \\n\\n\\n\\n</script>\\n\\n\\n<script type=\"text/javascript\" src=\"//delivery.askmediagroup.com/mh1l/SiN9_4OIb_R485_erzF/jita.js?dfp=1\" async defer></script>\\n\\n\\n\\n<script>\\n        var isDataLayerDefined = (typeof dataLayer !== \"undefined\");\\n\\n        var dataObj = {\\n            \"ldid\": \"\",\\n            \"channel\": \"home\",\\n            \"affiliateid\": \"0\",\\n            \"sessionid\": \"830078671\",\\n            \"acquisitiondivision\": \"dirN\"\\n        };\\n\\n        \\n\\n\\nif (isDataLayerDefined) {\\n            dataLayer.push(dataObj);\\n        } else {\\n            var dataLayer = [dataObj];\\n        }\\n\\n    </script>\\n\\n    \\n    <noscript><iframe src=\"//www.googletagmanager.com/ns.html?id=GTM-T3KVMC\" height=\"0\" width=\"0\" style=\"display:none;visibility:hidden\"></iframe></noscript>\\n    <script>(function(w,d,s,l,i){w[l]=w[l]||[];w[l].push({\\'gtm.start\\': new Date().getTime(),event:\\'gtm.js\\'});var f=d.getElementsByTagName(s)[0], j=d.createElement(s),dl=l!=\\'dataLayer_temp\\'?\\'&l=\\'+l:\\'\\';j.async=true;j.src=\\'//www.googletagmanager.com/gtm.js?id=\\'+i+dl;f.parentNode.insertBefore(j,f);\\n    })(window,document,\\'script\\',\\'dataLayer\\',\\'GTM-T3KVMC\\');</script>\\n    \\n\\n\\n\\n\\n\\n\\n\\n\\n<script>\\n        !function(f,b,e,v,n,t,s){if(f.fbq)return;n=f.fbq=function(){n.callMethod?\\n                n.callMethod.apply(n,arguments):n.queue.push(arguments)};if(!f._fbq)f._fbq=n;\\n            n.push=n;n.loaded=!0;n.version=\\'2.0\\';n.queue=[];t=b.createElement(e);t.async=!0;\\n            t.src=v;s=b.getElementsByTagName(e)[0];s.parentNode.insertBefore(t,s)}(window,\\n                document,\\'script\\',\\'https://connect.facebook.net/en_US/fbevents.js\\');\\n\\n            \\n\\nfbq(\\'init\\', \\'1236983599798824\\');\\n            \\nfbq(\\'track\\', \\'PageView\\');\\n        fbq(\\'track\\', \\'ViewContent\\');\\n\\n    </script>\\n\\n\\n\\n\\n\\n\\n\\n\\n\\n\\n\\n\\n\\n\\n\\n\\n\\n\\n\\n\\n\\n\\n\\n\\n\\n\\n</head>\\n<body>\\n\\n<div class=\"row\">\\n        <div class=\"col col-12\">\\n            <div class=\"l-top\">\\n                \\n\\n<div class=\"PartialBrowserExtension\">\\n    <div class=\"PartialBrowserExtension-wrapper\">\\n        <div class=\"PartialBrowserExtension-left \">\\n                <p>Make <svg xmlns=\"http://www.w3.org/2000/svg\" xmlns:xlink=\"http://www.w3.org/1999/xlink\"  viewBox=\"0 0 85.137 61.882\"><defs><style>.a{fill:none;}.b{clip-path:url(#a);}.c{clip-path:url(#b);}.d{fill:#cf0000;}.e{fill:#fff;}.f{fill:#bfbfbf;}</style><clipPath id=\"a\"><rect class=\"a\" width=\"85.137\" height=\"61.882\"/></clipPath><clipPath id=\"b\"><path class=\"a\" d=\"M7.056,54.048A24.865,24.865,0,0,0,9.13,55.7a32.77,32.77,0,0,0,11.984,5.126,48.513,48.513,0,0,0,15.019.813,58.227,58.227,0,0,0,6.691-1.032,61.375,61.375,0,0,0,8.747-2.563q2.167-.811,4.271-1.778a58.785,58.785,0,0,0,9.42-5.42q1.5-1.066,2.933-2.233.687-.561,1.346-1.138,1.024-.9,2-1.848.182-.177.362-.358,1.132-1.132,2.183-2.339,1.024-1.178,1.959-2.428a31.988,31.988,0,0,0,5.782-12.19,21.832,21.832,0,0,0-.851-12.578A19.87,19.87,0,0,0,79.39,12.6a21.676,21.676,0,0,0-2.909-3.715C76.1,8.5,75.674,8.165,75.265,7.8c-.44-.392-.9-.75-1.366-1.108a26.967,26.967,0,0,0-3.03-2.012,34.473,34.473,0,0,0-9.709-3.644A48.175,48.175,0,0,0,47.352.142a57.07,57.07,0,0,0-7.56,1.073,62.26,62.26,0,0,0-9.016,2.622c-1.374.514-2.7,1.074-4,1.667a57.705,57.705,0,0,0-11.725,7.07c-.753.59-1.486,1.209-2.19,1.825-.411.359-.831.735-1.23,1.107a45.507,45.507,0,0,0-3.268,3.363c-.772.886-1.495,1.781-2.19,2.727A32.081,32.081,0,0,0,.632,33.19a21.717,21.717,0,0,0,.657,12.632c.12.316.249.627.385.934a20.153,20.153,0,0,0,1.4,2.629,21.4,21.4,0,0,0,1.814,2.457q.158.185.32.367a22.7,22.7,0,0,0,1.844,1.84Z\" transform=\"translate(0)\"/></clipPath></defs><g class=\"b\"><g transform=\"translate(0 0)\"><path class=\"a\" d=\"M7.056,54.048A24.865,24.865,0,0,0,9.13,55.7a32.77,32.77,0,0,0,11.984,5.126,48.513,48.513,0,0,0,15.019.813,58.227,58.227,0,0,0,6.691-1.032,61.375,61.375,0,0,0,8.747-2.563q2.167-.811,4.271-1.778a58.785,58.785,0,0,0,9.42-5.42q1.5-1.066,2.933-2.233.687-.561,1.346-1.138,1.024-.9,2-1.848.182-.177.362-.358,1.132-1.132,2.183-2.339,1.024-1.178,1.959-2.428a31.988,31.988,0,0,0,5.782-12.19,21.832,21.832,0,0,0-.851-12.578A19.87,19.87,0,0,0,79.39,12.6a21.676,21.676,0,0,0-2.909-3.715C76.1,8.5,75.674,8.165,75.265,7.8c-.44-.392-.9-.75-1.366-1.108a26.967,26.967,0,0,0-3.03-2.012,34.473,34.473,0,0,0-9.709-3.644A48.175,48.175,0,0,0,47.352.142a57.07,57.07,0,0,0-7.56,1.073,62.26,62.26,0,0,0-9.016,2.622c-1.374.514-2.7,1.074-4,1.667a57.705,57.705,0,0,0-11.725,7.07c-.753.59-1.486,1.209-2.19,1.825-.411.359-.831.735-1.23,1.107a45.507,45.507,0,0,0-3.268,3.363c-.772.886-1.495,1.781-2.19,2.727A32.081,32.081,0,0,0,.632,33.19a21.717,21.717,0,0,0,.657,12.632c.12.316.249.627.385.934a20.153,20.153,0,0,0,1.4,2.629,21.4,21.4,0,0,0,1.814,2.457q.158.185.32.367a22.7,22.7,0,0,0,1.844,1.84Z\" transform=\"translate(0)\"/><g class=\"c\" transform=\"translate(0 0)\"><path class=\"a\" d=\"M0,0H83.454V62.828H0Z\" transform=\"translate(-0.011 -0.91)\"/></g></g><path class=\"d\" d=\"M7.056,54.048A24.865,24.865,0,0,0,9.13,55.7a32.77,32.77,0,0,0,11.984,5.126,48.513,48.513,0,0,0,15.019.813,58.227,58.227,0,0,0,6.691-1.032,61.375,61.375,0,0,0,8.747-2.563q2.167-.811,4.271-1.778a58.785,58.785,0,0,0,9.42-5.42q1.5-1.066,2.933-2.233.687-.561,1.346-1.138,1.024-.9,2-1.848.182-.177.362-.358,1.132-1.132,2.183-2.339,1.024-1.178,1.959-2.428a31.988,31.988,0,0,0,5.782-12.19,21.832,21.832,0,0,0-.851-12.578A19.87,19.87,0,0,0,79.39,12.6a21.676,21.676,0,0,0-2.909-3.715C76.1,8.5,75.674,8.165,75.265,7.8c-.44-.392-.9-.75-1.366-1.108a26.967,26.967,0,0,0-3.03-2.012,34.473,34.473,0,0,0-9.709-3.644A48.175,48.175,0,0,0,47.352.142a57.07,57.07,0,0,0-7.56,1.073,62.26,62.26,0,0,0-9.016,2.622c-1.374.514-2.7,1.074-4,1.667a57.705,57.705,0,0,0-11.725,7.07c-.753.59-1.486,1.209-2.19,1.825-.411.359-.831.735-1.23,1.107a45.507,45.507,0,0,0-3.268,3.363c-.772.886-1.495,1.781-2.19,2.727A32.081,32.081,0,0,0,.632,33.19a21.717,21.717,0,0,0,.657,12.632c.12.316.249.627.385.934a20.153,20.153,0,0,0,1.4,2.629,21.4,21.4,0,0,0,1.814,2.457q.158.185.32.367a22.7,22.7,0,0,0,1.844,1.84\" transform=\"translate(0 0)\"/><path class=\"e\" d=\"M.377,43.519c-.179,0-.291-.04-.343-.122-.067-.106-.035-.288.1-.557s17.218-35.232,18.58-38a.994.994,0,0,1,.769-.626c.284,0,.469.26.507.712.155,1.863,1.525,20.054,2.328,30.732.148,1.968.255,3.39.263,3.491.053.685-.015.873-.769.995-.431.071-3.4.541-4.1.651a1.539,1.539,0,0,1-.245.022c-.38,0-.411-.206-.414-.52-.007-.608-.044-3.305-.066-4.938l-.01-.7v-.046L9.429,35.783c-.005.012-2.669,6.232-2.761,6.449-.12.29-.265.359-.64.419-1.155.184-4.923.78-5.35.843A2.1,2.1,0,0,1,.377,43.519ZM16.925,17.963h0L11.433,30.789l5.547-.864-.055-11.962ZM28.582,39.135h0a8.858,8.858,0,0,1-3.386-.583c-.791-.327-.9-.57-.654-1.445.178-.628,1.121-3.887,1.127-3.906a2.635,2.635,0,0,0,.538.676,4.1,4.1,0,0,0,1.971.985,4.784,4.784,0,0,0,1,.109,3.019,3.019,0,0,0,2.785-1.484A2.659,2.659,0,0,0,32,31.5a7.579,7.579,0,0,0-2.364-3.21A8.556,8.556,0,0,1,27.1,24.782a7.411,7.411,0,0,1,.541-5.361c1.074-2.026,3.144-3.264,5.986-3.582a8.593,8.593,0,0,1,.959-.053,9.918,9.918,0,0,1,3.384.621.606.606,0,0,1,.4.871c-.062.18-.644,1.829-.991,2.815l-.005.014-.25.708-.005.013a7.116,7.116,0,0,0-2.544-1.265c-.071,0-.142-.006-.21-.006a2.035,2.035,0,0,0-1.7.741,2.335,2.335,0,0,0-.393,2.579c.285.517.572.922,3.149,3.244a6.807,6.807,0,0,1,2.364,4.649,7.424,7.424,0,0,1-.81,3.941A8.549,8.549,0,0,1,34.8,37.3a7.366,7.366,0,0,1-3.145,1.516A16.188,16.188,0,0,1,28.582,39.135Zm10.563-1.764A.3.3,0,0,1,38.9,37.3c-.093-.112-.053-.364.033-.838.043-.236,1.061-5.693,2.239-12.012l0-.013c1.889-10.132,4.241-22.743,4.3-23.066.129-.73.35-.891.91-.978C46.8.325,49.757.011,50.417,0h.04c.289,0,.452.047.544.157.114.136.128.373.049.818-.11.616-4.407,23.339-4.45,23.568.026-.045,1.3-2.175,2.647-4.429,1.541-2.578,3.135-5.243,3.243-5.423a1.008,1.008,0,0,1,.878-.576l2.472-.25L57.5,13.7c.117-.011.2-.019.266-.019a.334.334,0,0,1,.178.037.207.207,0,0,1,.1.181.512.512,0,0,1-.087.271c-.241.393-6.328,10.24-6.389,10.339l.45,1.278c.942,2.68,2.9,8.257,3.008,8.562.069.2.077.32.027.4s-.18.148-.433.191-2.983.476-4.12.655a1.515,1.515,0,0,1-.232.021c-.274,0-.366-.127-.479-.431-.149-.4-3.37-9.417-3.4-9.507L44.354,36.124c-.089.462-.259.488-.54.531l-.048.007c-1.193.19-3.585.57-4.093.649A3.937,3.937,0,0,1,39.144,37.372Z\" transform=\"translate(11.546 6.544)\"/><path class=\"f\" d=\"M3.827,7.654a3.687,3.687,0,0,1-1.487-.3A3.891,3.891,0,0,1,.3,5.314,3.687,3.687,0,0,1,0,3.827,3.687,3.687,0,0,1,.3,2.34,3.891,3.891,0,0,1,2.34.3,3.687,3.687,0,0,1,3.827,0,3.687,3.687,0,0,1,5.314.3,3.891,3.891,0,0,1,7.351,2.34a3.687,3.687,0,0,1,.3,1.487,3.687,3.687,0,0,1-.3,1.487A3.891,3.891,0,0,1,5.314,7.351,3.687,3.687,0,0,1,3.827,7.654Zm0-6.975A3.088,3.088,0,0,0,2.6.926,3.136,3.136,0,0,0,.926,2.6a3.159,3.159,0,0,0,0,2.449A3.136,3.136,0,0,0,2.6,6.728a3.159,3.159,0,0,0,2.449,0A3.136,3.136,0,0,0,6.728,5.051a3.159,3.159,0,0,0,0-2.449A3.136,3.136,0,0,0,5.051.926,3.088,3.088,0,0,0,3.827.679ZM3.158,5.988h-.8V1.615H4.043a1.71,1.71,0,0,1,1.168.339,1.256,1.256,0,0,1,.376.977,1.155,1.155,0,0,1-.3.864,1.251,1.251,0,0,1-.751.339L5.678,5.986H4.835L3.745,4.2H3.158v1.79Zm0-3.694V3.518h.586c.124,0,.249-.005.37-.015a1.1,1.1,0,0,0,.334-.077.567.567,0,0,0,.242-.185A.552.552,0,0,0,4.784,2.9a.552.552,0,0,0-.093-.34.569.569,0,0,0-.242-.185A1.04,1.04,0,0,0,4.115,2.3c-.111-.007-.235-.01-.37-.01Z\" transform=\"translate(77.483 0.648)\"/></g></svg> your homepage</p>\\n                <p>Discover Something New Every Day!</p>\\n        </div>\\n        <div class=\"PartialBrowserExtension-right\">\\n                <a target=\"_blank\" href=\"\">\\n                    <div class=\"PartialBrowserExtension-see-it\" >Set it</div>\\n                </a>\\n            <div class=\"PartialBrowserExtension-no-thanks\" > No Thanks </div> \\n        </div>\\n    </div>\\n</div>\\n<script>\\n    if (App) {\\n        (function () {\\n            App.events = App.events || []; \\n            var numdays = 90;\\n            var days =  numdays * 24 * 60 * 60 * 1000;\\n            var expires = new Date((new Date()).valueOf() + days);\\n            var urlName = \"\";\\n            App.events.push(\\n                {\\n                    partial: \"PartialBrowserExtension\",\\n                    contextSelector: document,\\n                    elementSelector: \".PartialBrowserExtension-no-thanks\",\\n                    type: \"click\",\\n                    handler: function () {\\n                            var thisPartial = $(\".PartialBrowserExtension\");\\n                            thisPartial.hide();\\n                            var header = $(\".l-header\");\\n                            header.animate({\"top\": 0},400);\\n                            var main = $(\".main\");\\n                            main.animate({\"top\": \"157px\" }, 400);\\n                            var footer = $(\".l-footer-container\");\\n                            footer.animate({\"top\": \"100px\" }, 400);\\n                            var searchresult = $(\".ac_results\");\\n                            searchresult.css({\"top\": \"144px\" });\\n                            var nhpextIndex = document.cookie.indexOf(\"nhpext\");\\n                            if( nhpextIndex < 0) {\\n                                document.cookie = \"nhpext=true;domain=ask.com;expires=\" + expires.toUTCString();\\n                            }\\n                            \\n                    }\\n                },\\n                {\\n                    partial: \"PartialBrowserExtension\",\\n                    contextSelector: document,\\n                    elementSelector: \".PartialBrowserExtension-see-it\",\\n                    type: \"click\",\\n                    handler: function () {\\n                        var thisPartial = $(\".PartialBrowserExtension\");\\n                        thisPartial.hide();\\n                        var header = $(\".l-header\");\\n                        header.animate({\"top\": 0},400);\\n                        var main = $(\".main\");\\n                        main.animate({\"top\": \"157px\" }, 400);\\n                        var footer = $(\".l-footer-container\");\\n                        footer.animate({\"top\": \"100px\" }, 400);\\n                        var searchresult = $(\".ac_results\");\\n                        searchresult.css({\"top\": \"144px\" });\\n                           \\n                    }\\n                },                   \\n                {\\n                    partial: \"PartialBrowserExtension\",\\n                    contextSelector: document,\\n                    elementSelector: \"body\",\\n                    type: \"ready\",\\n                    handler: function (e) {\\n                        setTimeout(function() {\\n                            var isextensionInstalled = document.body.classList.contains(\"ask_set_hp_ext_installed\");\\n                            if (isextensionInstalled) {\\n                               return;\\n                            } \\n\\n                            \\n}, 1000);\\n                    }\\n                }      \\n            )\\n        })();\\n    }\\n</script> \\n\\n\\n\\n\\n\\n</div>\\n        </div>\\n    </div>\\n\\n<div class=\"row\">\\n    <div class=\"col col-12\">\\n        <header class=\"l-header\">\\n                <div class=\"l-header-container\">\\n                        <div class=\"l-header-mid-container\">\\n                            \\n\\n\\n\\n<div class=\"PartialLogo-logo \">\\n        <a href=\\'/\\' data-unified=\\'{\"moduleName\":\"logo\",\"resultType\":\"navigation\",\"providerSource\":\"navigation\",\"zoneName\":\"header\",\"moduleInZone\":1,\"resultInModule\":1}\\' data-qo=\\'logo\\'>\\n            <svg xmlns=\"http://www.w3.org/2000/svg\" xmlns:xlink=\"http://www.w3.org/1999/xlink\" width=\"119.167\" height=\"86.617\" viewBox=\"0 0 119.167 86.617\">\\n  <defs>\\n    <clipPath id=\"clip-path\">\\n      <rect width=\"119.167\" height=\"86.617\" fill=\"none\" />\\n    </clipPath>\\n    <clipPath id=\"clip-path-2\">\\n      <path id=\"Clip_2\" data-name=\"Clip 2\" d=\"M9.876,75.652a34.805,34.805,0,0,0,2.9,2.315,45.868,45.868,0,0,0,16.774,7.175A67.9,67.9,0,0,0,50.576,86.28a81.5,81.5,0,0,0,9.365-1.445,85.9,85.9,0,0,0,12.243-3.587q3.033-1.135,5.978-2.488a82.28,82.28,0,0,0,13.185-7.587q2.106-1.493,4.106-3.125.962-.786,1.884-1.593,1.433-1.255,2.8-2.587c.17-.166.339-.333.506-.5q1.585-1.584,3.056-3.274,1.433-1.649,2.742-3.4a44.774,44.774,0,0,0,8.093-17.063,30.558,30.558,0,0,0-1.191-17.605,27.817,27.817,0,0,0-2.213-4.389,30.344,30.344,0,0,0-4.071-5.2c-.533-.547-1.131-1.01-1.7-1.518-.616-.548-1.26-1.05-1.912-1.551A37.747,37.747,0,0,0,99.2,6.552a48.252,48.252,0,0,0-13.589-5.1A67.431,67.431,0,0,0,66.279.2,79.881,79.881,0,0,0,55.7,1.7a87.147,87.147,0,0,0-12.619,3.67c-1.923.719-3.779,1.5-5.6,2.333a80.771,80.771,0,0,0-16.411,9.9c-1.053.825-2.08,1.692-3.065,2.555-.575.5-1.163,1.028-1.721,1.55A63.7,63.7,0,0,0,11.7,26.413c-1.08,1.24-2.092,2.492-3.065,3.817A44.9,44.9,0,0,0,.885,46.456,30.4,30.4,0,0,0,1.8,64.137c.168.442.349.878.539,1.308a28.208,28.208,0,0,0,1.964,3.68,29.947,29.947,0,0,0,2.539,3.439q.221.259.448.513a31.77,31.77,0,0,0,2.581,2.575Z\" transform=\"translate(0.032 1.474)\" fill=\"none\" />\\n    </clipPath>\\n  </defs>\\n  <g id=\"Ask_Logo_large\" data-name=\"Ask Logo large\" clip-path=\"url(#clip-path)\">\\n    <g id=\"Group_3\" data-name=\"Group 3\" transform=\"translate(-0.032 -1.474)\">\\n      <path id=\"Clip_2-2\" data-name=\"Clip 2\" d=\"M9.876,75.652a34.805,34.805,0,0,0,2.9,2.315,45.868,45.868,0,0,0,16.774,7.175A67.9,67.9,0,0,0,50.576,86.28a81.5,81.5,0,0,0,9.365-1.445,85.9,85.9,0,0,0,12.243-3.587q3.033-1.135,5.978-2.488a82.28,82.28,0,0,0,13.185-7.587q2.106-1.493,4.106-3.125.962-.786,1.884-1.593,1.433-1.255,2.8-2.587c.17-.166.339-.333.506-.5q1.585-1.584,3.056-3.274,1.433-1.649,2.742-3.4a44.774,44.774,0,0,0,8.093-17.063,30.558,30.558,0,0,0-1.191-17.605,27.817,27.817,0,0,0-2.213-4.389,30.344,30.344,0,0,0-4.071-5.2c-.533-.547-1.131-1.01-1.7-1.518-.616-.548-1.26-1.05-1.912-1.551A37.747,37.747,0,0,0,99.2,6.552a48.252,48.252,0,0,0-13.589-5.1A67.431,67.431,0,0,0,66.279.2,79.881,79.881,0,0,0,55.7,1.7a87.147,87.147,0,0,0-12.619,3.67c-1.923.719-3.779,1.5-5.6,2.333a80.771,80.771,0,0,0-16.411,9.9c-1.053.825-2.08,1.692-3.065,2.555-.575.5-1.163,1.028-1.721,1.55A63.7,63.7,0,0,0,11.7,26.413c-1.08,1.24-2.092,2.492-3.065,3.817A44.9,44.9,0,0,0,.885,46.456,30.4,30.4,0,0,0,1.8,64.137c.168.442.349.878.539,1.308a28.208,28.208,0,0,0,1.964,3.68,29.947,29.947,0,0,0,2.539,3.439q.221.259.448.513a31.77,31.77,0,0,0,2.581,2.575Z\" transform=\"translate(0.032 1.474)\" fill=\"none\" />\\n      <g id=\"Group_3-2\" data-name=\"Group 3\" clip-path=\"url(#clip-path-2)\">\\n        <path id=\"Fill_1\" data-name=\"Fill 1\" d=\"M0,0H116.811V87.941H0Z\" transform=\"translate(0.017 0.201)\" fill=\"none\" />\\n      </g>\\n    </g>\\n    <path id=\"Fill_4\" data-name=\"Fill 4\" d=\"M9.876,75.652a34.805,34.805,0,0,0,2.9,2.315,45.868,45.868,0,0,0,16.774,7.175A67.9,67.9,0,0,0,50.576,86.28a81.5,81.5,0,0,0,9.365-1.445,85.9,85.9,0,0,0,12.243-3.587q3.033-1.135,5.978-2.488a82.28,82.28,0,0,0,13.185-7.587q2.106-1.493,4.106-3.125.962-.786,1.884-1.593,1.433-1.255,2.8-2.587c.17-.166.339-.333.506-.5q1.585-1.584,3.056-3.274,1.433-1.649,2.742-3.4a44.774,44.774,0,0,0,8.093-17.063,30.558,30.558,0,0,0-1.191-17.605,27.817,27.817,0,0,0-2.213-4.389,30.344,30.344,0,0,0-4.071-5.2c-.533-.547-1.131-1.01-1.7-1.518-.616-.548-1.26-1.05-1.912-1.551A37.747,37.747,0,0,0,99.2,6.552a48.252,48.252,0,0,0-13.589-5.1A67.431,67.431,0,0,0,66.279.2,79.881,79.881,0,0,0,55.7,1.7a87.147,87.147,0,0,0-12.619,3.67c-1.923.719-3.779,1.5-5.6,2.333a80.771,80.771,0,0,0-16.411,9.9c-1.053.825-2.08,1.692-3.065,2.555-.575.5-1.163,1.028-1.721,1.55A63.7,63.7,0,0,0,11.7,26.413c-1.08,1.24-2.092,2.492-3.065,3.817A44.9,44.9,0,0,0,.885,46.456,30.4,30.4,0,0,0,1.8,64.137c.168.442.349.878.539,1.308a28.208,28.208,0,0,0,1.964,3.68,29.947,29.947,0,0,0,2.539,3.439q.221.259.448.513a31.77,31.77,0,0,0,2.581,2.575\" transform=\"translate(0 0)\" fill=\"#cf0000\" />\\n    <path id=\"Fill_5\" data-name=\"Fill 5\" d=\"M.528,60.914h0c-.251,0-.408-.056-.48-.172-.093-.149-.049-.4.133-.779.134-.276,24.087-49.288,26.006-53.189A1.392,1.392,0,0,1,27.263,5.9c.4,0,.656.363.709,1,.228,2.741,2.352,30.963,3.259,43.014.221,2.941.357,4.751.368,4.888.075.96-.021,1.222-1.076,1.392-.61.1-4.784.762-5.734.912a2.266,2.266,0,0,1-.343.031c-.532,0-.575-.288-.58-.727-.014-1.18-.106-7.892-.107-7.958L13.2,50.085c-.023.054-3.779,8.824-3.865,9.027-.167.405-.37.5-.9.586-1.578.251-6.89,1.092-7.488,1.18A2.937,2.937,0,0,1,.528,60.914ZM23.69,25.14h0L16,43.095l7.764-1.209-.076-16.745ZM40.005,54.777h0a12.412,12.412,0,0,1-4.74-.816c-1.107-.457-1.261-.8-.915-2.023.25-.882,1.564-5.423,1.577-5.467a3.656,3.656,0,0,0,.752.947A5.737,5.737,0,0,0,39.438,48.8a6.692,6.692,0,0,0,1.4.153,4.225,4.225,0,0,0,3.9-2.077,3.721,3.721,0,0,0,.058-2.775A10.613,10.613,0,0,0,41.483,39.6a11.984,11.984,0,0,1-3.55-4.917,10.371,10.371,0,0,1,.758-7.5c1.5-2.836,4.4-4.569,8.379-5.014a12.081,12.081,0,0,1,1.342-.074,13.9,13.9,0,0,1,4.736.869.848.848,0,0,1,.563,1.219c-.109.316-1.354,3.842-1.732,4.915l-.019.054c-.022-.016-2.293-1.7-3.56-1.77-.1-.005-.2-.008-.293-.008a2.848,2.848,0,0,0-2.375,1.038,3.268,3.268,0,0,0-.551,3.61c.4.722.8,1.289,4.408,4.541A9.525,9.525,0,0,1,52.9,43.07a10.394,10.394,0,0,1-1.134,5.516,11.973,11.973,0,0,1-3.052,3.622,10.318,10.318,0,0,1-4.4,2.122A22.69,22.69,0,0,1,40.005,54.777Zm14.785-2.468h0a.412.412,0,0,1-.338-.107c-.131-.157-.074-.51.046-1.173.06-.327,1.469-7.883,3.1-16.631l.034-.181c2.646-14.19,5.939-31.85,6.018-32.3.18-1.021.49-1.247,1.273-1.369C65.5.454,69.645.014,70.569,0h.057c.4,0,.633.066.761.219.159.19.179.521.069,1.145-.145.812-5.592,29.622-6.213,32.9l-.016.084c.037-.063,1.818-3.043,3.7-6.2,2.158-3.609,4.389-7.341,4.541-7.593a1.411,1.411,0,0,1,1.229-.806l3.46-.349,2.319-.234c.163-.016.277-.027.372-.027a.467.467,0,0,1,.249.052.29.29,0,0,1,.136.254.716.716,0,0,1-.122.38c-.338.551-8.858,14.334-8.943,14.471l.633,1.8c1.318,3.748,4.061,11.547,4.207,11.974.1.279.107.448.038.566s-.252.207-.606.267-4.176.666-5.766.916a2.119,2.119,0,0,1-.324.03c-.383,0-.512-.178-.671-.6-.208-.559-4.717-13.18-4.762-13.307L62.083,50.563c-.124.647-.362.683-.757.743l-.067.01c-1.67.266-5.018.8-5.729.909A5.508,5.508,0,0,1,54.791,52.309Z\" transform=\"translate(16.161 9.16)\" fill=\"#fff\" />\\n    <path id=\"_\" data-name=\"\\xc2\\xae\" d=\"M5.357,10.714a5.158,5.158,0,0,1-2.081-.425A5.446,5.446,0,0,1,.425,7.438,5.157,5.157,0,0,1,0,5.357,5.157,5.157,0,0,1,.425,3.276,5.446,5.446,0,0,1,3.276.425,5.157,5.157,0,0,1,5.357,0,5.157,5.157,0,0,1,7.438.425a5.446,5.446,0,0,1,2.851,2.851,5.158,5.158,0,0,1,.425,2.081,5.158,5.158,0,0,1-.425,2.081,5.446,5.446,0,0,1-2.851,2.851A5.158,5.158,0,0,1,5.357,10.714Zm0-9.763A4.322,4.322,0,0,0,3.643,1.3,4.39,4.39,0,0,0,1.3,3.643a4.421,4.421,0,0,0,0,3.427A4.39,4.39,0,0,0,3.643,9.418a4.421,4.421,0,0,0,3.427,0A4.39,4.39,0,0,0,9.418,7.07a4.421,4.421,0,0,0,0-3.427A4.39,4.39,0,0,0,7.07,1.3,4.322,4.322,0,0,0,5.357.95ZM4.421,8.382H3.3V2.261H5.659a2.392,2.392,0,0,1,1.634.475A1.758,1.758,0,0,1,7.819,4.1,1.617,1.617,0,0,1,7.4,5.314a1.754,1.754,0,0,1-1.051.475l1.6,2.59-1.18,0L5.242,5.875H4.421V8.381Zm0-5.171V4.925h.821c.172,0,.346-.007.518-.022A1.567,1.567,0,0,0,6.228,4.8a.8.8,0,0,0,.338-.259.779.779,0,0,0,.13-.475.779.779,0,0,0-.13-.475.8.8,0,0,0-.338-.259,1.441,1.441,0,0,0-.468-.1c-.167-.01-.341-.014-.518-.014Z\" transform=\"translate(108.454 0.907)\" fill=\"#bfbfbf\" />\\n  </g>\\n</svg>\\n</a>\\n    </div>\\n\\n\\n\\n<div class=\"PartialSearchBox  \">\\n    <div class=\"PartialSearchBox-wrapper\">\\n        <div class=\"PartialSearchBox-container\" name=\"searchBoxContainer\" >\\n            <form target=\"_top\" action=\"/web\" method=\"get\" class=\"PartialSearchBox-form js-PartialSearchBox-form\"\\n                  data-unified=\"{&quot;resultType&quot;:&quot;navigation&quot;,&quot;providerSource&quot;:&quot;navigation&quot;,&quot;zoneName&quot;:&quot;header&quot;,&quot;moduleName&quot;:&quot;searchBox&quot;,&quot;moduleInZone&quot;:2,&quot;resultInModule&quot;:1}\">\\n                <input type=\"hidden\" id=\"qsrc\">\\n                <input type=\"hidden\" id=\"origin\" name=\"o\" value=\"0\">\\n                <input type=\"hidden\" id=\"partnerID\" name=\"l\" value=\"dir\">\\n                <input type=\"hidden\" id=\"qo\" name=\"qo\" value=\"serpSearchTopBox\">\\n                <input class=\"PartialSearchBox-input js-PartialSearchBox-input \"\\n                       data-zone=\"header\" validate=\"required\" value=\"\" name=\"q\" autocomplete=\"off\" maxlength=\"2048\" \\nplaceholder=\"Search...\">\\n            </form>\\n            <button class=\"PartialSearchBox-button js-PartialSearchBox-button\" type=\"submit\">\\n                <div class=\"PartialSearchBox-button-magnifier\">\\n                    <?xml version=\"1.0\" encoding=\"UTF-8\"?>\\n<svg viewBox=\"0 0 25 24\" version=\"1.1\" xml:space=\"preserve\">\\n    <!-- Generator: Sketch 55 (78076) - https://sketchapp.com -->\\n    <title></title>\\n    <g id=\"Page-2\" stroke=#FFFFFF stroke-width=1.75 fill=\"none\" fill-rule=\"evenodd\">\\n        <g id=\"pronto-int-new-magnify-glass\" transform=\"translate(-770.000000, -15.000000)\" fill=#FFFFFF fill-rule=\"nonzero\">\\n            <path d=\"M794.048828,37.0527344 L794.022461,37.0527344 C794.215821,37.2636729 794.3125,37.4921863 794.3125,37.7382812 C794.3125,37.9843762 794.215821,38.2041006 794.022461,38.3974609 C793.829101,38.5908213 793.609376,38.6875 793.363281,38.6875 C793.117186,38.6875 792.897462,38.5908213 792.704102,38.3974609 L787.272461,32.9921875 C786.39355,33.7128942 785.404791,34.2797831 784.306152,34.6928711 C783.207514,35.1059591 782.042975,35.3125 780.8125,35.3125 C777.947251,35.2421871 775.561045,34.2534275 773.653809,32.3461914 C771.746572,30.4389553 770.757813,28.0527487 770.6875,25.1875 C770.757813,22.3222513 771.746572,19.9360447 773.653809,18.0288086 C775.561045,16.1215725 777.947251,15.1328129 780.8125,15.0625 C783.677749,15.1328129 786.063955,16.1215725 787.971191,18.0288086 C789.878428,19.9360447 790.867187,22.3222513 790.9375,25.1875 C790.9375,26.4179749 790.730959,27.582514 790.317871,28.6811523 C789.904783,29.7797906 789.337894,30.7685503 788.617188,31.6474609 L794.048828,37.0527344 Z M784.00293,32.7548828 C784.98731,32.3505839 785.861813,31.7661171 786.626465,31.0014648 C787.391117,30.2368126 787.984373,29.3579151 788.40625,28.3647461 C788.828127,27.3715771 789.039062,26.3125056 789.039062,25.1875 C789.039062,24.0624944 788.828127,23.0034229 788.40625,22.0102539 C787.984373,21.0170849 787.391117,20.1381874 786.626465,19.3735352 C785.861813,18.6088829 784.982915,18.0156271 783.989746,17.59375 C782.996577,17.1718729 781.937506,16.9609375 780.8125,16.9609375 C779.687494,16.9609375 778.628423,17.1718729 777.635254,17.59375 C776.642085,18.0156271 775.763187,18.6088829 774.998535,19.3735352 C774.233883,20.1381874 773.640627,21.0170849 773.21875,22.0102539 C772.796873,23.0034229 772.585938,24.0624944 772.585938,25.1875 C772.585938,26.3125056 772.796873,27.3715771 773.21875,28.3647461 C773.640627,29.3579151 774.233883,30.2368126 774.998535,31.0014648 C775.763187,31.7661171 776.642085,32.3593729 777.635254,32.78125 C778.628423,33.2031271 779.687494,33.4140625 780.8125,33.4140625 C781.937506,33.4140625 783.000972,33.1943381 784.00293,32.7548828 Z\" id=\"\\xee\\x99\\xb0\"></path>\\n        </g>\\n    </g>\\n</svg>\\n</div>\\n            </button>\\n        </div>\\n    </div>\\n</div>\\n\\n<script>\\n    \\'use strict\\';\\n    if (App) {\\n        (function () {\\n            App.events = App.events || [];\\n            App.events.push (\\n                    {\\n                        partial: \"PartialSearchBox\",\\n                        contextSelector: \".PartialSearchBox-wrapper\",\\n                        elementSelector: \".js-PartialSearchBox-form\",\\n                        type: \"submit\",\\n                        handler: function (e) {\\n                            var $searchTextInputBox = $(\".js-PartialSearchBox-input\", this);\\n                            if (!$searchTextInputBox.val()) {\\n                                return false;\\n                            }\\n                        }\\n                    },\\n                    {\\n                        partial: \"PartialSearchBox\",\\n                        contextSelector: \".PartialSearchBox-wrapper\",\\n                        elementSelector: null,\\n                        type: \"ready\",\\n                        handler: function () {\\n                            var searchButton = $(\".js-PartialSearchBox-button\", this),\\n                                    searchForm = $(\".js-PartialSearchBox-form\", this);\\n\\n                            //Attach submit under searchButton click event.\\n                            searchButton.on(\"click\", function(e) {\\n                                searchForm.submit();\\n                            });\\n\\n                        }\\n                    },\\n                    {\\n                        partial: \"PartialSearchBox\",\\n                        contextSelector: \".PartialSearchBox-wrapper\",\\n                        elementSelector: \".js-PartialSearchBox-top-form\",\\n                        type: \"submit\",\\n                        handler: function (e) {\\n                            var topForm = $(\".js-PartialSearchBox-top-form\"),\\n                                    searchPayload = topForm.data(\"unified\");\\n\\n                            if (!searchPayload) {\\n                                return;\\n                            }\\n                            searchPayload.actionType = \"click\";\\n                            searchPayload.assetType = \"searchBox\";\\n\\n                            topForm.unbind(e);\\n                            e.preventDefault();\\n                            ask.unified.sendAction(searchPayload, function () {\\n                                topForm.submit();\\n                            });\\n                        }\\n                    },\\n                    {\\n                        partial: \"PartialSearchBox\",\\n                        contextSelector: \".PartialSearchBox-wrapper\",\\n                        elementSelector: \".js-PartialSearchBox-top-input\",\\n                        type: \"keydown\",\\n                        handler: function (e) {\\n                            e.stopPropagation();\\n                        }\\n                    },\\n                    //append query in search box\\n                    {\\n                        partial: \"PartialSearchBox\",\\n                        contextSelector: document,\\n                        elementSelector: \"body\",\\n                        type: \"keydown\",\\n                        handler: function (e) {\\n                            var element = document.getElementById(\\'js-PartialSearchBox-top-input\\');\\n                            if (element) {\\n                                if (_searchQuery.isEligibleKey(e)) {\\n                                    if (_searchQuery.isSAClick(elementID, e)) {\\n                                        return;\\n                                    }\\n                                    if (_searchQuery.isDeleteKey(e) || _searchQuery.isBackspaceKey(e)) {\\n                                        //delete & back button click functionality\\n                                        _searchQuery.deleteBackButtonClickEvent(e, element);\\n                                    } else {\\n                                        //appends space after the current query\\n                                        _searchQuery.appendSpaceAfterQuery(element);\\n                                    }\\n\\n                                    //get cursor position\\n                                    _searchQuery.getCursorPosition(element);\\n\\n                                    element.focus();\\n                                }\\n                            }\\n                        }\\n                    }\\n            );\\n        })();\\n    }\\n\\n    var _searchQuery = {\\n        //Keys 0 - 9\\n        isNumberKey: function (target) {\\n            return (target.which >= 48 && target.which <= 57);\\n        },\\n        //Keys a - z\\n        isLetterKey: function (target) {\\n            return (target.which >= 65 && target.which <= 90);\\n        },\\n        //Keys numpad0 - numpad9\\n        isNumPadKey: function (target) {\\n            return (target.which >= 96 && target.which <= 105);\\n        },\\n        // Keys *,+,-,/,decimal point\\n        isMathKey: function (target) {\\n            return (target.which >= 106 && target.which <= 111);\\n        },\\n        //Keys :,=,,,dash,.,/,[,],\\',\\\\\\n        isOperatorKey: function (target) {\\n            return (target.which >= 186 && target.which <= 192) || (target.which >= 219 && target.which <= 222);\\n        },\\n        //Keys Backspace\\n        isBackspaceKey: function (target) {\\n            return (target.which === 8);\\n        },\\n        //Keys delete\\n        isDeleteKey: function (target) {\\n            return (target.which === 46);\\n        },\\n        //SA click events\\n        isSAClick: function (elementID, e) {\\n            return ((e.target.tagName === \"INPUT\" || e.target.tagName === \"TEXTAREA\") && e.target.id !== elementID);\\n        },\\n        //Click event for delete & back button\\n        deleteBackButtonClickEvent: function (e, element) {\\n            e.preventDefault();\\n            element.value = element.value.substring(0, element.value.length - 1);\\n            if (typeof element.selectionStart === \"number\") {\\n                var textLen = element.value.length;\\n                element.setSelectionRange(textLen, textLen);\\n            }\\n            element.focus();\\n        },\\n\\n        //Appends space after query in search box\\n        appendSpaceAfterQuery: function (element) {\\n            element.value = element.value + \" \";\\n            /*Append space to the query once focus is out of text box*/\\n            element.focus();\\n        },\\n\\n        //Gets cursor position inside search box\\n        getCursorPosition: function (element) {\\n            /*get cursor position in input box if browser supports selectionStart */\\n            if (typeof element.selectionStart === \"number\") {\\n                if (element.selectionStart === 0 && element.selectionEnd === element.value.length) {\\n                    element.value = \"\";\\n                    element.focus();\\n                } else {\\n                    if (element.selectionStart === 0 || element.selectionStart >= element.value.length) {\\n                        var len = element.value.length;\\n                        element.setSelectionRange(len, len);\\n                    }\\n                }\\n            } else {\\n                /*get the cursor position in the input box if the browser does not have a support for selectionStart*/\\n                var cursorPos = 0;\\n                if (document.selection) {\\n                    var oSel = document.selection.createRange();\\n                    oSel.moveStart(\"character\", -element.value.length);\\n                    cursorPos = oSel.text.length;\\n                }\\n                if (cursorPos === 0 || cursorPos >= element.value.length) {\\n                    element.value = element.value;\\n                    /*setSelectionRange will not work for IE version < 9*/\\n                }\\n            }\\n        },\\n\\n        //Checks whether pressed key is eligible for the functionality\\n        isEligibleKey: function (e) {\\n            return ((e.which !== 0 && !e.ctrlKey && !e.metaKey && !e.altKey) &&\\n                    (_searchQuery.isNumberKey(e) || _searchQuery.isLetterKey(e) || _searchQuery.isNumPadKey(e) ||\\n                            _searchQuery.isMathKey(e) || _searchQuery.isOperatorKey(e) || (_searchQuery.isBackspaceKey(e) ||\\n                                    _searchQuery.isDeleteKey(e))));\\n        }\\n    };\\n</script>\\n\\n\\n\\n</div>\\n                </div>\\n        </header>\\n    </div>\\n</div>\\n\\n\\n<div class=\"row\">\\n    <div class=\"col col-12\">\\n        <main class=\"main\">\\n            \\n<div class=\"row row-nowrap \">\\n                \\n<div class=\"col col-sm-12 col-fix-200 left-display-tablet\">\\n                        <aside class=\"l-left content-visible\">\\n                            <div class=\"l-left-container\">\\n                                \\n\\n<nav class=\"PartialCategoryNavigation\">\\n    \\n\\n\\n            <div class=\"PartialCategoryNavigation-body\">\\n    <ul class=\"PartialCategoryNavigation-categories\">\\n        \\n<li class=\"PartialCategoryNavigation-category\">\\n                <div class=\"PartialCategoryNavigation-category-item \">\\n                    \\n\\n<div class=\"PartialCategoryNavigation-category-logo\">\\n                            <svg xmlns=\"http://www.w3.org/2000/svg\" xmlns:xlink=\"http://www.w3.org/1999/xlink\" viewBox=\"0 0 18 16.681\" preserveAspectRatio=\"xMidYMid meet\">\\n    <defs>\\n        <style>\\n            .b-culture {\\n                clip-path: url(#a-culture);\\n            }\\n        </style>\\n        <clipPath id=\"a-culture\">\\n            <rect class=\"svg-a\" width=\"18\" height=\"16.681\" />\\n        </clipPath>\\n    </defs>\\n    <g class=\"b-culture\" transform=\"translate(0 0)\">\\n        <path class=\"svg-c\" d=\"M5.623,13.665a6.469,6.469,0,0,1-1.815-.24l-.015,0a9.381,9.381,0,0,0,.771-2.466c.391-.058.736-.1,1.057-.117.1-.006.2-.01.31-.01a8.288,8.288,0,0,1,1.631.195c.144.03.286.061.371.08l.014,0a3.93,3.93,0,0,0,.634.112c.074,0,.11-.018.11-.055a2.979,2.979,0,0,0-.9-1.435,4.06,4.06,0,0,0-.976-.739,2.551,2.551,0,0,0-1.2-.319,2.393,2.393,0,0,0-.823.152c.017-.324.026-.623.033-.841V7.948l0-.063c0-.047,0-.093,0-.136.064-1.889,0-4.521,0-4.546h0c-.062.025-.628.255-1.451.494-.515.149-1.034.275-1.543.374A14.363,14.363,0,0,1,0,4.313V.66H0C.077.642.768.483,1.741.33,2.353.234,2.958.157,3.54.1,4.272.035,4.973,0,5.623,0S6.97.035,7.694.1C8.272.158,8.868.234,9.467.33c.993.159,1.673.323,1.7.33h0v0c.006.276.061,2.745,0,4.542,0,.06,0,.122-.006.184h0v.033h0a14.758,14.758,0,0,1-.81,4.938,6.53,6.53,0,0,1-.669,1.27,4.789,4.789,0,0,1-.972,1.052,4.362,4.362,0,0,1-1.334.716A5.56,5.56,0,0,1,5.623,13.665ZM7.533,3.977h0a.055.055,0,0,0-.028.007.872.872,0,0,0-.254.3,2.457,2.457,0,0,0-.233.554,1.769,1.769,0,0,0,.088,1.334,1.564,1.564,0,0,0,.785.636,2.513,2.513,0,0,0,.915.183.892.892,0,0,0,.4-.069c.044-.025.046-.111.008-.255a7.773,7.773,0,0,0-.8-1.616C8.1,4.532,7.7,3.977,7.534,3.977Z\" transform=\"translate(6.803)\"/>\\n        <path class=\"svg-c\" d=\"M5.623,13.005A4.823,4.823,0,0,1,.757,9.9,14.625,14.625,0,0,1,0,4.546V0A17.315,17.315,0,0,0,5.623,1.131,16.583,16.583,0,0,0,11.169,0a.159.159,0,0,1,0,.018V.085c.035,1.79.034,3.374,0,4.46l0,.081c0,.019,0,.039,0,.059s0,.044,0,.067v.014A14.751,14.751,0,0,1,10.351,9.7,4.766,4.766,0,0,1,5.623,13.005ZM2.73,8.011c-.121,0-.179.024-.179.074a3.767,3.767,0,0,0,3.071,2.492A3.767,3.767,0,0,0,8.692,8.085c0-.037-.036-.055-.111-.055a3.976,3.976,0,0,0-.639.113c-.117.026-.244.054-.379.082a8.222,8.222,0,0,1-1.633.2c-.105,0-.209,0-.309-.01a17.777,17.777,0,0,1-1.955-.267A6.928,6.928,0,0,0,2.73,8.011Zm5.112-3.77a2.015,2.015,0,0,0-1.7,1.439c0,.177.882.257,1.7.257s1.7-.081,1.7-.257A2.016,2.016,0,0,0,7.842,4.241Zm-4.535,0a2.015,2.015,0,0,0-1.7,1.439c0,.177.881.257,1.7.257s1.7-.081,1.7-.257A2.016,2.016,0,0,0,3.307,4.241Z\" transform=\"translate(0 3.675)\"/>\\n    </g>\\n</svg>\\n\\n</div>\\n                    \\n<a href=\\'/culture\\' data-unified=\\'{\"moduleName\":\"taxonomyLeft\",\"providerSource\":\"taxonomy\",\"resultType\":\"taxonomy\",\"zoneName\":\"left\",\"moduleInZone\":1,\"resultInModule\":1}\\' data-qo=\\'homePageTaxonomyLeft\\'>\\n                        Culture\\n</a>\\n                </div>\\n                \\n<ul class=\"PartialCategoryNavigation-subcategories\">\\n                        \\n</ul>\\n                \\n</li>\\n        \\n<li class=\"PartialCategoryNavigation-category\">\\n                <div class=\"PartialCategoryNavigation-category-item \">\\n                    \\n\\n<div class=\"PartialCategoryNavigation-category-logo\">\\n                            <svg xmlns=\"http://www.w3.org/2000/svg\" xmlns:xlink=\"http://www.w3.org/1999/xlink\" viewBox=\"0 0 21.082 18\" preserveAspectRatio=\"xMidYMid meet\">\\n    <defs>\\n        <style>\\n            .b-travel {\\n                clip-path: url(#a-travel);\\n            }\\n        </style>\\n        <clipPath id=\"a-travel\">\\n            <rect class=\"svg-a\" width=\"21.082\" height=\"18\"/>\\n        </clipPath>\\n    </defs>\\n    <g class=\"b-travel\" transform=\"translate(0 0)\">\\n        <path class=\"svg-c\" d=\"M9.985,12.9H1.667v-1.66H7.493L6.016,5.708l.723-.194,1.529,5.728h.814L12.42,7.891l1.173,1.178L10.361,12.7l-.342.19V12.9H10l-.009.005ZM.159,6.863c-.078,0-.124-.015-.133-.048a6.3,6.3,0,0,1,.82-3.553A6.54,6.54,0,0,1,4.8.315C6.387-.111,8.6-.234,10.05.786A9.684,9.684,0,0,1,12.573,3.44c.074.276-2.988.8-6.165,1.658C3.58,5.859.794,6.863.159,6.863Z\" transform=\"translate(7.489 5.093)\"/>\\n        <path class=\"svg-c\" d=\"M3.329,8.294h0l-.377-1.3-1.231.6.191-1.344L.544,6.289l.727-1.15L0,4.631l1.136-.758L.184,2.9l1.349-.235L1.064,1.387l1.329.329L2.488.362,3.566,1.2,4.209,0l.642,1.2L5.93.362l.095,1.354,1.329-.329L6.885,2.662,8.234,2.9l-.952.976,1.136.758-1.27.508.727,1.15L6.505,6.241,6.7,7.585l-1.231-.6-.377,1.3-.88-1.04-.88,1.04ZM4.195,1.8a2.531,2.531,0,0,0-.494.049,2.472,2.472,0,0,0-.877.36,2.458,2.458,0,0,0-.363.292,2.423,2.423,0,0,0-.3.354,2.374,2.374,0,0,0-.226.406,2.341,2.341,0,0,0,0,1.862,2.374,2.374,0,0,0,.226.406,2.423,2.423,0,0,0,.3.354,2.461,2.461,0,0,0,.78.513,2.485,2.485,0,0,0,.46.139,2.538,2.538,0,0,0,.988,0,2.472,2.472,0,0,0,.877-.36,2.458,2.458,0,0,0,.363-.292,2.423,2.423,0,0,0,.3-.354,2.374,2.374,0,0,0,.226-.406,2.341,2.341,0,0,0,0-1.862,2.374,2.374,0,0,0-.226-.406,2.423,2.423,0,0,0-.3-.354,2.461,2.461,0,0,0-.78-.513,2.485,2.485,0,0,0-.46-.139A2.531,2.531,0,0,0,4.195,1.8Z\" transform=\"translate(0)\"/>\\n    </g>\\n</svg>\\n\\n</div>\\n                    \\n<a href=\\'/travel\\' data-unified=\\'{\"moduleName\":\"taxonomyLeft\",\"providerSource\":\"taxonomy\",\"resultType\":\"taxonomy\",\"zoneName\":\"left\",\"moduleInZone\":1,\"resultInModule\":2}\\' data-qo=\\'homePageTaxonomyLeft\\'>\\n                        Travel\\n</a>\\n                </div>\\n                \\n<ul class=\"PartialCategoryNavigation-subcategories\">\\n                        \\n</ul>\\n                \\n</li>\\n        \\n<li class=\"PartialCategoryNavigation-category\">\\n                <div class=\"PartialCategoryNavigation-category-item \">\\n                    \\n\\n<div class=\"PartialCategoryNavigation-category-logo\">\\n                            <svg xmlns=\"http://www.w3.org/2000/svg\" xmlns:xlink=\"http://www.w3.org/1999/xlink\" width=\"18\" height=\"15\" viewBox=\"0 0 18 15\">\\n    <defs>\\n        <style>\\n            .b-entertainment {\\n                clip-path:url(#a-entertainment);\\n            }\\n        </style>\\n        <clipPath id=\"a-entertainment\">\\n            <rect class=\"svg-a\" width=\"18\" height=\"15\"/>\\n        </clipPath>\\n    </defs>\\n    <g class=\"b-entertainment\">\\n        <path class=\"svg-c\" d=\"M14.543,15H3.743a.938.938,0,0,1,0-1.875h4.5v-.937H1.35A1.381,1.381,0,0,1,0,10.781V1.406A1.38,1.38,0,0,1,1.35,0h15.3A1.381,1.381,0,0,1,18,1.406v9.375a1.381,1.381,0,0,1-1.351,1.407H10.043v.937h4.5a.938.938,0,0,1,0,1.875ZM1.8,1.875v8.438H16.2V1.875Z\"/>\\n    </g>\\n</svg>\\n\\n</div>\\n                    \\n<a href=\\'/entertainment\\' data-unified=\\'{\"moduleName\":\"taxonomyLeft\",\"providerSource\":\"taxonomy\",\"resultType\":\"taxonomy\",\"zoneName\":\"left\",\"moduleInZone\":1,\"resultInModule\":3}\\' data-qo=\\'homePageTaxonomyLeft\\'>\\n                        Entertainment\\n</a>\\n                </div>\\n                \\n<ul class=\"PartialCategoryNavigation-subcategories\">\\n                        \\n<li class=\"PartialCategoryNavigation-subcategory\">\\n                                <div class=\"PartialCategoryNavigation-subcategory-item \">\\n                                    \\n\\n<a href=\\'/entertainment/music\\' data-unified=\\'{\"moduleName\":\"taxonomyLeft\",\"providerSource\":\"taxonomy\",\"resultType\":\"taxonomy\",\"zoneName\":\"left\",\"moduleInZone\":1,\"resultInModule\":4}\\' data-qo=\\'homePageTaxonomyLeft\\'>\\n                                        Music\\n</a>\\n                                </div>\\n                            </li>\\n                        \\n<li class=\"PartialCategoryNavigation-subcategory\">\\n                                <div class=\"PartialCategoryNavigation-subcategory-item \">\\n                                    \\n\\n<a href=\\'/entertainment/movies\\' data-unified=\\'{\"moduleName\":\"taxonomyLeft\",\"providerSource\":\"taxonomy\",\"resultType\":\"taxonomy\",\"zoneName\":\"left\",\"moduleInZone\":1,\"resultInModule\":5}\\' data-qo=\\'homePageTaxonomyLeft\\'>\\n                                        Movies\\n</a>\\n                                </div>\\n                            </li>\\n                        \\n<li class=\"PartialCategoryNavigation-subcategory\">\\n                                <div class=\"PartialCategoryNavigation-subcategory-item \">\\n                                    \\n\\n<a href=\\'/entertainment/tv\\' data-unified=\\'{\"moduleName\":\"taxonomyLeft\",\"providerSource\":\"taxonomy\",\"resultType\":\"taxonomy\",\"zoneName\":\"left\",\"moduleInZone\":1,\"resultInModule\":6}\\' data-qo=\\'homePageTaxonomyLeft\\'>\\n                                        TV\\n</a>\\n                                </div>\\n                            </li>\\n                        \\n<li class=\"PartialCategoryNavigation-subcategory\">\\n                                <div class=\"PartialCategoryNavigation-subcategory-item \">\\n                                    \\n\\n<a href=\\'/entertainment/celebrities\\' data-unified=\\'{\"moduleName\":\"taxonomyLeft\",\"providerSource\":\"taxonomy\",\"resultType\":\"taxonomy\",\"zoneName\":\"left\",\"moduleInZone\":1,\"resultInModule\":7}\\' data-qo=\\'homePageTaxonomyLeft\\'>\\n                                        Celebrities\\n</a>\\n                                </div>\\n                            </li>\\n                        \\n</ul>\\n                \\n</li>\\n        \\n</ul>\\n</div>\\n\\n\\n\\n</nav>\\n\\n\\n\\n\\n\\n\\n<div class=\"PartialRtkAdSlot-ads\">\\n        \\n<div class=\"display-ad-block\" style=\"\">\\n            <div id=\"RTK_4OIb\"></div>\\n        </div>\\n        \\n</div>\\n\\n    \\n    \\n\\n\\n\\n\\n\\n</div>\\n                        </aside>\\n                    </div>\\n                \\n<div class=\"col col-fill\">\\n                    <section class=\"l-mid content-visible narrow\">\\n                        <div class=\"l-mid-container\">\\n                            \\n\\n\\n\\n\\n\\n<div class=\"PartialCovidBanner\">\\n        <div class=\"PartialCovidBanner-headline-text\">\\n            <a class=\"PartialCovidBanner-headline-text-link\" href=\\'/slideshow/coronavirus-pandemic-things-to-know\\' data-unified=\\'undefined\\' data-qo=\\'info\\'>\\n                What You Need to Know About the COVID-19 Pandemic</a>\\n        </div>\\n        <div class=\"PartialCovidBanner-info\">\\n            <a class=\"PartialCovidBanner-logo-cdc-link\" href=\\'https://www.cdc.gov/coronavirus/2019-ncov/index.html\\' data-unified=\\'undefined\\' target=\"_blank\">\\n                <div class=\"PartialCovidBanner-logo-cdc\"></div>\\n            </a>\\n            <a class=\"PartialCovidBanner-logo-who-link\" href=\\'https://www.who.int/emergencies/diseases/novel-coronavirus-2019/advice-for-public\\' data-unified=\\'undefined\\' target=\"_blank\">\\n                <div class=\"PartialCovidBanner-logo-who\"></div>\\n            </a>\\n        </div>\\n    </div>\\n\\n\\n<div class=\"PartialCarousel\">\\n    <ul class=\"carousel shift\">\\n        \\n<li class=\"slide\">\\n            <a  class=\"\" href=\\'/travel/ask-answers-safely-enjoy-road-trip\\' data-unified=\\'{\"resultType\":\"content\",\"providerSource\":\"content\",\"slug\":\"ask-answers-safely-enjoy-road-trip\",\"zoneName\":\"center\"}\\' data-qo=\\'slideNavCarousel\\'>\\n                <img data-idx=\"0\" src=\"https://images.ask.com/amg-cms-images/media/7nkvgcegd9ye1szgixx580ylzt0lp50eh2byerpryfd9zr6qhi6ehk2mrb-tng95juexfuwxw1t451lklruv4fatqq5ad0iszo2xejheqpini-j-5-vkzdzobglv3amol1ganvi-i1-vwird2w.png?width=738&height=415&fit=crop&format=pjpg\" alt=\"7nkvgcegd9ye1szgixx580ylzt0lp50eh2byerpryfd9zr6qhi6ehk2mrb Tng95juexfuwxw1t451lklruv4fatqq5ad0iszo2xejheqpini J 5 Vkzdzobglv3amol1ganvi I1 Vwird2w\"/>\\n            </a>\\n            </li>\\n        \\n<li class=\"slide\">\\n            <a  class=\"\" href=\\'/entertainment/august-2020-tv-movies-video-games-books\\' data-unified=\\'{\"resultType\":\"content\",\"providerSource\":\"content\",\"slug\":\"august-2020-tv-movies-video-games-books\",\"zoneName\":\"center\"}\\' data-qo=\\'slideNavCarousel\\'>\\n                <img data-idx=\"1\" src=\"https://images.ask.com/amg-cms-images/media/coming-soon-no-text.png?width=738&height=415&fit=crop&format=pjpg\" alt=\"Coming Soon No Text\"/>\\n            </a>\\n            </li>\\n        \\n<li class=\"slide\">\\n            <a  class=\"\" href=\\'/entertainment/christopher-nolan-greatest-directors\\' data-unified=\\'{\"resultType\":\"content\",\"providerSource\":\"content\",\"slug\":\"christopher-nolan-greatest-directors\",\"zoneName\":\"center\"}\\' data-qo=\\'slideNavCarousel\\'>\\n                <img data-idx=\"2\" src=\"https://images.ask.com/amg-cms-images/media/gettyimages-959392866.jpg?width=738&height=415&fit=crop&format=pjpg\" alt=\"Gettyimages 959392866\"/>\\n            </a>\\n            </li>\\n        \\n<li class=\"slide\">\\n            <a  class=\"\" href=\\'/entertainment/behind-the-scenes-secrets-of-scrubs-revealed\\' data-unified=\\'{\"resultType\":\"content\",\"providerSource\":\"content\",\"slug\":\"behind-the-scenes-secrets-of-scrubs-revealed\",\"zoneName\":\"center\"}\\' data-qo=\\'slideNavCarousel\\'>\\n                <img data-idx=\"3\" src=\"https://images.ask.com/amg-cms-images/media/4d1qc4rooxi5vfblris2jh84blyi9plvcc166she9gwubdikf-v0ymsehnc5e5kzhlcczsuybxdrg7iwur2yjrwig48q0ickmxlonxzb-srw-uadbzydkdqb23zlehro5tuz9u8sc8-r-tk-5a.jpeg?width=738&height=415&fit=crop&format=pjpg\" alt=\"4d1qc4rooxi5vfblris2jh84blyi9plvcc166she9gwubdikf V0ymsehnc5e5kzhlcczsuybxdrg7iwur2yjrwig48q0ickmxlonxzb Srw Uadbzydkdqb23zlehro5tuz9u8sc8 R Tk 5a\"/>\\n            </a>\\n            </li>\\n        \\n<li class=\"slide\">\\n            <a  class=\"\" href=\\'/culture/ask-answers-safe-pro-sports-return-covid19-pandemic\\' data-unified=\\'{\"resultType\":\"content\",\"providerSource\":\"content\",\"slug\":\"ask-answers-safe-pro-sports-return-covid19-pandemic\",\"zoneName\":\"center\"}\\' data-qo=\\'slideNavCarousel\\'>\\n                <img data-idx=\"4\" src=\"https://images.ask.com/amg-cms-images/media/eg-0r0ozscpadm0p8cwlaxu3t7yw-sxbgvvbqcv8ly9ui1lzi7jpzxdxgl06-nioyixk5pda4ovoefmfzyitbnn1xuuzsl3gmf39pvwvjh49ocrdm8xjgkxhqbya2dcrmya8ky5gc8syhvzhow.png?width=738&height=415&fit=crop&format=pjpg\" alt=\"Eg 0r0ozscpadm0p8cwlaxu3t7yw Sxbgvvbqcv8ly9ui1lzi7jpzxdxgl06 Nioyixk5pda4ovoefmfzyitbnn1xuuzsl3gmf39pvwvjh49ocrdm8xjgkxhqbya2dcrmya8ky5gc8syhvzhow\"/>\\n            </a>\\n            </li>\\n        \\n<li class=\"slide\">\\n            <a  class=\"\" href=\\'/travel/virtual-vacations-reykjavik-iceland\\' data-unified=\\'{\"resultType\":\"content\",\"providerSource\":\"content\",\"slug\":\"virtual-vacations-reykjavik-iceland\",\"zoneName\":\"center\"}\\' data-qo=\\'slideNavCarousel\\'>\\n                <img data-idx=\"5\" src=\"https://images.ask.com/amg-cms-images/media/vdricl6vde9ezfg4s9utzfyoo42qpmzoe7cirwcblsb3dg57qctwkvydtuoqsleroukgz-rw8dagmvfokloa7gfqpih9o6fcl8qtpg6d3qzccvnrfbs8sjbzeop28hrvqhbgx-jknq2i-p2h2w.jpeg?width=738&height=415&fit=crop&format=pjpg\" alt=\"Vdricl6vde9ezfg4s9utzfyoo42qpmzoe7cirwcblsb3dg57qctwkvydtuoqsleroukgz Rw8dagmvfokloa7gfqpih9o6fcl8qtpg6d3qzccvnrfbs8sjbzeop28hrvqhbgx Jknq2i P2h2w\"/>\\n            </a>\\n            </li>\\n        \\n</ul>\\n    <ol class=\"nav-slides\">\\n        \\n<li class=\"first visible\" data-idx=\"0\">\\n                <span class=\"nav-slides-link\"></span>\\n            </li>\\n        \\n<li class=\"\" data-idx=\"1\">\\n                <span class=\"nav-slides-link\"></span>\\n            </li>\\n        \\n<li class=\"\" data-idx=\"2\">\\n                <span class=\"nav-slides-link\"></span>\\n            </li>\\n        \\n<li class=\"\" data-idx=\"3\">\\n                <span class=\"nav-slides-link\"></span>\\n            </li>\\n        \\n<li class=\"\" data-idx=\"4\">\\n                <span class=\"nav-slides-link\"></span>\\n            </li>\\n        \\n<li class=\"last\" data-idx=\"5\">\\n                <span class=\"nav-slides-link\"></span>\\n            </li>\\n        \\n</ol>\\n    <div class=\"card\">\\n        \\n<div class=\"card-container visible\" data-idx=\"0\">\\n                <div class=\"card-content\">\\n                    <a class=\"link\" href=\\'travel\\' data-unified=\\'{\"resultType\":\"content\",\"providerSource\":\"content\",\"slug\":\"ask-answers-safely-enjoy-road-trip\",\"zoneName\":\"center\"}\\' data-qo=\\'slideNavCarousel\\'>\\n                        <div class=\"category\">Travel</div>\\n                    </a>\\n                    <a class=\"link\" href=\\'/travel/ask-answers-safely-enjoy-road-trip\\' data-unified=\\'{\"resultType\":\"content\",\"providerSource\":\"content\",\"slug\":\"ask-answers-safely-enjoy-road-trip\",\"zoneName\":\"center\"}\\' data-qo=\\'slideNavCarousel\\'>\\n                        <div class=\"title\">Ask Answers: This is How to Safely Enjoy a Road Trip During the Pandemic</div>\\n                        <div class=\"descr\">Since March, the COVID-19 outbreak has disrupted the travel industry, causing many vacationers to cancel or postpone previously planned trips. Traveli...</div>\\n                    </a>\\n                </div>\\n                <div class=\"card-nav\">\\n                    <div class=\"slide-nbr\">1 of 6</div>\\n                    <div class=\"nav-arrows\">\\n                        <div class=\"nav-left\"></div>\\n                        <div class=\"nav-right\"></div>\\n                    </div>\\n                </div>\\n            </div>\\n        \\n<div class=\"card-container \" data-idx=\"1\">\\n                <div class=\"card-content\">\\n                    <a class=\"link\" href=\\'entertainment\\' data-unified=\\'{\"resultType\":\"content\",\"providerSource\":\"content\",\"slug\":\"august-2020-tv-movies-video-games-books\",\"zoneName\":\"center\"}\\' data-qo=\\'slideNavCarousel\\'>\\n                        <div class=\"category\">Entertainment</div>\\n                    </a>\\n                    <a class=\"link\" href=\\'/entertainment/august-2020-tv-movies-video-games-books\\' data-unified=\\'{\"resultType\":\"content\",\"providerSource\":\"content\",\"slug\":\"august-2020-tv-movies-video-games-books\",\"zoneName\":\"center\"}\\' data-qo=\\'slideNavCarousel\\'>\\n                        <div class=\"title\">Coming Soon: Everything You Need to Watch, Read &amp; Play This August</div>\\n                        <div class=\"descr\">At the beginning of the COVID-19 pandemic, many of us thought things would \"return to normal\" by the summer. However, it\\xe2\\x80\\x99s become clear that August, l...</div>\\n                    </a>\\n                </div>\\n                <div class=\"card-nav\">\\n                    <div class=\"slide-nbr\">2 of 6</div>\\n                    <div class=\"nav-arrows\">\\n                        <div class=\"nav-left\"></div>\\n                        <div class=\"nav-right\"></div>\\n                    </div>\\n                </div>\\n            </div>\\n        \\n<div class=\"card-container \" data-idx=\"2\">\\n                <div class=\"card-content\">\\n                    <a class=\"link\" href=\\'movies\\' data-unified=\\'{\"resultType\":\"content\",\"providerSource\":\"content\",\"slug\":\"christopher-nolan-greatest-directors\",\"zoneName\":\"center\"}\\' data-qo=\\'slideNavCarousel\\'>\\n                        <div class=\"category\">Movies</div>\\n                    </a>\\n                    <a class=\"link\" href=\\'/entertainment/christopher-nolan-greatest-directors\\' data-unified=\\'{\"resultType\":\"content\",\"providerSource\":\"content\",\"slug\":\"christopher-nolan-greatest-directors\",\"zoneName\":\"center\"}\\' data-qo=\\'slideNavCarousel\\'>\\n                        <div class=\"title\">How Did Christopher Nolan Become One of the Greatest Directors of Our Time?</div>\\n                        <div class=\"descr\">Nolan is a filmmaker and screenwriter (often alongside brother Jonathan Nolan) who is determined to tell big stories with complex \\xe2\\x80\\x94 and sometimes baff...</div>\\n                    </a>\\n                </div>\\n                <div class=\"card-nav\">\\n                    <div class=\"slide-nbr\">3 of 6</div>\\n                    <div class=\"nav-arrows\">\\n                        <div class=\"nav-left\"></div>\\n                        <div class=\"nav-right\"></div>\\n                    </div>\\n                </div>\\n            </div>\\n        \\n<div class=\"card-container \" data-idx=\"3\">\\n                <div class=\"card-content\">\\n                    <a class=\"link\" href=\\'tv\\' data-unified=\\'{\"resultType\":\"content\",\"providerSource\":\"content\",\"slug\":\"behind-the-scenes-secrets-of-scrubs-revealed\",\"zoneName\":\"center\"}\\' data-qo=\\'slideNavCarousel\\'>\\n                        <div class=\"category\">TV</div>\\n                    </a>\\n                    <a class=\"link\" href=\\'/entertainment/behind-the-scenes-secrets-of-scrubs-revealed\\' data-unified=\\'{\"resultType\":\"content\",\"providerSource\":\"content\",\"slug\":\"behind-the-scenes-secrets-of-scrubs-revealed\",\"zoneName\":\"center\"}\\' data-qo=\\'slideNavCarousel\\'>\\n                        <div class=\"title\">The TV Doctors Will See You Now: Behind-the-Scenes Secrets of Scrubs</div>\\n                        <div class=\"descr\">Scrubs took the medical TV genre by storm when it first aired, officially kicking the concept of \"medical drama\" to the curb in favor of a much lighte...</div>\\n                    </a>\\n                </div>\\n                <div class=\"card-nav\">\\n                    <div class=\"slide-nbr\">4 of 6</div>\\n                    <div class=\"nav-arrows\">\\n                        <div class=\"nav-left\"></div>\\n                        <div class=\"nav-right\"></div>\\n                    </div>\\n                </div>\\n            </div>\\n        \\n<div class=\"card-container \" data-idx=\"4\">\\n                <div class=\"card-content\">\\n                    <a class=\"link\" href=\\'culture\\' data-unified=\\'{\"resultType\":\"content\",\"providerSource\":\"content\",\"slug\":\"ask-answers-safe-pro-sports-return-covid19-pandemic\",\"zoneName\":\"center\"}\\' data-qo=\\'slideNavCarousel\\'>\\n                        <div class=\"category\">Culture</div>\\n                    </a>\\n                    <a class=\"link\" href=\\'/culture/ask-answers-safe-pro-sports-return-covid19-pandemic\\' data-unified=\\'{\"resultType\":\"content\",\"providerSource\":\"content\",\"slug\":\"ask-answers-safe-pro-sports-return-covid19-pandemic\",\"zoneName\":\"center\"}\\' data-qo=\\'slideNavCarousel\\'>\\n                        <div class=\"title\">Ask Answers: Is It Safe for Pro Sports to Return During the COVID-19 Pandemic?</div>\\n                        <div class=\"descr\">About five months ago, National Collegiate Athletic Association (NCAA) March Madness brackets were busted, the National Basketball Association (NBA) b...</div>\\n                    </a>\\n                </div>\\n                <div class=\"card-nav\">\\n                    <div class=\"slide-nbr\">5 of 6</div>\\n                    <div class=\"nav-arrows\">\\n                        <div class=\"nav-left\"></div>\\n                        <div class=\"nav-right\"></div>\\n                    </div>\\n                </div>\\n            </div>\\n        \\n<div class=\"card-container \" data-idx=\"5\">\\n                <div class=\"card-content\">\\n                    <a class=\"link\" href=\\'travel\\' data-unified=\\'{\"resultType\":\"content\",\"providerSource\":\"content\",\"slug\":\"virtual-vacations-reykjavik-iceland\",\"zoneName\":\"center\"}\\' data-qo=\\'slideNavCarousel\\'>\\n                        <div class=\"category\">Travel</div>\\n                    </a>\\n                    <a class=\"link\" href=\\'/travel/virtual-vacations-reykjavik-iceland\\' data-unified=\\'{\"resultType\":\"content\",\"providerSource\":\"content\",\"slug\":\"virtual-vacations-reykjavik-iceland\",\"zoneName\":\"center\"}\\' data-qo=\\'slideNavCarousel\\'>\\n                        <div class=\"title\">Virtual Vacation: Check Out the Frozen, Crystal Magic of Reykjav\\xc3\\xadk, Iceland</div>\\n                        <div class=\"descr\">As the capital of Iceland, Reykjav\\xc3\\xadk is the largest city in the land of fire and ice, covering 106 square miles. It\\'s also a coastal metropolis full o...</div>\\n                    </a>\\n                </div>\\n                <div class=\"card-nav\">\\n                    <div class=\"slide-nbr\">6 of 6</div>\\n                    <div class=\"nav-arrows\">\\n                        <div class=\"nav-left\"></div>\\n                        <div class=\"nav-right\"></div>\\n                    </div>\\n                </div>\\n            </div>\\n        \\n</div>\\n</div>\\n\\n<script>\\n    \\'use strict\\';\\n    function showNewSlide(newIdx) {\\n        \\n        $(\".nav-slides li\").removeClass(\"visible\");\\n        $(\".PartialCarousel .card-container\").removeClass(\"visible\");\\n        var newLeft = (newIdx * -100) + \"%\";\\n        $(\".PartialCarousel .carousel\").css({left: newLeft});\\n        $(\".nav-slides li[data-idx=\\'\" + newIdx + \"\\']\").addClass(\"visible\");\\n        $(\".PartialCarousel .card-container[data-idx=\\'\" + newIdx + \"\\']\").addClass(\"visible\");\\n    }\\n    function handleNavLeft(e) {\\n        \\n        var idx = $(\".nav-slides li.visible\").index();\\n        \\n        if ($(\".nav-slides li.visible\").hasClass(\"first\")) { idx = $(\".nav-slides li\").length; }\\n        var newIdx = idx - 1;\\n        showNewSlide(newIdx);\\n    }\\n    function handleNavRight(e) {\\n        \\n        var idx = $(\".nav-slides li.visible\").index();\\n        \\n        if ($(\".nav-slides li.visible\").hasClass(\"last\")) {idx = -1;}\\n        var newIdx = idx + 1;\\n        showNewSlide(newIdx);\\n    }\\n    if (App) {\\n        (function () {\\n            App.events = App.events || [];\\n            App.events.push(\\n                {\\n                    \\n                    partial: \"PartialCarousel\",\\n                    contextSelector: \".PartialCarousel\",\\n                    elementSelector: null,\\n                    type: \"ready\",\\n                    handler: function () {\\n                        var navItem = $(\".nav-slides li\", this);\\n                        navItem.on(\"click\", function(e) {\\n                            var newIdx = $(this).index();\\n                            showNewSlide(newIdx);\\n                        });\\n                    }\\n                },\\n                {\\n                    \\n                    partial: \"PartialCarousel\",\\n                    contextSelector: \".PartialCarousel\",\\n                    elementSelector: null,\\n                    type: \"ready\",\\n                    handler: function () {\\n                        \\n                        var navLeft = $(\".nav-left\", this);\\n                        navLeft.on(\"click\", function(e) {\\n                            handleNavLeft(e);\\n                        });\\n                        $(document).on(\"keydown\", function(e) {\\n                            if (e.key === \"ArrowLeft\") {\\n                                handleNavLeft(e);\\n                            }\\n                        });\\n                        \\n                        var navRight = $(\".nav-right\", this);\\n                        navRight.on(\"click\", function(e) {\\n                            handleNavRight(e);\\n                        });\\n                        $(document).on(\"keydown\", function(e) {\\n                            if (e.key === \"ArrowRight\") {\\n                                handleNavRight(e);\\n                            }\\n                        });\\n                    }\\n                },\\n                {\\n                    \\n                    partial: \"PartialCarousel\",\\n                    contextSelector: \".PartialCarousel\",\\n                    elementSelector: null,\\n                    type: \"ready\",\\n                    handler: function () {\\n                        var carouselImages = $(\".PartialCarousel\").find(\".carousel .slide img\"),\\n                            startX = null, startY = null;\\n\\n                        $.each(carouselImages, function () {\\n                                 $(this).on(\"touchstart\", function(e) {\\n                                    startX = e.originalEvent.touches[0].clientX;\\n                                    startY = e.originalEvent.touches[0].clientY;\\n                                });\\n                            }\\n                        );\\n\\n                        $.each(carouselImages, function () {\\n                            $(this).on(\"touchmove\", function (e) {\\n                                if ((startX === null) || (startY === null)) {\\n                                    return;\\n                                }\\n                                var currentX = e.originalEvent.touches[0].clientX;\\n                                var currentY = e.originalEvent.touches[0].clientY;\\n                                var diffX = startX - currentX;\\n                                var diffY = startY - currentY;\\n\\n                                \\n                                if (Math.abs(diffX) > Math.abs(diffY)) {\\n                                    var dataIdx = $(this).data(\"idx\");\\n                                    var newIdx = 0;\\n                                    if (diffX > 0) {\\n                                        \\n                                        \\n                                        if ($(\".nav-slides li[data-idx=\\'\" + dataIdx + \"\\']\").hasClass(\"last\")) { dataIdx = -1; }\\n                                        newIdx = dataIdx + 1;\\n                                    } else {\\n                                        \\n                                        \\n                                        if ($(\".nav-slides li[data-idx=\\'\" + dataIdx + \"\\']\").hasClass(\"first\")) { dataIdx = $(\".nav-slides li\").length; }\\n                                        newIdx = dataIdx - 1;\\n                                    }\\n                                    showNewSlide(newIdx);\\n                                }\\n                                startX = null;\\n                                startY = null;\\n                                e.preventDefault();\\n                            });\\n                        });\\n                    }\\n                }\\n            )\\n        })();\\n    }\\n</script>\\n\\n\\n<div class=\"PartialCategoryArticleTiles top\">    \\n    \\n<div class=\"PartialCategoryArticleTiles-hero-categories \">\\n    \\n</div>\\n\\n    \\n\\n<div class=\"PartialCategoryArticleTiles ad_placeholder  \">\\n    \\n<div id=\"RTK_SiN9\" class=\"display-ad-block\"></div>\\n</div>\\n\\n\\n\\n<div class=\"PartialCategoryArticleTiles-categories\">\\n    \\n\\n\\n<div>\\n                \\n<a href=\\'/entertainment/ask-approved-lesser-known-superhero-films\\' data-unified=\\'{\"resultType\":\"content\",\"providerSource\":\"content\",\"slug\":\"ask-approved-lesser-known-superhero-films\",\"zoneName\":\"center\",\"moduleInZone\":1,\"resultInModule\":1}\\' data-qo=\\'articleNav\\' class=\"PartialCategoryArticleTiles-tile\">\\n                \\n<img src=\"https://images.ask.com/amg-cms-images/media/old-guard-feature.png?width=240&height=165&fit=crop&format=pjpg\" alt=\"Old Guard Feature\"/>\\n                        <div class=\"PartialCategoryArticleTiles-textwrap\">\\n                            <div class=\"PartialCategoryArticleTiles-category\">Movies</div>\\n                            <div class=\"PartialCategoryArticleTiles-title\">Ask Approved: Tired of Just Watching Marvel &amp; DC Movies? Here Are 11 Other Superhero Films That Soar</div>\\n                        </div>\\n                \\n</a>\\n                \\n</div>\\n\\n            \\n\\n\\n\\n\\n<div>\\n                \\n<a href=\\'/culture/ask-answers-why-we-crave-apocalyptic-content-during-covid19-pandemic\\' data-unified=\\'{\"resultType\":\"content\",\"providerSource\":\"content\",\"slug\":\"ask-answers-why-we-crave-apocalyptic-content-during-covid19-pandemic\",\"zoneName\":\"center\",\"moduleInZone\":1,\"resultInModule\":2}\\' data-qo=\\'articleNav\\' class=\"PartialCategoryArticleTiles-tile\">\\n                \\n<img src=\"https://images.ask.com/amg-cms-images/media/fptdeknzqagpwu1dbjnd9rexi-x21bkj7sihyb2f7huarzuu5dfhq6idh7vuup1tjxnug7u6fw2wwjrxta60amhev4swqifoto0l9cgzccjo9-snnrnhxtbgvraj-3te-lsc6zrapwm4idbvew.png?width=240&height=165&fit=crop&format=pjpg\" alt=\"Fptdeknzqagpwu1dbjnd9rexi X21bkj7sihyb2f7huarzuu5dfhq6idh7vuup1tjxnug7u6fw2wwjrxta60amhev4swqifoto0l9cgzccjo9 Snnrnhxtbgvraj 3te Lsc6zrapwm4idbvew\"/>\\n                        <div class=\"PartialCategoryArticleTiles-textwrap\">\\n                            <div class=\"PartialCategoryArticleTiles-category\">Culture</div>\\n                            <div class=\"PartialCategoryArticleTiles-title\">Ask Answers: From \\xe2\\x80\\x9cContagion\\xe2\\x80\\x9d to \\xe2\\x80\\x9cStation Eleven,\\xe2\\x80\\x9d Why Are Folks Craving Apocalyptic Content During a Pandemic?</div>\\n                        </div>\\n                \\n</a>\\n                \\n</div>\\n\\n            \\n\\n\\n\\n\\n<div>\\n                \\n<a href=\\'/culture/heroic-figures-deserve-statues\\' data-unified=\\'{\"resultType\":\"content\",\"providerSource\":\"content\",\"slug\":\"heroic-figures-deserve-statues\",\"zoneName\":\"center\",\"moduleInZone\":1,\"resultInModule\":3}\\' data-qo=\\'articleNav\\' class=\"PartialCategoryArticleTiles-tile\">\\n                \\n<img src=\"https://images.ask.com/amg-cms-images/media/untitled-design-2020-07-22t102419.563.png?width=240&height=165&fit=crop&format=pjpg\" alt=\"Untitled Design 2020 07 22t102419.563\"/>\\n                        <div class=\"PartialCategoryArticleTiles-textwrap\">\\n                            <div class=\"PartialCategoryArticleTiles-category\">Culture</div>\\n                            <div class=\"PartialCategoryArticleTiles-title\">These Heroic Trailblazers Deserve Public Statues to Inspire a Better Tomorrow</div>\\n                        </div>\\n                \\n</a>\\n                \\n</div>\\n\\n            \\n\\n\\n\\n\\n<div>\\n                \\n<a href=\\'/entertainment/best-family-friendly-shows-movies-summer\\' data-unified=\\'{\"resultType\":\"content\",\"providerSource\":\"content\",\"slug\":\"best-family-friendly-shows-movies-summer\",\"zoneName\":\"center\",\"moduleInZone\":1,\"resultInModule\":4}\\' data-qo=\\'articleNav\\' class=\"PartialCategoryArticleTiles-tile\">\\n                \\n<img src=\"https://images.ask.com/amg-cms-images/media/b8res11y0v53b4kkakzqn4qg-ymlxkz2qnsycoqiq3t0b-9n9rtgp5tccchtj6kydin3bua34txeqy52lrrgepyrnyydoaizk9to0-ixjqy72cor3pxbqeytvqjrtvotdjki4yxgbq5r8mlirq.jpeg?width=240&height=165&fit=crop&format=pjpg\" alt=\"B8res11y0v53b4kkakzqn4qg Ymlxkz2qnsycoqiq3t0b 9n9rtgp5tccchtj6kydin3bua34txeqy52lrrgepyrnyydoaizk9to0 Ixjqy72cor3pxbqeytvqjrtvotdjki4yxgbq5r8mlirq\"/>\\n                        <div class=\"PartialCategoryArticleTiles-textwrap\">\\n                            <div class=\"PartialCategoryArticleTiles-category\">Movies</div>\\n                            <div class=\"PartialCategoryArticleTiles-title\">Stay Cool (in More Ways Than One) With the Best Family-Friendly Shows and Movies of the Summer</div>\\n                        </div>\\n                \\n</a>\\n                \\n</div>\\n\\n            \\n\\n\\n\\n\\n<div>\\n                \\n<a href=\\'/travel/virtual-vacation-buenos-aires-argentina\\' data-unified=\\'{\"resultType\":\"content\",\"providerSource\":\"content\",\"slug\":\"virtual-vacation-buenos-aires-argentina\",\"zoneName\":\"center\",\"moduleInZone\":1,\"resultInModule\":5}\\' data-qo=\\'articleNav\\' class=\"PartialCategoryArticleTiles-tile\">\\n                \\n<img src=\"https://images.ask.com/amg-cms-images/media/rtwtjxarlyfgrw8187lverb6y1jric7dcvjt9uv8b8roai2agjps6ubx7ub4zvbuv8putg8xxzomqjpifkjh6p-syupj8auwdukx7kodfg1vsdcacn9o-5pyiaez9gfpavwfnyph4oqj2pglzq.jpeg?width=240&height=165&fit=crop&format=pjpg\" alt=\"Rtwtjxarlyfgrw8187lverb6y1jric7dcvjt9uv8b8roai2agjps6ubx7ub4zvbuv8putg8xxzomqjpifkjh6p Syupj8auwdukx7kodfg1vsdcacn9o 5pyiaez9gfpavwfnyph4oqj2pglzq\"/>\\n                        <div class=\"PartialCategoryArticleTiles-textwrap\">\\n                            <div class=\"PartialCategoryArticleTiles-category\">Travel</div>\\n                            <div class=\"PartialCategoryArticleTiles-title\">Virtual Vacation: Indulge in the Passion and Energy of Buenos Aires, Argentina</div>\\n                        </div>\\n                \\n</a>\\n                \\n</div>\\n\\n            \\n\\n\\n\\n\\n<div>\\n                \\n<a href=\\'/entertainment/grammys-removes-word-urban\\' data-unified=\\'{\"resultType\":\"content\",\"providerSource\":\"content\",\"slug\":\"grammys-removes-word-urban\",\"zoneName\":\"center\",\"moduleInZone\":1,\"resultInModule\":6}\\' data-qo=\\'articleNav\\' class=\"PartialCategoryArticleTiles-tile\">\\n                \\n<img src=\"https://images.ask.com/amg-cms-images/media/4bqtxhrssec65iux9adtqkycse4ec7rzwo-dg9vm4j6dtstrq6l0ciluvty78pyvjlqh1smvy-vz3bxvnuhxeiouq610g89fmgv28m4wn3iirxhxvkft8uxscdwkc8ucjj1m75fuy0bct6ygca.jpeg?width=240&height=165&fit=crop&format=pjpg\" alt=\"4bqtxhrssec65iux9adtqkycse4ec7rzwo Dg9vm4j6dtstrq6l0ciluvty78pyvjlqh1smvy Vz3bxvnuhxeiouq610g89fmgv28m4wn3iirxhxvkft8uxscdwkc8ucjj1m75fuy0bct6ygca\"/>\\n                        <div class=\"PartialCategoryArticleTiles-textwrap\">\\n                            <div class=\"PartialCategoryArticleTiles-category\">Music</div>\\n                            <div class=\"PartialCategoryArticleTiles-title\">It&#39;s Time Music Removes the Word \\xe2\\x80\\x9cUrban\\xe2\\x80\\x9d From Its Labels</div>\\n                        </div>\\n                \\n</a>\\n                \\n</div>\\n\\n            \\n\\n\\n\\n\\n<div>\\n                \\n<a href=\\'/culture/disneyland-disastrous-opening-day-to-orlando-covid19\\' data-unified=\\'{\"resultType\":\"content\",\"providerSource\":\"content\",\"slug\":\"disneyland-disastrous-opening-day-to-orlando-covid19\",\"zoneName\":\"center\",\"moduleInZone\":1,\"resultInModule\":7}\\' data-qo=\\'articleNav\\' class=\"PartialCategoryArticleTiles-tile\">\\n                \\n<img src=\"https://images.ask.com/amg-cms-images/media/4njrfhmr75l-n84vy0xugwofq-ghz1coslowo8whgxesad-9wj1ysj6fmc-j96cbrlmrsijpkwg5oyddd4sm4fjtxqz4ozquayrmgmq9j1lafqqbtzyvzao-vygghj-mzdlqedgypkdclgpvya.png?width=240&height=165&fit=crop&format=pjpg\" alt=\"4njrfhmr75l N84vy0xugwofq Ghz1coslowo8whgxesad 9wj1ysj6fmc J96cbrlmrsijpkwg5oyddd4sm4fjtxqz4ozquayrmgmq9j1lafqqbtzyvzao Vygghj Mzdlqedgypkdclgpvya\"/>\\n                        <div class=\"PartialCategoryArticleTiles-textwrap\">\\n                            <div class=\"PartialCategoryArticleTiles-category\">Culture</div>\\n                            <div class=\"PartialCategoryArticleTiles-title\">From Disneyland\\xe2\\x80\\x99s \\xe2\\x80\\x9cBlack Sunday\\xe2\\x80\\x9d to Orlando\\xe2\\x80\\x99s Pandemic Reopening, Here\\xe2\\x80\\x99s a Look at the Theme Parks\\xe2\\x80\\x99 Not-So-Magical Moments</div>\\n                        </div>\\n                \\n</a>\\n                \\n</div>\\n\\n            \\n\\n\\n\\n\\n<div>\\n                \\n<a href=\\'/entertainment/remembering-legacies-clueless-film\\' data-unified=\\'{\"resultType\":\"content\",\"providerSource\":\"content\",\"slug\":\"remembering-legacies-clueless-film\",\"zoneName\":\"center\",\"moduleInZone\":1,\"resultInModule\":8}\\' data-qo=\\'articleNav\\' class=\"PartialCategoryArticleTiles-tile\">\\n                \\n<img src=\"https://images.ask.com/amg-cms-images/media/clueless.png?width=240&height=165&fit=crop&format=pjpg\" alt=\"Clueless\"/>\\n                        <div class=\"PartialCategoryArticleTiles-textwrap\">\\n                            <div class=\"PartialCategoryArticleTiles-category\">Movies</div>\\n                            <div class=\"PartialCategoryArticleTiles-title\">&quot;As If!&quot;: Remembering the Legacies of Clueless on Its 25th Anniversary</div>\\n                        </div>\\n                \\n</a>\\n                \\n</div>\\n\\n            \\n\\n\\n\\n\\n<div>\\n                \\n<a href=\\'/culture/ask-answers-covid19-pandemic-impact-art-museums\\' data-unified=\\'{\"resultType\":\"content\",\"providerSource\":\"content\",\"slug\":\"ask-answers-covid19-pandemic-impact-art-museums\",\"zoneName\":\"center\",\"moduleInZone\":1,\"resultInModule\":9}\\' data-qo=\\'articleNav\\' class=\"PartialCategoryArticleTiles-tile\">\\n                \\n<img src=\"https://images.ask.com/amg-cms-images/media/btkunirkzpnv-slfqg2uja8aemygwxst5xyb9wx-0l1rxvsrowecpenj6j-t8nnd-3wtj3tmgx9ghrgg5roh9lphhyczu3wt0zopuhisyxz7iip7yrt2pajwnm-8kndmxuxu2bkbt2e2tmz7a.png?width=240&height=165&fit=crop&format=pjpg\" alt=\"Btkunirkzpnv Slfqg2uja8aemygwxst5xyb9wx 0l1rxvsrowecpenj6j T8nnd 3wtj3tmgx9ghrgg5roh9lphhyczu3wt0zopuhisyxz7iip7yrt2pajwnm 8kndmxuxu2bkbt2e2tmz7a\"/>\\n                        <div class=\"PartialCategoryArticleTiles-textwrap\">\\n                            <div class=\"PartialCategoryArticleTiles-category\">Culture</div>\\n                            <div class=\"PartialCategoryArticleTiles-title\">Ask Answers: How Will the COVID-19 Pandemic Impact Our Approach to Art and Museums?</div>\\n                        </div>\\n                \\n</a>\\n                \\n</div>\\n\\n            \\n\\n\\n</div>\\n\\n    \\n<div class=\"PartialCategoryArticleTiles-load-more-div\">\\n            <button class=\"PartialCategoryArticleTiles-load-more\">View More</button>\\n        </div>\\n    \\n</div>\\n\\n\\n<script>\\n    (function () {\\n        if (App) {\\n            App.events = App.events || [];\\n            App.events.push(\\n                {\\n                    partial: \"PartialCategoryArticleTiles\",\\n                    contextSelector: \".PartialCategoryArticleTiles.top\",\\n                    elementSelector: \".PartialCategoryArticleTiles-load-more\",\\n                    type: \"click\",\\n                    handler: function (evt) {\\n                        \\n                        var totalLength = parseInt(\"23\"),\\n                            fragOffset =  $(\".PartialCategoryArticleTiles.top .PartialCategoryArticleTiles-categories > div\").length,\\n                            fragOffSetOverride = parseInt(\"15\"),\\n                            currentHref = (\"\" + window.location.href).replace(/\\\\?.*?$/, \"\").replace(/\\\\/$/, \"\"),\\n                            slashCount = (currentHref.match(/\\\\//g) || []).length;\\n\\n                        if(!isNaN(fragOffSetOverride) && fragOffSetOverride > 0) {\\n                            fragOffset = fragOffSetOverride;\\n                        }\\n                        var fragmentUrl = currentHref + \"/fragment?section=main&partial=./node_modules/ask-archie-shared/components/partials/partial-category-article-tiles&offset=\" + fragOffset + \"&suffix=\" ;\\n\\n                        App[\"PartialCategoryArticleTilesFragOffset\"] = fragOffset;\\n\\n                        \\n                        if (!currentHref) {\\n                            return;\\n                        }\\n                        $.get(fragmentUrl).then(\\n                            function (html) {\\n                                if (html) {\\n                                    $(\".PartialCategoryArticleTiles.top .PartialCategoryArticleTiles-categories > div:last\").after(html);\\n                                    \\n                                    if ($(\"html\").hasClass(\"ie8\")) {\\n                                        $(\".main\").addClass(\"forceRefresh\").removeClass(\"forceRefresh\");\\n                                    }\\n                                    var $item = $(\".PartialCategoryArticleTiles.top .PartialCategoryArticleTiles-categories > div\");\\n                                    if ($item.length >= totalLength) {\\n                                        $(\".PartialCategoryArticleTiles.top .PartialCategoryArticleTiles-load-more\").remove();\\n                                    }\\n                                }\\n\\n                                var morePayLoad = $(\"#PartialCategoryArticleTiles-categories a\").attr(\\'data-unified\\') || {};\\n\\n                                morePayLoad.actionType = \"click\";\\n                                morePayLoad.assetType = \"viewmore\";\\n                                if (ask && ask.unified !== undefined) {\\n                                    ask.unified.sendAction(morePayLoad);\\n                                }\\n\\n                                \\n                                $(document).trigger(\"pageChange\");\\n                                \\n                                \\n                                $(\".PartialCategoryArticleTiles.top .PartialCategoryArticleTiles-load-more\").remove();\\n                            }\\n                        );\\n                    }\\n                }\\n            );\\n        }\\n    })();\\n</script>\\n\\n\\n\\n</div>\\n                    </section>\\n                </div>\\n                \\n<div class=\"col col-sm-12 col-fix-200 right-display-tablet\">\\n                        <aside class=\"l-right content-visible\">\\n                            <div class=\"l-right-container\">\\n                                \\n\\n\\n<div class=\"PartialTrendingArticles-body \">\\n    <div class=\"PartialTrendingArticles-section-title\">trending articles</div>\\n    <div class=\"PartialTrendingArticles-body-inner\">\\n        \\n\\n<a href=\\'/travel/virtual-vacations-reykjavik-iceland\\' data-unified=\\'{\"moduleName\":\"trendingArticles\",\"providerSource\":\"trendingArticles\",\"resultType\":\"content\",\"zoneName\":\"right\",\"moduleInZone\":1,\"resultInModule\":1}\\' data-qo=\\'trendingArticles\\' class=\"PartialTrendingArticles-hero-tile\"  >\\n                <div class=\"PartialTrendingArticles-block\" data-zen=\"true\">\\n                    \\n<img src=\"https://images.ask.com/amg-cms-images/media/vdricl6vde9ezfg4s9utzfyoo42qpmzoe7cirwcblsb3dg57qctwkvydtuoqsleroukgz-rw8dagmvfokloa7gfqpih9o6fcl8qtpg6d3qzccvnrfbs8sjbzeop28hrvqhbgx-jknq2i-p2h2w.jpeg?width=80&height=80&fit=crop&format=pjpg\" class=\"PartialTrendingArticles-thumbnail\" alt=\"Virtual Vacation: Check Out the Frozen, Crystal Magic of Reykjav\\xc3\\xadk, Iceland\" />\\n                    <div class=\"PartialTrendingArticles-feed-title\">Virtual Vacation: Check Out the Frozen, Crystal Magic of Reykjav\\xc3\\xadk, Iceland</div>\\n                </div>\\n            </a>\\n        \\n\\n<a href=\\'/travel/ask-answers-safely-enjoy-road-trip\\' data-unified=\\'{\"moduleName\":\"trendingArticles\",\"providerSource\":\"trendingArticles\",\"resultType\":\"content\",\"zoneName\":\"right\",\"moduleInZone\":1,\"resultInModule\":2}\\' data-qo=\\'trendingArticles\\' class=\"PartialTrendingArticles-hero-tile\"  >\\n                <div class=\"PartialTrendingArticles-block\" data-zen=\"true\">\\n                    \\n<img src=\"https://images.ask.com/amg-cms-images/media/7nkvgcegd9ye1szgixx580ylzt0lp50eh2byerpryfd9zr6qhi6ehk2mrb-tng95juexfuwxw1t451lklruv4fatqq5ad0iszo2xejheqpini-j-5-vkzdzobglv3amol1ganvi-i1-vwird2w.png?width=80&height=80&fit=crop&format=pjpg\" class=\"PartialTrendingArticles-thumbnail\" alt=\"Ask Answers: This is How to Safely Enjoy a Road Trip During the Pandemic\" />\\n                    <div class=\"PartialTrendingArticles-feed-title\">Ask Answers: This is How to Safely Enjoy a Road Trip During the Pandemic</div>\\n                </div>\\n            </a>\\n        \\n\\n<a href=\\'/entertainment/childrens-media-movies-tv-shows-books-family-lgbtq-pride\\' data-unified=\\'{\"moduleName\":\"trendingArticles\",\"providerSource\":\"trendingArticles\",\"resultType\":\"content\",\"zoneName\":\"right\",\"moduleInZone\":1,\"resultInModule\":3}\\' data-qo=\\'trendingArticles\\' class=\"PartialTrendingArticles-hero-tile\"  >\\n                <div class=\"PartialTrendingArticles-block\" data-zen=\"true\">\\n                    \\n<img src=\"https://images.ask.com/amg-cms-images/media/veyk9ubqreils4hdu2qvknjdbwj3hblmh0x-e6kpmj3xmwiurv2kxjwq9txpjypbgye1wtnaxqqx1qzxoa50n0pu-gm-k0ym2aijb2epeocysvrubxqmlurhfc8pj5wlo5-jrek5x18cwmxrma.png?width=80&height=80&fit=crop&format=pjpg\" class=\"PartialTrendingArticles-thumbnail\" alt=\"From a \\xe2\\x80\\x9cGay Rat Wedding\\xe2\\x80\\x9d to Intergalactic Nonbinary Heroes: Children\\xe2\\x80\\x99s Media to Help Your Family Celebrate LGBTQ+ Pride All Year\" />\\n                    <div class=\"PartialTrendingArticles-feed-title\">From a \\xe2\\x80\\x9cGay Rat Wedding\\xe2\\x80\\x9d to Intergalactic Nonbinary Heroes: Children\\xe2\\x80\\x99s Media to Help Your Family Celebrate LGBTQ+ Pride All Year</div>\\n                </div>\\n            </a>\\n        \\n\\n<a href=\\'/entertainment/facts-david-bowie\\' data-unified=\\'{\"moduleName\":\"trendingArticles\",\"providerSource\":\"trendingArticles\",\"resultType\":\"content\",\"zoneName\":\"right\",\"moduleInZone\":1,\"resultInModule\":4}\\' data-qo=\\'trendingArticles\\' class=\"PartialTrendingArticles-hero-tile\"  >\\n                <div class=\"PartialTrendingArticles-block\" data-zen=\"true\">\\n                    \\n<img src=\"https://images.ask.com/amg-cms-images/media/efugqq8yymtnfstf1iodtyzzjsi2vnc15-wilvczu-ev0zvwha3kcdvadjptlfhowwxqegcheyizca7urejxzmov9kfjvgpksdcic8bohrdk4lprht7zmudpove3k4kyywbpsot7n-h023iiew.jpeg?width=80&height=80&fit=crop&format=pjpg\" class=\"PartialTrendingArticles-thumbnail\" alt=\"David Bowie: Little-Known Facts About Everyone&#39;s Favorite Starman\" />\\n                    <div class=\"PartialTrendingArticles-feed-title\">David Bowie: Little-Known Facts About Everyone&#39;s Favorite Starman</div>\\n                </div>\\n            </a>\\n        \\n\\n<a href=\\'/entertainment/nbc-universal-peacock-streaming-service-details\\' data-unified=\\'{\"moduleName\":\"trendingArticles\",\"providerSource\":\"trendingArticles\",\"resultType\":\"content\",\"zoneName\":\"right\",\"moduleInZone\":1,\"resultInModule\":5}\\' data-qo=\\'trendingArticles\\' class=\"PartialTrendingArticles-hero-tile\"  >\\n                <div class=\"PartialTrendingArticles-block\" data-zen=\"true\">\\n                    \\n<img src=\"https://images.ask.com/amg-cms-images/media/ndrxsizsemyanvgyb3qcguu2bfc4gio0azpr40wurtjm7stf5zwc1nb9crk7h8gjp5-a-mfeccqcpks06dlpq2-yksquonuxk0mih-ok3bg7zdmlwh2mntaypgrm4ab897ljob9dny8eo662yw.jpeg?width=80&height=80&fit=crop&format=pjpg\" class=\"PartialTrendingArticles-thumbnail\" alt=\"Ask Answers: What Is NBCUniversal\\xe2\\x80\\x99s Peacock \\xe2\\x80\\x94 and Why Should You Add Another Streaming Service to Your Rotation?\" />\\n                    <div class=\"PartialTrendingArticles-feed-title\">Ask Answers: What Is NBCUniversal\\xe2\\x80\\x99s Peacock \\xe2\\x80\\x94 and Why Should You Add Another Streaming Service to Your Rotation?</div>\\n                </div>\\n            </a>\\n        \\n</div>\\n</div>\\n\\n\\n\\n\\n<div class=\"PartialRtkAdSlot-ads\">\\n        \\n<div class=\"display-ad-block\" style=\"\">\\n            <div id=\"RTK_R485\"></div>\\n        </div>\\n        \\n</div>\\n\\n    \\n    \\n\\n\\n\\n\\n\\n<div class=\"PartialRtkAdSlot-ads\">\\n        \\n<div class=\"display-ad-block\" style=\"\">\\n            <div id=\"RTK_erzF\"></div>\\n        </div>\\n        \\n</div>\\n\\n    \\n    \\n\\n\\n\\n\\n\\n</div>\\n                        </aside>\\n                    </div>\\n                \\n</div>\\n        </main>\\n    </div>\\n</div>\\n\\n<div class=\"row\">\\n    <div class=\"col col-12\">\\n        <footer class=\"l-footer content-visible\">\\n            <div class=\"l-footer-container\">\\n                \\n\\n<div class=\"PartialPageFooter\">\\n    <div class=\"PartialPageFooter-body\">\\n        \\n<div class=\"PartialPageFooter-logo\">\\n                <svg xmlns=\"http://www.w3.org/2000/svg\" xmlns:xlink=\"http://www.w3.org/1999/xlink\" width=\"63.666\" height=\"46.276\" viewBox=\"0 0 63.666 46.276\">\\n    <defs>\\n        <style>.a{fill:none;}.b{clip-path:url(#a);}.c{clip-path:url(#b);}.d{fill:#cf0000;}.e{fill:#fff;}.f{fill:#bfbfbf;}</style>\\n        <clipPath id=\"a\">\\n            <rect class=\"a\" width=\"63.666\" height=\"46.276\"/>\\n        </clipPath>\\n        <clipPath id=\"b\">\\n            <path class=\"a\" d=\"M5.276,40.417a18.594,18.594,0,0,0,1.551,1.237,24.505,24.505,0,0,0,8.962,3.833A36.278,36.278,0,0,0,27.02,46.1a43.543,43.543,0,0,0,5-.772,45.9,45.9,0,0,0,6.541-1.917q1.621-.606,3.194-1.329A43.959,43.959,0,0,0,48.8,38.024q1.125-.8,2.194-1.67.514-.42,1.007-.851.766-.671,1.494-1.382.136-.133.271-.267.847-.846,1.633-1.749.766-.881,1.465-1.816a23.921,23.921,0,0,0,4.324-9.116,16.326,16.326,0,0,0-.636-9.406,14.858,14.858,0,0,0-1.183-2.345,16.21,16.21,0,0,0-2.175-2.778c-.285-.292-.6-.54-.91-.811-.329-.293-.673-.561-1.022-.829A20.166,20.166,0,0,0,53,3.5,25.779,25.779,0,0,0,45.736.775,36.026,36.026,0,0,0,35.41.106a42.677,42.677,0,0,0-5.653.8A46.558,46.558,0,0,0,23.015,2.87c-1.028.384-2.019.8-2.993,1.247A43.152,43.152,0,0,0,11.254,9.4c-.563.441-1.111.9-1.638,1.365-.307.269-.622.549-.92.828a34.031,34.031,0,0,0-2.444,2.515c-.577.662-1.118,1.332-1.638,2.039A23.99,23.99,0,0,0,.473,24.819a16.24,16.24,0,0,0,.491,9.446c.09.236.186.469.288.7A15.071,15.071,0,0,0,2.3,36.93a16,16,0,0,0,1.356,1.837q.118.139.239.274a16.972,16.972,0,0,0,1.379,1.376Z\" transform=\"translate(0 0)\"/>\\n        </clipPath>\\n    </defs>\\n    <g class=\"b\">\\n        <g transform=\"translate(0 0)\">\\n            <path class=\"a\" d=\"M5.276,40.417a18.594,18.594,0,0,0,1.551,1.237,24.505,24.505,0,0,0,8.962,3.833A36.278,36.278,0,0,0,27.02,46.1a43.543,43.543,0,0,0,5-.772,45.9,45.9,0,0,0,6.541-1.917q1.621-.606,3.194-1.329A43.959,43.959,0,0,0,48.8,38.024q1.125-.8,2.194-1.67.514-.42,1.007-.851.766-.671,1.494-1.382.136-.133.271-.267.847-.846,1.633-1.749.766-.881,1.465-1.816a23.921,23.921,0,0,0,4.324-9.116,16.326,16.326,0,0,0-.636-9.406,14.858,14.858,0,0,0-1.183-2.345,16.21,16.21,0,0,0-2.175-2.778c-.285-.292-.6-.54-.91-.811-.329-.293-.673-.561-1.022-.829A20.166,20.166,0,0,0,53,3.5,25.779,25.779,0,0,0,45.736.775,36.026,36.026,0,0,0,35.41.106a42.677,42.677,0,0,0-5.653.8A46.558,46.558,0,0,0,23.015,2.87c-1.028.384-2.019.8-2.993,1.247A43.152,43.152,0,0,0,11.254,9.4c-.563.441-1.111.9-1.638,1.365-.307.269-.622.549-.92.828a34.031,34.031,0,0,0-2.444,2.515c-.577.662-1.118,1.332-1.638,2.039A23.99,23.99,0,0,0,.473,24.819a16.24,16.24,0,0,0,.491,9.446c.09.236.186.469.288.7A15.071,15.071,0,0,0,2.3,36.93a16,16,0,0,0,1.356,1.837q.118.139.239.274a16.972,16.972,0,0,0,1.379,1.376Z\" transform=\"translate(0 0)\"/>\\n            <g class=\"c\" transform=\"translate(0 0)\">\\n                <path class=\"a\" d=\"M0,0H62.407V46.983H0Z\" transform=\"translate(-0.008 -0.68)\"/>\\n            </g>\\n        </g>\\n        <path class=\"d\" d=\"M5.276,40.417a18.594,18.594,0,0,0,1.551,1.237,24.505,24.505,0,0,0,8.962,3.833A36.278,36.278,0,0,0,27.02,46.1a43.543,43.543,0,0,0,5-.772,45.9,45.9,0,0,0,6.541-1.917q1.621-.606,3.194-1.329A43.959,43.959,0,0,0,48.8,38.024q1.125-.8,2.194-1.67.514-.42,1.007-.851.766-.671,1.494-1.382.136-.133.271-.267.847-.846,1.633-1.749.766-.881,1.465-1.816a23.921,23.921,0,0,0,4.324-9.116,16.326,16.326,0,0,0-.636-9.406,14.858,14.858,0,0,0-1.183-2.345,16.21,16.21,0,0,0-2.175-2.778c-.285-.292-.6-.54-.91-.811-.329-.293-.673-.561-1.022-.829A20.166,20.166,0,0,0,53,3.5,25.779,25.779,0,0,0,45.736.775,36.026,36.026,0,0,0,35.41.106a42.677,42.677,0,0,0-5.653.8A46.558,46.558,0,0,0,23.015,2.87c-1.028.384-2.019.8-2.993,1.247A43.152,43.152,0,0,0,11.254,9.4c-.563.441-1.111.9-1.638,1.365-.307.269-.622.549-.92.828a34.031,34.031,0,0,0-2.444,2.515c-.577.662-1.118,1.332-1.638,2.039A23.99,23.99,0,0,0,.473,24.819a16.24,16.24,0,0,0,.491,9.446c.09.236.186.469.288.7A15.071,15.071,0,0,0,2.3,36.93a16,16,0,0,0,1.356,1.837q.118.139.239.274a16.972,16.972,0,0,0,1.379,1.376\" transform=\"translate(0 0)\"/>\\n        <path class=\"e\" d=\"M.282,32.544c-.134,0-.218-.03-.256-.091-.05-.079-.027-.215.071-.416S12.972,5.689,13.991,3.619a.744.744,0,0,1,.575-.468c.212,0,.351.194.379.533.116,1.393,1.141,15,1.741,22.981.111,1.472.191,2.535.2,2.61.04.512-.011.652-.575.744-.322.053-2.54.4-3.063.487a1.151,1.151,0,0,1-.183.016c-.284,0-.307-.154-.31-.389-.006-.454-.033-2.472-.05-3.692l-.007-.525v-.035l-5.643.876c0,.009-2,4.66-2.065,4.823-.089.217-.2.268-.478.313-.864.137-3.681.583-4,.63A1.572,1.572,0,0,1,.282,32.544ZM12.656,13.432h0L8.55,23.024l4.148-.646-.041-8.945Zm8.717,15.833h0a6.624,6.624,0,0,1-2.532-.436c-.591-.244-.674-.426-.489-1.081.133-.47.838-2.907.842-2.921a1.97,1.97,0,0,0,.4.506,3.063,3.063,0,0,0,1.474.737,3.578,3.578,0,0,0,.746.082,2.257,2.257,0,0,0,2.083-1.11,1.988,1.988,0,0,0,.031-1.482,5.667,5.667,0,0,0-1.768-2.4,6.4,6.4,0,0,1-1.9-2.627,5.542,5.542,0,0,1,.4-4.009,5.421,5.421,0,0,1,4.477-2.679,6.426,6.426,0,0,1,.717-.04,7.417,7.417,0,0,1,2.531.464.453.453,0,0,1,.3.652c-.046.135-.481,1.368-.741,2.1l0,.011-.187.529,0,.01a5.322,5.322,0,0,0-1.9-.946c-.053,0-.106,0-.157,0a1.522,1.522,0,0,0-1.269.554,1.746,1.746,0,0,0-.294,1.929c.213.386.428.69,2.355,2.426a5.091,5.091,0,0,1,1.768,3.477,5.552,5.552,0,0,1-.606,2.947,6.393,6.393,0,0,1-1.63,1.935,5.508,5.508,0,0,1-2.352,1.133A12.106,12.106,0,0,1,21.373,29.266Zm7.9-1.319a.22.22,0,0,1-.181-.057c-.07-.084-.04-.272.025-.627.032-.176.793-4.257,1.674-8.982l0-.009C32.2,10.694,33.963,1.264,34.006,1.022c.1-.546.262-.666.68-.731C34.995.243,37.208.008,37.7,0h.03c.216,0,.338.035.407.117.085.1.1.279.037.612-.082.461-3.3,17.453-3.328,17.624.02-.034.972-1.626,1.98-3.312,1.152-1.928,2.344-3.921,2.425-4.055a.754.754,0,0,1,.656-.431l1.849-.187L43,10.243c.087-.009.148-.014.2-.014a.249.249,0,0,1,.133.028.155.155,0,0,1,.072.136.383.383,0,0,1-.065.2c-.18.294-4.732,7.657-4.778,7.731l.336.956c.7,2,2.171,6.175,2.25,6.4.051.149.057.239.02.3s-.135.111-.324.143-2.231.356-3.081.489a1.133,1.133,0,0,1-.173.016c-.2,0-.273-.1-.359-.322-.111-.3-2.52-7.042-2.544-7.11l-1.515,7.81c-.066.346-.194.365-.4.4l-.036.006c-.892.142-2.681.426-3.061.486A2.944,2.944,0,0,1,29.272,27.947Z\" transform=\"translate(8.634 4.894)\"/>\\n        <path class=\"f\" d=\"M2.862,5.724A2.757,2.757,0,0,1,1.75,5.5,2.91,2.91,0,0,1,.227,3.974,2.757,2.757,0,0,1,0,2.862,2.757,2.757,0,0,1,.227,1.75,2.91,2.91,0,0,1,1.75.227,2.757,2.757,0,0,1,2.862,0,2.757,2.757,0,0,1,3.974.227,2.91,2.91,0,0,1,5.5,1.75a2.757,2.757,0,0,1,.227,1.112A2.757,2.757,0,0,1,5.5,3.974,2.91,2.91,0,0,1,3.974,5.5,2.757,2.757,0,0,1,2.862,5.724Zm0-5.216a2.309,2.309,0,0,0-.916.185A2.345,2.345,0,0,0,.692,1.946a2.362,2.362,0,0,0,0,1.831A2.345,2.345,0,0,0,1.946,5.031a2.362,2.362,0,0,0,1.831,0A2.345,2.345,0,0,0,5.031,3.777a2.362,2.362,0,0,0,0-1.831A2.345,2.345,0,0,0,3.777.692,2.309,2.309,0,0,0,2.862.508Zm-.5,3.97h-.6V1.208H3.023a1.278,1.278,0,0,1,.873.254.939.939,0,0,1,.281.731.864.864,0,0,1-.223.646.935.935,0,0,1-.562.254l.853,1.384h-.63L2.8,3.139H2.362V4.477Zm0-2.762v.916H2.8c.093,0,.186,0,.277-.012a.826.826,0,0,0,.25-.058.424.424,0,0,0,.181-.138.413.413,0,0,0,.069-.254.413.413,0,0,0-.069-.254.426.426,0,0,0-.181-.138.777.777,0,0,0-.25-.054c-.083-.005-.176-.008-.277-.008Z\" transform=\"translate(57.942 0.485)\"/>\\n    </g>\\n</svg>\\n</div>\\n        \\n<ul class=\"PartialPageFooter-list\">\\n            \\n\\n<li class=\"PartialPageFooter-item\">\\n                        \\n\\n<a class=\"PartialPageFooter-item-link\"  href=\\'/about\\' data-unified=\\'{\"moduleName\":\"pageFooter\",\"providerSource\":\"navigation\",\"resultType\":\"navigation\",\"zoneName\":\"footer\",\"moduleInZone\":1,\"resultInModule\":1}\\' data-qo=\\'footerLinks\\'>About</a>\\n                        \\n</li>\\n                \\n\\n\\n<li class=\"PartialPageFooter-item\">\\n                        \\n\\n<a class=\"PartialPageFooter-item-link\"  href=\\'/privacy\\' data-unified=\\'{\"moduleName\":\"pageFooter\",\"providerSource\":\"navigation\",\"resultType\":\"navigation\",\"zoneName\":\"footer\",\"moduleInZone\":1,\"resultInModule\":2}\\' data-qo=\\'footerLinks\\'>Privacy</a>\\n                        \\n</li>\\n                \\n\\n\\n<li class=\"PartialPageFooter-item\">\\n                        \\n\\n<a class=\"PartialPageFooter-item-link\"  href=\\'/terms\\' data-unified=\\'{\"moduleName\":\"pageFooter\",\"providerSource\":\"navigation\",\"resultType\":\"navigation\",\"zoneName\":\"footer\",\"moduleInZone\":1,\"resultInModule\":3}\\' data-qo=\\'footerLinks\\'>Terms</a>\\n                        \\n</li>\\n                \\n\\n\\n<li class=\"PartialPageFooter-item\">\\n                        \\n\\n<a class=\"PartialPageFooter-item-link\"  href=\\'/cookies\\' data-unified=\\'{\"moduleName\":\"pageFooter\",\"providerSource\":\"navigation\",\"resultType\":\"navigation\",\"zoneName\":\"footer\",\"moduleInZone\":1,\"resultInModule\":4}\\' data-qo=\\'footerLinks\\'>Cookies</a>\\n                        \\n</li>\\n                \\n\\n\\n<li class=\"PartialPageFooter-item\">\\n                        \\n\\n<a class=\"PartialPageFooter-item-link\" target=_blank href=\\'https://www.askmediagroup.com/careers/\\' data-unified=\\'{\"moduleName\":\"pageFooter\",\"providerSource\":\"navigation\",\"resultType\":\"navigation\",\"zoneName\":\"footer\",\"moduleInZone\":1,\"resultInModule\":5}\\' data-qo=\\'footerLinks\\'>Careers</a>\\n                        \\n</li>\\n                \\n\\n\\n<li class=\"PartialPageFooter-item\">\\n                        \\n\\n<a class=\"PartialPageFooter-item-link\" target=_blank href=\\'https://help.askmediagroup.com/hc/en-us\\' data-unified=\\'{\"moduleName\":\"pageFooter\",\"providerSource\":\"navigation\",\"resultType\":\"navigation\",\"zoneName\":\"footer\",\"moduleInZone\":1,\"resultInModule\":6}\\' data-qo=\\'footerLinks\\'>Help</a>\\n                        \\n</li>\\n                \\n\\n\\n<li class=\"PartialPageFooter-item\">\\n                        \\n\\n<a class=\"PartialPageFooter-item-link\" target=_blank href=\\'https://help.askmediagroup.com/hc/en-us\\' data-unified=\\'{\"moduleName\":\"pageFooter\",\"providerSource\":\"navigation\",\"resultType\":\"navigation\",\"zoneName\":\"footer\",\"moduleInZone\":1,\"resultInModule\":7}\\' data-qo=\\'footerLinks\\'>Feedback</a>\\n                        \\n</li>\\n                \\n\\n\\n<li class=\"PartialPageFooter-item\">\\n                        \\n\\n<a class=\"PartialPageFooter-item-link\"  href=\\'/privacy#5\\' data-unified=\\'{\"moduleName\":\"pageFooter\",\"providerSource\":\"navigation\",\"resultType\":\"navigation\",\"zoneName\":\"footer\",\"moduleInZone\":1,\"resultInModule\":8}\\' data-qo=\\'footerLinks\\'>Do Not Sell</a>\\n                        \\n</li>\\n                \\n\\n<li class=\"PartialPageFooter-item\">\\n                \\n<span class=\"PartialPageFooter-item-label copyright\">\\xc2\\xa9 2020 Ask Media Group, LLC</span>\\n            </li>\\n        </ul>\\n        \\n</div>\\n    \\n<ul class=\"PartialPageFooter-social\">\\n            <li class=\"txt\">Follow Us:</li>\\n            \\n<li class=\"icon fb\">\\n                <a class=\"socialLink\" href=\"https://www.facebook.com/Askdotcom/\" target=\"_blank\" rel=\"noopener noreferrer\">\\n                    <svg xmlns=\"http://www.w3.org/2000/svg\" viewBox=\"0 0 14 14\" preserveAspectRatio=\"xMidYMid meet\">\\n    <path class=\"fb-a\" d=\"M14-12.228A.774.774,0,0,0,13.225-13H.772A.774.774,0,0,0,0-12.228V.228A.774.774,0,0,0,.772,1h6.7V-4.422H5.647V-6.534H7.472V-8.094a2.547,2.547,0,0,1,2.719-2.794,15.042,15.042,0,0,1,1.631.084v1.891H10.7c-.878,0-1.047.416-1.047,1.028v1.35H11.75l-.272,2.112H9.659V1h3.569A.772.772,0,0,0,14,.225Z\" transform=\"translate(0 13)\"/>\\n</svg>\\n</a>\\n            </li>\\n            \\n\\n<li class=\"icon twt\">\\n                <a class=\"socialLink\" href=\"https://twitter.com/askdotcom\" target=\"_blank\" rel=\"noopener noreferrer\">\\n                    <svg xmlns=\"http://www.w3.org/2000/svg\" viewBox=\"0 0 15 12\" preserveAspectRatio=\"xMidYMid meet\">\\n    <path class=\"tw-a\" d=\"M15,1.425a6.39,6.39,0,0,1-1.542,1.566q.01.131.01.394a8.483,8.483,0,0,1-.362,2.433,8.732,8.732,0,0,1-1.1,2.33,9.2,9.2,0,0,1-1.756,1.973A7.85,7.85,0,0,1,7.8,11.489,9.11,9.11,0,0,1,4.721,12,8.632,8.632,0,0,1,0,10.641a6.679,6.679,0,0,0,.742.038A6.077,6.077,0,0,0,4.559,9.384a3.027,3.027,0,0,1-1.789-.6,2.964,2.964,0,0,1-1.085-1.5,3.953,3.953,0,0,0,.581.047,3.226,3.226,0,0,0,.809-.1A3.033,3.033,0,0,1,1.309,6.183a2.9,2.9,0,0,1-.7-1.927V4.219A3.085,3.085,0,0,0,2,4.6,3.042,3.042,0,0,1,1,3.525,2.916,2.916,0,0,1,.628,2.081,2.933,2.933,0,0,1,1.047.553a8.691,8.691,0,0,0,2.8,2.236,8.668,8.668,0,0,0,3.536.933,3.315,3.315,0,0,1-.076-.694,2.9,2.9,0,0,1,.9-2.142A2.986,2.986,0,0,1,10.384,0,2.985,2.985,0,0,1,12.63.956,6.084,6.084,0,0,0,14.581.225,2.948,2.948,0,0,1,13.23,1.894,6.2,6.2,0,0,0,15,1.425Z\"/>\\n</svg>\\n</a>\\n            </li>\\n            \\n\\n<li class=\"icon insta\">\\n                <a class=\"socialLink\" href=\"https://www.instagram.com/askdotcom/\" target=\"_blank\" rel=\"noopener noreferrer\">\\n                    <svg xmlns=\"http://www.w3.org/2000/svg\" viewBox=\"0 0 17.51 17.506\" preserveAspectRatio=\"xMidYMid meet\">\\n    <path class=\"ig-a\" d=\"M8.754-11.992A4.481,4.481,0,0,0,4.266-7.5,4.481,4.481,0,0,0,8.754-3.016,4.481,4.481,0,0,0,13.242-7.5,4.481,4.481,0,0,0,8.754-11.992Zm0,7.406A2.923,2.923,0,0,1,5.836-7.5a2.921,2.921,0,0,1,2.918-2.918A2.921,2.921,0,0,1,11.672-7.5,2.923,2.923,0,0,1,8.754-4.586Zm5.719-7.59a1.047,1.047,0,0,0-1.047-1.047,1.047,1.047,0,0,0-1.047,1.047,1.044,1.044,0,0,0,1.047,1.047A1.044,1.044,0,0,0,14.473-12.176Zm2.973,1.063a5.181,5.181,0,0,0-1.414-3.668A5.215,5.215,0,0,0,12.363-16.2c-1.445-.082-5.777-.082-7.223,0a5.207,5.207,0,0,0-3.668,1.41A5.2,5.2,0,0,0,.059-11.117c-.082,1.445-.082,5.777,0,7.223A5.181,5.181,0,0,0,1.473-.227,5.221,5.221,0,0,0,5.141,1.188c1.445.082,5.777.082,7.223,0A5.181,5.181,0,0,0,16.031-.227a5.215,5.215,0,0,0,1.414-3.668C17.527-5.34,17.527-9.668,17.445-11.113Zm-1.867,8.77A2.954,2.954,0,0,1,13.914-.68c-1.152.457-3.887.352-5.16.352s-4.012.1-5.16-.352A2.954,2.954,0,0,1,1.93-2.344C1.473-3.5,1.578-6.23,1.578-7.5s-.1-4.012.352-5.16a2.954,2.954,0,0,1,1.664-1.664c1.152-.457,3.887-.352,5.16-.352s4.012-.1,5.16.352a2.954,2.954,0,0,1,1.664,1.664c.457,1.152.352,3.887.352,5.16S16.035-3.492,15.578-2.344Z\" transform=\"translate(0.003 16.257)\"/>\\n</svg>\\n</a>\\n            </li>\\n            \\n\\n</ul>\\n    \\n</div>\\n\\n\\n\\n</div>\\n        </footer>\\n    </div>\\n</div>\\n<script src=\"/s/0-5-5/site-ask-sites.min.js\"></script>\\n<script>\\n    $(document).ready(function ($) {\\n        var i, k, event, readyElementList;\\n        if (typeof App.events === \"object\" && App.events.length) {\\n            for (i = 0, k = App.events.length; i < k; i += 1) {\\n                event = App.events[i];\\n                if (event.type === \"ready\") {\\n                    try {\\n                        readyElementList = (event.elementSelector) ?\\n                                $(event.elementSelector, event.contextSelector) :\\n                                $(event.contextSelector);\\n                        readyElementList.each(function (index) {\\n                            event.handler.apply(this);\\n                        });\\n                    } catch (e) {\\n                        console.error(\"Failed to run a \\'ready\\' event handler.\");\\n                        console.error(e);\\n                    }\\n                } else {\\n                    $(event.contextSelector).on(event.type, event.elementSelector || null, event.handler);\\n                }\\n            }\\n        }\\n    });\\n</script>\\n    \\n\\n\\n<script>\\n        var _UnifiedApiParams = {\"uniqueUser\":\"9D719BF3-C3D9-4F41-9434-F03A209EEE53\",\"appId\":\"Archie_Askus\",\"appVersion\":\"dcf858f\",\"appDate\":\"2020-07-29T10:45:33Z\",\"logPageView\":false,\"updateSession\":false,\"domain\":\"ask.com\",\"url\":\"www.ask.com/log/browser/event\",\"backFillRequired\":false,\"eventId\":\"1D29A84D-6DAF-4CF7-B0C3-57D05B61E650\",\"maxSession\":30,\"suppressCookies\":false,\"cookieExpirationMinutes\":129600,\"newSessionOnDomainChange\":false,\"cookieName\":\"uc\"};\\n        _UnifiedApiParams.url = ((\"https:\" === window.location.protocol)? \"https://\" : \"http://\" ) + _UnifiedApiParams.url;\\n    </script>\\n\\n    <script src=\"/s/0-5-5/unified-api.min.js\"></script>\\n    <script>\\n    if(App) {\\n        (function () {\\n            App.events = App.events || [];\\n            App.events.push({\\n                partial: \"partial-unified-footer\",\\n                contextSelector: document,\\n                elementSelector: null,\\n                type: \"ready\",\\n                handler: function () {\\n                        window.ask = window.ask || {};\\n                        var ask = window.ask;\\n                        ask.unified = ask.unified || {};\\n                        ask.unified.pageContext = {\"anuaaf\":\"Archie\",\"anxut\":\"UNIFIED\",\"anuaci\":\"154.5.227.165\",\"anuaafl\":\"0\",\"anxsn\":\"ask-sites-122118477-qwtrz\",\"anuahm\":\"GET\",\"anuadc\":\"use1\",\"anuaqs\":\"\",\"anxu\":\"http://www.ask.com/\",\"anuaad\":\"dirN\",\"anuapbr\":\"\",\"anuaan\":\"\",\"anuaamt\":\"\",\"anuaagc\":\"\",\"anuaadid\":\"\",\"ucctr\":\"\",\"ucctn\":\"\",\"ucs\":\"\",\"ucdm\":\"\",\"uccnt\":\"\",\"ucpc\":\"\",\"anuadtp\":\"desktop\",\"anxbt\":\"\",\"anxbv\":\"\",\"anxpt\":\"\",\"anxpv\":\"\",\"anxcd\":\"\",\"anxw\":\"\",\"anxh\":\"\",\"anxv\":\"dcf858f\",\"anxd\":\"2020-07-29T10:45:33.054Z\",\"anuaptp\":\"homePage\",\"anuachl\":\"home\",\"anuaprdd\":\"search\",\"anxa\":\"Archie_Askus\",\"anxp\":\"ask.com\",\"anualcl\":\"us\",\"anuasv\":\"1\",\"anuaapp\":\"{\\\\\"pageViewId\\\\\":\\\\\"3d70e34fdd7822c9113d4b7789c1e58b\\\\\",\\\\\"queryOrigination\\\\\":\\\\\"\\\\\",\\\\\"templateId\\\\\":\\\\\"desktop\\\\\"}\",\"anuapn\":1,\"anuaptl\":\"Ask.com - What\\'s Your Question?\"};\\n                        ask.unified.payload = {\\n                            pageResults: [],\\n                            providers: ask.unified.pendingProviders || {}\\n                        };\\n\\n                        if (ask.unified.pendingParams) {\\n                            for (var key in ask.unified.pendingParams) {\\n                                ask.unified.payload[key] = ask.unified.pendingParams[key];\\n                            }\\n                            ask.unified.pendingParams = {};\\n                        }\\n\\n                        ask.unified.pendingProviders = {};\\n                        ask.unified.events = [];\\n\\n                        \\n                        ask.unified.addPresentation = function (zoneName, moduleName, moduleOrdinal, resultTemplate, count) {\\n                            for (var i = 0; i < count; i++) {\\n                                var nextResult = {};\\n                                $.extend(nextResult, resultTemplate);\\n                                nextResult.resultInModule = i + 1;\\n                                nextResult.zoneName = zoneName;\\n                                nextResult.moduleName = moduleName;\\n                                nextResult.moduleInZone = moduleOrdinal;\\n                                ask.unified.payload.pageResults.push(nextResult);\\n                            }\\n                        };\\n\\n                        ask.unified.addPresentationResult = function (results) {\\n                            ask.unified.payload.pageResults = ask.unified.payload.pageResults.concat(results);\\n                        };\\n\\n                        \\n                        ask.unified.addProvider = function (providerName, providerPayload) {\\n                            if (!ask.unified.payload.providers[providerName]) {\\n                                ask.unified.payload.providers[providerName] = providerPayload;\\n                            } else {\\n                                $.extend(providerPayload, ask.unified.payload.providers[providerName]);\\n                                ask.unified.payload.providers[providerName] = providerPayload;\\n                            }\\n                        };\\n\\n                        \\n                        ask.unified.sendAction = function (actionPayload, cb) {\\n                            var payload = {};\\n                            $.extend(payload, ask.unified.pageContext);\\n\\n                            if(ask.unified.pageContext.anuaapp) {\\n                                $.extend(actionPayload, JSON.parse(ask.unified.pageContext.anuaapp));\\n                            }\\n                            payload.anuaapp = JSON.stringify(actionPayload);\\n\\n                            if (!cb) {\\n                                _UnifiedApi.logEvent(\"Action\", payload, ask.unified.apiHandler);\\n                            } else {\\n                                var callback = function (success, response) {\\n                                    ask.unified.apiHandler(success, response, function () {\\n                                        cb();\\n                                    });\\n                                };\\n                                _UnifiedApi.logEvent(\"Action\", payload, callback);\\n                            }\\n                        };\\n\\n                        ask.unified.sendBackFill = function () {\\n                            var navInfo = getNavigationTimingInfo(window);\\n                            if(navInfo) {\\n                                \\n                                if (isNavInfoAvailableInUnifiedPayload()) {\\n                                    if(isPageLoadComplete(navInfo)) {\\n                                        \\n                                        if(ask.unified.payload.externalData.navInfo.loadEventEnd === 0) {\\n                                            \\n                                            ask.unified.payload.externalData.navInfo = navInfo;\\n                                        } else {\\n                                            \\n                                            return;\\n                                        }\\n                                    } else {\\n                                        \\n                                        \\n                                        registerSendBackFillOnPageLoadComplete();\\n                                    }\\n                                } else {\\n                                    if(ask.unified.payload.externalData) {\\n                                        ask.unified.payload.externalData.navInfo = navInfo;\\n                                    } else {\\n                                        ask.unified.payload.externalData = { \"navInfo\": navInfo };\\n                                    }\\n\\n                                    if(!isPageLoadComplete(navInfo)) {\\n                                        \\n                                        \\n                                        registerSendBackFillOnPageLoadComplete();\\n                                    }\\n                                }\\n                            }\\n\\n                            var payload = { anxi: _UnifiedApiParams.eventId};\\n                            $.extend(payload, ask.unified.pageContext);\\n\\n                            if ($.isEmptyObject(ask.unified.payload.providers)) {\\n                                delete ask.unified.payload.providers;\\n                            }\\n                            payload.anuaapp = JSON.stringify(ask.unified.payload);\\n                            _UnifiedApi.logEvent(\"BackFill\", payload, ask.unified.apiHandler);\\n\\n                            \\n                            ask.unified.payload = {\\n                                pageResults: [],\\n                                providers: {}\\n                            };\\n                        };\\n\\n                        function isPageLoadComplete(navInfo) {\\n                            return navInfo.loadEventEnd > 0;\\n                        }\\n\\n                        function isNavInfoAvailableInUnifiedPayload() {\\n                            return !!ask.unified.payload.externalData && !!ask.unified.payload.externalData.navInfo;\\n                        }\\n\\n                        function registerSendBackFillOnPageLoadComplete() {\\n                            $(window).on(\"load\", function(){\\n                                setTimeout(function(){\\n                                    ask.unified.sendBackFill();\\n                                }, 0);\\n                            });\\n                        }\\n\\n                        \\n                        ask.unified.cancelPending = function (key) {\\n                            var length = ask.unified.pending.length;\\n                            for (var i = 0; i < length; i++) {\\n                                if (ask.unified.pending[i] === key) {\\n                                    ask.unified.pending.splice(i, 1);\\n                                    break;\\n                                }\\n                            }\\n                        };\\n\\n                        \\n                        ask.unified.apiHandler = function (success, responseText, cb) {\\n                            \\nif (cb) {\\n                                cb();\\n                            }\\n                        };\\n\\n                        var _timedOut = false,\\n                                _timeFromSerpStart = null,\\n                                _adsLoggingTimeout = null,\\n                                _dynamicLoggingTimeout = null,\\n                                _dynamicBingJSLoggingTimeout = null;\\n\\n\\n                        try {\\n                            _timeFromSerpStart = ((new Date() - ask.CSA.startTime) - ask.CSA.showSerpStartTime);\\n                            _adsLoggingTimeout = 5000 - _timeFromSerpStart;\\n                            _dynamicLoggingTimeout = Math.max(_adsLoggingTimeout, 1);\\n                            _dynamicBingJSLoggingTimeout = ask.BING.bingTimeout - 1000;\\n                        } catch (e) {\\n                            _dynamicLoggingTimeout = 2000;\\n                            _dynamicBingJSLoggingTimeout = 3000;\\n                        }\\n\\n                        function mixinCSAAdData(payload) {\\n                            var externalData = {\\n                                csaInfo: {\\n                                    domTime: ask.CSA.domReadyTime ? ask.CSA.domReadyTime : 0,\\n                                    adsResponseTime: ask.CSA.responseTime ? ask.CSA.responseTime : 0,\\n                                    adsShownTime: ask.CSA.adsShownTime ? ask.CSA.adsShownTime : 0,\\n                                    serpShownTime: ask.CSA.serpShownTime ? ask.CSA.serpShownTime : 0,\\n                                    supplement: _timedOut,\\n                                    serpTimedOut: !!ask.CSA.showSerpTimeoutFired,\\n                                    serpTimeoutStartTime: ask.CSA.showSerpStartTime ? ask.CSA.showSerpStartTime : 0,\\n                                    dynamicTimeout: _dynamicLoggingTimeout,\\n                                    viewportHeight: ask.CSA.viewportHeight ? ask.CSA.viewportHeight : 0,\\n                                    viewportWidth: ask.CSA.viewportWidth ? ask.CSA.viewportWidth : 0,\\n                                    adContentRatio: ask.CSA.adContentRatio ? ask.CSA.adContentRatio : 0,\\n                                    csaHeight: ask.CSA.csaHeight ? ask.CSA.csaHeight : 0,\\n                                    csaWidth: ask.CSA.csaWidth ? ask.CSA.csaWidth : 0,\\n                                    centerRailHeight: ask.CSA.centerRailHeight ? ask.CSA.centerRailHeight : 0,\\n                                    centerRailWidth: ask.CSA.centerRailWidth ? ask.CSA.centerRailWidth : 0,\\n                                    rightRailHeight: ask.CSA.rightRailHeight ? ask.CSA.rightRailHeight : 0,\\n                                    rightRailWidth: ask.CSA.rightRailWidth ? ask.CSA.rightRailWidth : 0\\n                                }\\n                            };\\n\\n                              var totalAds = 0,\\n                                  topCount = 0,\\n                                  midCount = 0,\\n                                  botCount = 0,\\n                                  uniqueResultsDisplayed = 0,\\n                                  csaTopModule = \"\" || \"csaTop\",\\n                                  csaMiddleModule = \"\" || \"csaMiddle\",\\n                                  csaBottomModule = \"\" || \"csaBottom\",\\n                                  csaZone = \"\" || \"primary\",\\n                                  csaProviderSource = \"\" || \"csa\";\\n\\n                            if(ask.CSA.adModules){\\n                                for(var i= 0; i < ask.CSA.adModules.length; i++){\\n                                    var m = ask.CSA.adModules[i];\\n                                    totalAds =+ m.count();\\n                                    ask.unified.addPresentation(m.zoneName, m.moduleName, m.ordinal, {resultType: m.resultType, providerSource: m.providerSource}, m.count());\\n                                }\\n                                uniqueResultsDisplayed = ask.CSA.pageOptions.numRepeated ? ask.CSA.adModules[0].count() : totalAds;\\n                            }\\n                            else {\\n                                topCount = ask.CSA.numTopAds ? ask.CSA.numTopAds : 0;\\n                                midCount = ask.CSA.numMiddleAds ? ask.CSA.numMiddleAds : 0;\\n                                botCount = ask.CSA.numBottomAds ? ask.CSA.numBottomAds : 0;\\n                                totalAds = topCount + midCount + botCount;\\n                                ask.unified.addPresentation(csaZone, csaTopModule, ask.moduleOrdinals[0], { resultType: \"gsl\", providerSource: csaProviderSource}, topCount);\\n                                ask.unified.addPresentation(csaZone, csaMiddleModule, ask.moduleOrdinals[1], {resultType: \"gsl\", providerSource: csaProviderSource}, midCount);\\n                                ask.unified.addPresentation(csaZone, csaBottomModule, ask.moduleOrdinals[2], {resultType: \"gsl\", providerSource: csaProviderSource}, botCount);\\n                                uniqueResultsDisplayed = ask.CSA.pageOptions.numRepeated ? (midCount + botCount) : totalAds;\\n                            }\\n\\n                            if(csaZone === \"center\") {\\n                                ask.unified.addProvider(\"gsl\", {\\n                                    zoneCenterResults: totalAds\\n                                });\\n                            } else {\\n                                ask.unified.addProvider(\"gsl\", {\\n                                    zonePrimaryResults: totalAds\\n                                });\\n                            }\\n\\n                            ask.unified.addProvider(\"gsl\", {\\n                                responseTime: ask.CSA.responseTime ? ask.CSA.responseTime : 0,\\n                                resultsDisplayed: totalAds,\\n                                uniqueResultsDisplayed: uniqueResultsDisplayed\\n                            });\\n\\n                            try {\\n                                mixinNavigationTimingInfo(externalData);\\n\\n                                ask.unified.payload.externalData = externalData;\\n                            } catch (e) {\\n                            }\\n                        };\\n\\n                        \\n                        function mixinNavigationTimingInfo(eData) {\\n                            var navInfo = getNavigationTimingInfo(window);\\n                            if(navInfo) {\\n                                eData[\"csaInfo\"].csaStartTime = (ask.CSA.startTime.getTime() - navInfo.navigationStart);\\n                            }\\n                        };\\n\\n                        $(document).on(\"unified:BackFill\", function (evt, data) {\\n                            var ask = window.ask;\\n                            if (data && data.payload) {\\n                                ask.unified.addPresentationResult(data.payload);\\n                                ask.unified.sendBackFill();\\n                            }\\n                        });\\n\\n                        if (\"1\" !== CookieUtil.getChipValue(\"uc\", \"nv\")) {\\n                            \\n                            return;\\n                        }\\n                        if (ask.afc) {\\n                            ask.unified.addProvider(\"gsl\", ask.afc.provider);\\n                            ask.unified.addPresentation.apply(null, ask.afc.presentation.top);\\n                            ask.unified.addPresentation.apply(null, ask.afc.presentation.bottom);\\n                            ask.unified.sendBackFill();\\n                        } else if (!ask.unified.pending || ask.unified.pending.length == 0) {\\n                            if(ask.unified.payload) {\\n                                ask.unified.payload.suspectBackFill = true;\\n                            } else {\\n                                ask.unified.payload = { \"suspectBackFill\": true };\\n                            }\\n                            ask.unified.sendBackFill();\\n                        } else if (ask.CSA && typeof ask.CSA.addCSALoadCallback === \"function\") {\\n                            ask.CSA.addCSALoadCallback(function () {\\n                                var payload = _timedOut ? { pl_supplement: true } : {};\\n\\n                                if (typeof ask.CSA.calculateAdContentMetrics === \"function\") {\\n                                    ask.CSA.calculateAdContentMetrics();\\n                                }\\n\\n                                mixinCSAAdData(payload);\\n\\n                                ask.unified.sendBackFill();\\n                            }, function () {\\n                                _timedOut = true;\\n\\n                                if (ask.CSA && typeof ask.CSA.showSerp === \"function\") {\\n                                    ask.CSA.showSerp();\\n                                }\\n\\n                                ask.unified.sendBackFill();\\n                            }, _dynamicLoggingTimeout);\\n                        } else if (ask.BING && typeof ask.BING.addBINGLoadCallback === \"function\") {\\n                            ask.BING.addBINGLoadCallback(function () {\\n                                ask.unified.payload = {\\n                                    pageResults: [],\\n                                    providers: ask.unified.pendingProviders || {}\\n                                };\\n                                let resultTemplate = {resultType: \"bingJSAds\", providerSource: \"bingAds\"}\\n                                ask.unified.addPresentation(\"center\", \"bingAdsTop\", 1, resultTemplate, ask.BING.numTopAds);\\n                                ask.unified.addPresentation(\"center\", \"bingAdsBottom\", 2, resultTemplate, ask.BING.numBottomAds);\\n                                ask.unified.addPresentation(\"right\", \"bingAdsRight\", 3, resultTemplate, ask.BING.numRightAds);\\n                                ask.unified.sendBackFill();\\n                            },\\n                            _dynamicBingJSLoggingTimeout);\\n                        }\\n                    }\\n                });\\n\\n                App.events.push({\\n                    partial: \"partial-unified-footer\",\\n                    contextSelector: document,\\n                    elementSelector: \"a\",\\n                    type: \"click\",\\n                    handler: function(evt) {\\n                        var ask = window.ask;\\n                        var target = $(this);\\n\\n                        var unifiedData = target.data(\"unified\");\\n                        if(!unifiedData) {\\n                            return; \\n                        }\\n\\n                        var isImage = \"img\" === evt.target.tagName.toLowerCase();\\n                        var assetType = target.data(\"unified-assettype\") || (isImage ? \"image\" : \"primaryTextLink\");\\n                        var destUrl = target.attr(\"href\");\\n                        var qoParam = target.data(\"qo\");\\n\\n                        var appPayload = {\\n                            actionType: \"click\",\\n                            assetType: assetType,\\n                            text: $.trim(target.text()).replace(/\\\\s+/g, \" \"),\\n                            url: destUrl\\n                        };\\n\\n                        \\n                        if(ask.unified.pageContext.metaInfo) {\\n                            unifiedData.metaInfo = unifiedData.metaInfo || {};\\n                            unifiedData.metaInfo.client = ask.unified.pageContext.metaInfo.client || \"\";\\n                            unifiedData.metaInfo.clientChannel = ask.unified.pageContext.metaInfo.clientChannel || \"\";\\n                        }\\n\\n                        \\n                        if(unifiedData.imagePresent) {\\n                            unifiedData.metaInfo = unifiedData.metaInfo || {};\\n                            unifiedData.metaInfo.imagePresent = unifiedData.imagePresent;\\n                            delete unifiedData.imagePresent;\\n                        }\\n\\n                        $.extend(appPayload, unifiedData);\\n\\n                        \\nvar payload = {};\\n                        $.extend(payload, ask.unified.pageContext);\\n\\n                        if(ask.unified.pageContext.anuaapp) {\\n                            $.extend(appPayload, JSON.parse(ask.unified.pageContext.anuaapp));\\n                        }\\n\\n                        var targetAttr = target.attr(\"target\");\\n                        var nonNav = assetType === \"carouselClick\" || assetType === \"loadMore\";\\n\\n                        \\npayload.anuaapp = JSON.stringify(appPayload);\\n\\n                        if(targetAttr || nonNav) {\\n                            _UnifiedApi.logEvent(\"Action\", payload, ask.unified.apiHandler);\\n                        } else {\\n                            var callback = ask.unified.apiHandler;\\n                            if (destUrl) {\\n                                callback = function (success, response) {\\n                                    ask.unified.apiHandler(success, response, function() {\\n                                        destUrl = _UnifiedApi.addURLParam(destUrl, \"qo\", qoParam);\\n                                        document.location = destUrl;\\n                                    });\\n                                };\\n                            }\\n                            _UnifiedApi.logEvent(\"Action\", payload, callback);\\n                            return false;\\n                        }\\n                    }\\n                });\\n        })();\\n        }\\n    </script>\\n\\n\\n\\n<script>\\n\\n    var lssCfg = (function(){\\n        return {\\n            \"topOffset\": 3,\\n            \"leftOffset\": 0,\\n            \"width\": 0,\\n            \"channel\": \"home\",\\n            \"path\": \"web\",\\n            \"disableTurnOffLink\": \"\\'true\\'\",\\n            \"disableSS\": false,\\n            \"server\": \"amg-ss.ask.com\",\\n            \"serverPath\": \"/query\",\\n            \"ldomain\": \"/\",\\n            \"locale\" : \"en-US\",\\n            \"limit\" : 10,\\n            \"ssBold\": \"\\'false\\'\",\\n            \"clearSearchHistory\": \"Clear search history\",\\n            \"max\": \"\",\\n            \"ssFromQueryHistory\": \"true\",\\n            \"queryHistory\": \"\",\\n            \"queryHistoryContentColor\": \"\",\\n            \"ssContentColor\": \"\\'false\\'\",\\n            \"ssContentColorCode\": \"\",\\n            \"matchingTextUnBold\": \"\",\\n            \"suggestionTextUnBold\": \"\",\\n            \"ssItems\": \"\",\\n            \"containerClass\" : \"ac_results\",\\n            \"onSelect\": function(data) {\\n                if( ask && ask.unified && ask.unified.sendAction ){\\n                    var assetType = (data.url.indexOf(\"searchHistory\") !== -1)? \"searchHistory\" : \"searchSuggestions\",\\n                            searchPayload = JSON.parse(\\'{\"resultType\":\"navigation\",\"providerSource\":\"navigation\",\"assetType\":\"searchBar\",\"actionType\":\"click\",\"zoneName\":\"header\",\"moduleName\":\"searchBox\"}\\');\\n                    searchPayload.assetType = assetType;\\n                    ask.unified.sendAction(searchPayload, function () {\\n                        window.location.href = data.url;\\n                    });\\n                    return;\\n                }\\n                window.location.href = data.url;\\n            }\\n        };\\n    })();\\n\\n    if(App) {\\n        (function () {\\n            App.events = App.events || [];\\n            App.events.push({\\n                partial: \"PartialLss\",\\n                contextSelector: document,\\n                elementSelector: null,\\n                type: \"ready\",\\n                handler: function () {\\n                    if (!lssCfg.disableSS) {\\n                        $(\"input[name=q]:first:not(:hidden)\").lssSuggestions(lssCfg);\\n                    }\\n                    \\n}\\n            });\\n        })();\\n    }\\n</script>\\n\\n\\n\\n    <script>\\n        var _comscore = _comscore || [];\\n        _comscore.push(\\n                { c1: \"2\", c2: \"6034776\" }\\n        );\\n        (function()\\n                { var s = document.createElement(\"script\"), el = document.getElementsByTagName(\"script\")[0]; s.async = true; s.src = (document.location.protocol == \"https:\" ? \"https://sb\" : \"http://b\") + \".scorecardresearch.com/beacon.js\"; el.parentNode.insertBefore(s, el); }\\n        )();\\n    </script>\\n    <noscript>\\n        <img src=\"//b.scorecardresearch.com/p?c1=2&c2=6034776&cv=2.0&cj=1\" />\\n    </noscript>\\n\\n\\n\\n\\n\\n</body>\\n</html>\\n\\n\\n'\n"
     ]
    }
   ],
   "source": [
    "### Engine Search with Python (POST request)\n",
    "import urllib.parse \n",
    "import urllib.request\n",
    "\n",
    "url = 'https://www.ask.com/web'\n",
    "# Build and encode data\n",
    "values = {'q':'data analysis'}\n",
    "\n",
    "data = urllib.parse.urlencode(values)\n",
    "data = data.encode('utf-8')\n",
    "req = urllib.request.Request(url, data)\n",
    "with urllib.request.urlopen(req) as response:\n",
    "    page = response.read()\n",
    "    print(page)"
   ]
  },
  {
   "cell_type": "markdown",
   "metadata": {},
   "source": [
    "- Right now we are just looking at the source and the content is in a form that is not very useful to us.\n",
    "- Our browser typically does the heavy lifting in order to convert that mess to something readable.\n",
    "- In the next lecture we’ll see some useful tools for parsing though this data to extract the useful information from websites.\n",
    "***Notes:***\n",
    "- [BeautifulSoup](https://www.pythonforbeginners.com/beautifulsoup/beautifulsoup-4-python) library to make easier to extract information from HTML pages.\n",
    "\n",
    "```text\n",
    " Example\n",
    "How many of the following statements are TRUE?\n",
    "1. An IPv4 address has 4 numbers between 0 and 256 inclusive.\n",
    "2. A domain name is hierarchical with most specific part at the end.\n",
    "3. Typically, a URL will reference more than one resource/item.\n",
    "4. Python uses the file module for accessing URLs.\n",
    "A) 0 B) 1 C) 2 D) 3 E) 4\n",
    "\n",
    "\n",
    "```\n",
    "\n",
    "Answer:\n",
    "How many of the following statements are TRUE?\n",
    "1. An IPv4 address has 4 numbers between 0 and 255 inclusive.\n",
    "2. A domain name is hierarchical with most specific part at the end.\n",
    "3. Typically, a URL will reference more than one resource/item.\n",
    "4. Python uses the file module for accessing URLs.\n",
    "**A) 0** B) 1 C) 2 D) 3 E) 4\n",
    "\n",
    "### Try it\n",
    "```text\n",
    "Example\n",
    "1. Write a Python program that connects to any web page\n",
    "and prints its contents.\n",
    "2. Write a Python program that connects to: http://www.sharecsv.com/dl/ ab69f200ce5071b27e4af626da293d27/province_ population.csv and outputs the CSV data. Modify your program to print each province and its 2015 population in descending sorted order. (See next slide for hint)\n",
    "```\n",
    "### Advanced sorting\n",
    "- Each element in provinces list is yet another list containing the province’s population and name\n",
    "- Calling sort on this list will sort according to that first element (i.e. population)\n",
    "- For advanced sorting, we could also specify a function as a second argument in sort. General syntax:list.sort(reverse=<True/False>, key= myFunc) \n",
    "- For more on this topic see w3schools and GeeksforGeeks\n",
    "\n",
    "### Python Modules\n",
    "- Recall:\n",
    "- A Python module or library is code written by others for a specific purpose. Whenever coding, make sure to look for modules that are already written for you to make your development faster! Modules are imported using the import command:\n",
    "```\n",
    "      import <modulename>\n",
    "```\n",
    "- Useful modules for data analytics:\n",
    "    - Biopython (bioinformatics),\n",
    "    - NumPy (scientific computing/linear algebra), scikit-learn (machine learning),\n",
    "    - pandas (data structures),\n",
    "    - BeautifulSoup (HTML/Web)\n",
    "\n",
    "### Biopython\n",
    "- Biopython ([see more here](https://biopython.org)) is a Python library for biological and bioinformatics computation.\n",
    "- Features:\n",
    "    - parsers for bioinformatics file formats (BLAST, Clustalw, FASTA, Genbank)\n",
    "    - access to online services (NCBI - National Center for Biotechnology Information) sequence class\n",
    "    - clustering/classification (k Nearest Neighbors, Naive Bayes, Support Vector Machines)\n",
    "    - Integration with BioSQL (sequence database schema)\n",
    "\n",
    "### Biopython Installation\n",
    "- Install in Anaconda by typing (in Command Line):\n",
    "```\n",
    "     conda install biopython\n",
    "```     \n",
    "- Check if successfully installed and current version by typing (while running Python):"
   ]
  },
  {
   "cell_type": "code",
   "execution_count": 58,
   "metadata": {},
   "outputs": [
    {
     "ename": "ModuleNotFoundError",
     "evalue": "No module named 'Bio'",
     "output_type": "error",
     "traceback": [
      "\u001b[0;31m---------------------------------------------------------------------------\u001b[0m",
      "\u001b[0;31mModuleNotFoundError\u001b[0m                       Traceback (most recent call last)",
      "\u001b[0;32m<ipython-input-58-c042fd4df3b7>\u001b[0m in \u001b[0;36m<module>\u001b[0;34m\u001b[0m\n\u001b[0;32m----> 1\u001b[0;31m \u001b[0;32mimport\u001b[0m \u001b[0mBio\u001b[0m\u001b[0;34m\u001b[0m\u001b[0;34m\u001b[0m\u001b[0m\n\u001b[0m\u001b[1;32m      2\u001b[0m \u001b[0mprint\u001b[0m\u001b[0;34m(\u001b[0m\u001b[0mBio\u001b[0m\u001b[0;34m.\u001b[0m\u001b[0m__version__\u001b[0m\u001b[0;34m)\u001b[0m\u001b[0;34m\u001b[0m\u001b[0;34m\u001b[0m\u001b[0m\n",
      "\u001b[0;31mModuleNotFoundError\u001b[0m: No module named 'Bio'"
     ]
    }
   ],
   "source": [
    "import Bio\n",
    "print(Bio.__version__)"
   ]
  },
  {
   "cell_type": "code",
   "execution_count": 59,
   "metadata": {},
   "outputs": [
    {
     "name": "stdout",
     "output_type": "stream",
     "text": [
      "Collecting package metadata (current_repodata.json): done\n",
      "Solving environment: done\n",
      "\n",
      "## Package Plan ##\n",
      "\n",
      "  environment location: /Users/tenzinjinpa/opt/anaconda3\n",
      "\n",
      "  added / updated specs:\n",
      "    - biopython\n",
      "\n",
      "\n",
      "The following packages will be downloaded:\n",
      "\n",
      "    package                    |            build\n",
      "    ---------------------------|-----------------\n",
      "    biopython-1.77             |   py37haf1e3a3_0         2.1 MB\n",
      "    ------------------------------------------------------------\n",
      "                                           Total:         2.1 MB\n",
      "\n",
      "The following NEW packages will be INSTALLED:\n",
      "\n",
      "  biopython          pkgs/main/osx-64::biopython-1.77-py37haf1e3a3_0\n",
      "\n",
      "\n",
      "\n",
      "Downloading and Extracting Packages\n",
      "biopython-1.77       | 2.1 MB    | ##################################### | 100% \n",
      "Preparing transaction: done\n",
      "Verifying transaction: done\n",
      "Executing transaction: done\n",
      "\n",
      "Note: you may need to restart the kernel to use updated packages.\n"
     ]
    }
   ],
   "source": [
    "conda install biopython"
   ]
  },
  {
   "cell_type": "markdown",
   "metadata": {},
   "source": [
    "There are some useful resources: [Biopython Tutorial and Cookbook](http://biopython.org/DIST/docs/tutorial/Tutorial.html), and [wiki documentation](https://biopython.org/wiki/Category:Wiki_Documentation) on their [website](https://biopython.org).\n",
    "### Biopython for FASTA files\n",
    "- Today we’ll be using Biopython with FASTA files accessed through [NCBI](https://www.ncbi.nlm.nih.gov/nuccore) website.\n",
    "- A FASTA files are text-based that follow a specific format for representing either nucleotide sequences or amino acid (protein) sequences.\n",
    "- Nucleotides or amino acids are represented using single-letter codes (eg A, T, C, G).\n",
    "- These files begin with a sing line description, followed by the lines of the sequence data.\n",
    "- New lines are distinguished by \">\"\n",
    "### Biopython for FASTA files\n",
    "![alt text](../images/07Python/fasta.png)\n",
    "\n",
    "### Module IUPAC\n",
    "- The International Union of Pure and Applied Chemistry (IUPAC) [notation](https://www.bioinformatics.org/sms/iupac.html) encodes nucleobases by the first letters of their chemical names: Guanine, Cytosine, Adenine, and Thymine\n",
    "\n",
    "- Eleven \"ambiguity\" characters are used to encode every possible combination of the four DNA bases. The use for them arises when positional variations are found among families of related genes.\n",
    "\n",
    "- The \"IUPAC.unambiguous_dna\" specifies the “[alphabet](http://biopython.org/DIST/docs/api/Bio.Alphabet.IUPAC-module.html)\" for the sequence\n",
    "    - Unambiguous DNA sequences will contain letters: A, C, G, T 􏰀 \n",
    "    - Ambiguous DNA sequences will contain the letters: A, C, G,T, R, Y, S, W, K, M, B, D, H, V, N\n",
    "### Biopython Example - Using Sequences\n",
    "- Create a sequence from a string\n",
    "- from Bio.Seq import Seq "
   ]
  },
  {
   "cell_type": "code",
   "execution_count": 61,
   "metadata": {},
   "outputs": [],
   "source": [
    "from Bio.Seq import Seq\n",
    "my_seq = Seq(\"AGTACACTGGT\")"
   ]
  },
  {
   "cell_type": "markdown",
   "metadata": {},
   "source": [
    "Notice that this creates a new class of object called Bio.Seq.Seq (or just Seq object)."
   ]
  },
  {
   "cell_type": "code",
   "execution_count": 62,
   "metadata": {},
   "outputs": [
    {
     "name": "stdout",
     "output_type": "stream",
     "text": [
      "AGTACACTGGT\n",
      "<class 'Bio.Seq.Seq'>\n",
      "<class 'str'>\n"
     ]
    }
   ],
   "source": [
    "print(my_seq) \n",
    "print(type(my_seq))\n",
    "str_seq = \"AGTACACTGGT\"\n",
    "print(type(str_seq)) "
   ]
  },
  {
   "cell_type": "markdown",
   "metadata": {},
   "source": [
    "- The Bio.Seq module allows us to make use of the sequence class type.\n",
    "- While sequences look just like strings on the surface, python will actually treat them differently.\n",
    "- The Seq object provides a number of string like methods (such as count, find, split and strip), which are alphabet aware where appropriate:"
   ]
  },
  {
   "cell_type": "code",
   "execution_count": 65,
   "metadata": {},
   "outputs": [
    {
     "data": {
      "text/plain": [
       "11"
      ]
     },
     "execution_count": 65,
     "metadata": {},
     "output_type": "execute_result"
    }
   ],
   "source": [
    " # find the length of the sequence:\n",
    "len(my_seq)"
   ]
  },
  {
   "cell_type": "code",
   "execution_count": 66,
   "metadata": {},
   "outputs": [
    {
     "data": {
      "text/plain": [
       "3"
      ]
     },
     "execution_count": 66,
     "metadata": {},
     "output_type": "execute_result"
    }
   ],
   "source": [
    "# count the number of As that appear in the seq:\n",
    "my_seq.count(\"A\")   "
   ]
  },
  {
   "cell_type": "markdown",
   "metadata": {},
   "source": [
    "- In addition there are some Seq specific functions that we would not be able to apply to regular python strings.\n",
    "    - transcribe returns the RNA sequence from a DNA sequence by creating a new Seq object.\n",
    "    - eg. repr return the (truncated) representation of the sequence for debugging.\n",
    "    - eg. complement return the complement sequence by creating a new Seq object.\n",
    "    - see a list of functions [here](https://biopython.org/DIST/docs/api/Bio.Seq.Seq-class.html)."
   ]
  },
  {
   "cell_type": "markdown",
   "metadata": {},
   "source": [
    "### Biopython Example - Using Sequences\n",
    "- We can read in fasta files in a similar way to how we read regular text files.\n",
    "- Namely, the SeqIO.parse() function will open a connection to the fasta file, that we can then traverse through using a for loop:\n",
    "- Read a FASTA file and print sequence info"
   ]
  },
  {
   "cell_type": "code",
   "execution_count": null,
   "metadata": {},
   "outputs": [],
   "source": [
    "from Bio import SeqIO\n",
    "for seq_record in SeqIO.parse(\"sequence.fasta\", \"fasta\"): \n",
    "    print(seq_record.id)\n",
    "    print(repr(seq_record.seq))\n",
    "    print(len(seq_record)) \n",
    "    print(seq_record.seq.complement())"
   ]
  },
  {
   "cell_type": "markdown",
   "metadata": {},
   "source": [
    "![alt text](../images/07Python/dna.png)\n",
    "\n",
    "Picture taken from [here](https://www.khanacademy.org/science/biology/gene-expression-central-dogma/transcription-of-dna-into-rna/a/overview-of-transcription)"
   ]
  },
  {
   "cell_type": "markdown",
   "metadata": {},
   "source": [
    "### Biopython Transcription Example"
   ]
  },
  {
   "cell_type": "code",
   "execution_count": 68,
   "metadata": {},
   "outputs": [
    {
     "name": "stdout",
     "output_type": "stream",
     "text": [
      "Coding:  TGCATTGGGTGCTGA\n",
      "Template:  TCAGCACCCAATGCA\n",
      "Messenger RNA: UGCAUUGGGUGCUGA\n",
      "Translation:  CIGC*\n"
     ]
    }
   ],
   "source": [
    "# Transcription\n",
    "from Bio.Seq import Seq\n",
    "from Bio.Alphabet import IUPAC\n",
    "coding_dna = Seq(\"TGCATTGGGTGCTGA\",IUPAC.unambiguous_dna) \n",
    "template_dna = coding_dna.reverse_complement()\n",
    "messenger_rna = coding_dna.transcribe()\n",
    "print(\"Coding: \",coding_dna) \n",
    "print(\"Template: \",template_dna) \n",
    "print(\"Messenger RNA:\",messenger_rna)\n",
    "print(\"Translation: \",messenger_rna.translate())"
   ]
  },
  {
   "cell_type": "markdown",
   "metadata": {},
   "source": [
    "### Biopython - Entrez Database Search\n",
    "- [Entrez](https://www.ncbi.nlm.nih.gov/Web/Search/entrezfs.html) is a federated database enabling retrieval of data from many health sciences databases hosted by the NCBI."
   ]
  },
  {
   "cell_type": "markdown",
   "metadata": {},
   "source": [
    "```\n",
    "# Retrieve data from nucleotide database as FASTA\n",
    "from Bio import Entrez\n",
    "from Bio import SeqIO\n",
    "Entrez.email = \"test@test.com\"\n",
    "# Providing GI for single entry lookup\n",
    "handle = Entrez.efetch(db=\"nucleotide\", rettype=\"fasta\", ... retmode=\"text\", id=\"3288717\")\n",
    "record = SeqIO.read(handle, \"fasta\")\n",
    "handle.close()\n",
    "print(record)\n",
    "\n",
    "```"
   ]
  },
  {
   "cell_type": "markdown",
   "metadata": {},
   "source": [
    "### Biopython - BLAST\n",
    "BLAST (Basic Local Alignment Search Tool) compares an input sequence with database and returns similar sequences. See [here](https://blast.ncbi.nlm.nih.gov/Blast.cgi)"
   ]
  },
  {
   "cell_type": "code",
   "execution_count": 71,
   "metadata": {},
   "outputs": [
    {
     "name": "stdout",
     "output_type": "stream",
     "text": [
      "<?xml version=\"1.0\"?>\n",
      "<!DOCTYPE BlastOutput PUBLIC \"-//NCBI//NCBI BlastOutput/EN\" \"http://www.ncbi.nlm.nih.gov/dtd/NCBI_BlastOutput.dtd\">\n",
      "<BlastOutput>\n",
      "  <BlastOutput_program>blastn</BlastOutput_program>\n",
      "  <BlastOutput_version>BLASTN 2.10.1+</BlastOutput_version>\n",
      "  <BlastOutput_reference>Stephen F. Altschul, Thomas L. Madden, Alejandro A. Sch&amp;auml;ffer, Jinghui Zhang, Zheng Zhang, Webb Miller, and David J. Lipman (1997), &quot;Gapped BLAST and PSI-BLAST: a new generation of protein database search programs&quot;, Nucleic Acids Res. 25:3389-3402.</BlastOutput_reference>\n",
      "  <BlastOutput_db>nt</BlastOutput_db>\n",
      "  <BlastOutput_query-ID>Query_42403</BlastOutput_query-ID>\n",
      "  <BlastOutput_query-def>No definition line</BlastOutput_query-def>\n",
      "  <BlastOutput_query-len>28</BlastOutput_query-len>\n",
      "  <BlastOutput_param>\n",
      "    <Parameters>\n",
      "      <Parameters_expect>10</Parameters_expect>\n",
      "      <Parameters_sc-match>2</Parameters_sc-match>\n",
      "      <Parameters_sc-mismatch>-3</Parameters_sc-mismatch>\n",
      "      <Parameters_gap-open>5</Parameters_gap-open>\n",
      "      <Parameters_gap-extend>2</Parameters_gap-extend>\n",
      "      <Parameters_filter>L;m;</Parameters_filter>\n",
      "    </Parameters>\n",
      "  </BlastOutput_param>\n",
      "<BlastOutput_iterations>\n",
      "<Iteration>\n",
      "  <Iteration_iter-num>1</Iteration_iter-num>\n",
      "  <Iteration_query-ID>Query_42403</Iteration_query-ID>\n",
      "  <Iteration_query-def>No definition line</Iteration_query-def>\n",
      "  <Iteration_query-len>28</Iteration_query-len>\n",
      "<Iteration_hits>\n",
      "<Hit>\n",
      "  <Hit_num>1</Hit_num>\n",
      "  <Hit_id>gi|1243416810|gb|CP023335.1|</Hit_id>\n",
      "  <Hit_def>Drosophila melanogaster strain rover (forR) chromosome X</Hit_def>\n",
      "  <Hit_accession>CP023335</Hit_accession>\n",
      "  <Hit_len>22422823</Hit_len>\n",
      "  <Hit_hsps>\n",
      "    <Hsp>\n",
      "      <Hsp_num>1</Hsp_num>\n",
      "      <Hsp_bit-score>51.7806</Hsp_bit-score>\n",
      "      <Hsp_score>56</Hsp_score>\n",
      "      <Hsp_evalue>0.000239531</Hsp_evalue>\n",
      "      <Hsp_query-from>1</Hsp_query-from>\n",
      "      <Hsp_query-to>28</Hsp_query-to>\n",
      "      <Hsp_hit-from>370903</Hsp_hit-from>\n",
      "      <Hsp_hit-to>370930</Hsp_hit-to>\n",
      "      <Hsp_query-frame>1</Hsp_query-frame>\n",
      "      <Hsp_hit-frame>1</Hsp_hit-frame>\n",
      "      <Hsp_identity>28</Hsp_identity>\n",
      "      <Hsp_positive>28</Hsp_positive>\n",
      "      <Hsp_gaps>0</Hsp_gaps>\n",
      "      <Hsp_align-len>28</Hsp_align-len>\n",
      "      <Hsp_qseq>ACTATTCCAAACAGCTCATAACCAGAAA</Hsp_qseq>\n",
      "      <Hsp_hseq>ACTATTCCAAACAGCTCATAACCAGAAA</Hsp_hseq>\n",
      "      <Hsp_midline>||||||||||||||||||||||||||||</Hsp_midline>\n",
      "    </Hsp>\n",
      "  </Hit_hsps>\n",
      "</Hit>\n",
      "<Hit>\n",
      "  <Hit_num>2</Hit_num>\n",
      "  <Hit_id>gi|1243416743|gb|CP023329.1|</Hit_id>\n",
      "  <Hit_def>Drosophila melanogaster strain sitter (fors) chromosome X</Hit_def>\n",
      "  <Hit_accession>CP023329</Hit_accession>\n",
      "  <Hit_len>22422435</Hit_len>\n",
      "  <Hit_hsps>\n",
      "    <Hsp>\n",
      "      <Hsp_num>1</Hsp_num>\n",
      "      <Hsp_bit-score>51.7806</Hsp_bit-score>\n",
      "      <Hsp_score>56</Hsp_score>\n",
      "      <Hsp_evalue>0.000239531</Hsp_evalue>\n",
      "      <Hsp_query-from>1</Hsp_query-from>\n",
      "      <Hsp_query-to>28</Hsp_query-to>\n",
      "      <Hsp_hit-from>370904</Hsp_hit-from>\n",
      "      <Hsp_hit-to>370931</Hsp_hit-to>\n",
      "      <Hsp_query-frame>1</Hsp_query-frame>\n",
      "      <Hsp_hit-frame>1</Hsp_hit-frame>\n",
      "      <Hsp_identity>28</Hsp_identity>\n",
      "      <Hsp_positive>28</Hsp_positive>\n",
      "      <Hsp_gaps>0</Hsp_gaps>\n",
      "      <Hsp_align-len>28</Hsp_align-len>\n",
      "      <Hsp_qseq>ACTATTCCAAACAGCTCATAACCAGAAA</Hsp_qseq>\n",
      "      <Hsp_hseq>ACTATTCCAAACAGCTCATAACCAGAAA</Hsp_hseq>\n",
      "      <Hsp_midline>||||||||||||||||||||||||||||</Hsp_midline>\n",
      "    </Hsp>\n",
      "  </Hit_hsps>\n",
      "</Hit>\n",
      "<Hit>\n",
      "  <Hit_num>3</Hit_num>\n",
      "  <Hit_id>gi|667695275|gb|AE014298.5|</Hit_id>\n",
      "  <Hit_def>Drosophila melanogaster chromosome X</Hit_def>\n",
      "  <Hit_accession>AE014298</Hit_accession>\n",
      "  <Hit_len>23542271</Hit_len>\n",
      "  <Hit_hsps>\n",
      "    <Hsp>\n",
      "      <Hsp_num>1</Hsp_num>\n",
      "      <Hsp_bit-score>51.7806</Hsp_bit-score>\n",
      "      <Hsp_score>56</Hsp_score>\n",
      "      <Hsp_evalue>0.000239531</Hsp_evalue>\n",
      "      <Hsp_query-from>1</Hsp_query-from>\n",
      "      <Hsp_query-to>28</Hsp_query-to>\n",
      "      <Hsp_hit-from>476874</Hsp_hit-from>\n",
      "      <Hsp_hit-to>476901</Hsp_hit-to>\n",
      "      <Hsp_query-frame>1</Hsp_query-frame>\n",
      "      <Hsp_hit-frame>1</Hsp_hit-frame>\n",
      "      <Hsp_identity>28</Hsp_identity>\n",
      "      <Hsp_positive>28</Hsp_positive>\n",
      "      <Hsp_gaps>0</Hsp_gaps>\n",
      "      <Hsp_align-len>28</Hsp_align-len>\n",
      "      <Hsp_qseq>ACTATTCCAAACAGCTCATAACCAGAAA</Hsp_qseq>\n",
      "      <Hsp_hseq>ACTATTCCAAACAGCTCATAACCAGAAA</Hsp_hseq>\n",
      "      <Hsp_midline>||||||||||||||||||||||||||||</Hsp_midline>\n",
      "    </Hsp>\n",
      "  </Hit_hsps>\n",
      "</Hit>\n",
      "<Hit>\n",
      "  <Hit_num>4</Hit_num>\n",
      "  <Hit_id>gi|21538995|gb|AC105774.8|</Hit_id>\n",
      "  <Hit_def>Drosophila melanogaster X BAC RP98-8O5 (Roswell Park Cancer Institute Drosophila BAC Library) complete sequence</Hit_def>\n",
      "  <Hit_accession>AC105774</Hit_accession>\n",
      "  <Hit_len>170186</Hit_len>\n",
      "  <Hit_hsps>\n",
      "    <Hsp>\n",
      "      <Hsp_num>1</Hsp_num>\n",
      "      <Hsp_bit-score>51.7806</Hsp_bit-score>\n",
      "      <Hsp_score>56</Hsp_score>\n",
      "      <Hsp_evalue>0.000239531</Hsp_evalue>\n",
      "      <Hsp_query-from>1</Hsp_query-from>\n",
      "      <Hsp_query-to>28</Hsp_query-to>\n",
      "      <Hsp_hit-from>76213</Hsp_hit-from>\n",
      "      <Hsp_hit-to>76240</Hsp_hit-to>\n",
      "      <Hsp_query-frame>1</Hsp_query-frame>\n",
      "      <Hsp_hit-frame>1</Hsp_hit-frame>\n",
      "      <Hsp_identity>28</Hsp_identity>\n",
      "      <Hsp_positive>28</Hsp_positive>\n",
      "      <Hsp_gaps>0</Hsp_gaps>\n",
      "      <Hsp_align-len>28</Hsp_align-len>\n",
      "      <Hsp_qseq>ACTATTCCAAACAGCTCATAACCAGAAA</Hsp_qseq>\n",
      "      <Hsp_hseq>ACTATTCCAAACAGCTCATAACCAGAAA</Hsp_hseq>\n",
      "      <Hsp_midline>||||||||||||||||||||||||||||</Hsp_midline>\n",
      "    </Hsp>\n",
      "  </Hit_hsps>\n",
      "</Hit>\n",
      "<Hit>\n",
      "  <Hit_num>5</Hit_num>\n",
      "  <Hit_id>gi|3392907|emb|AL009147.1|</Hit_id>\n",
      "  <Hit_def>Drosophila melanogaster cosmid clone 171D11</Hit_def>\n",
      "  <Hit_accession>AL009147</Hit_accession>\n",
      "  <Hit_len>35000</Hit_len>\n",
      "  <Hit_hsps>\n",
      "    <Hsp>\n",
      "      <Hsp_num>1</Hsp_num>\n",
      "      <Hsp_bit-score>51.7806</Hsp_bit-score>\n",
      "      <Hsp_score>56</Hsp_score>\n",
      "      <Hsp_evalue>0.000239531</Hsp_evalue>\n",
      "      <Hsp_query-from>1</Hsp_query-from>\n",
      "      <Hsp_query-to>28</Hsp_query-to>\n",
      "      <Hsp_hit-from>1</Hsp_hit-from>\n",
      "      <Hsp_hit-to>28</Hsp_hit-to>\n",
      "      <Hsp_query-frame>1</Hsp_query-frame>\n",
      "      <Hsp_hit-frame>1</Hsp_hit-frame>\n",
      "      <Hsp_identity>28</Hsp_identity>\n",
      "      <Hsp_positive>28</Hsp_positive>\n",
      "      <Hsp_gaps>0</Hsp_gaps>\n",
      "      <Hsp_align-len>28</Hsp_align-len>\n",
      "      <Hsp_qseq>ACTATTCCAAACAGCTCATAACCAGAAA</Hsp_qseq>\n",
      "      <Hsp_hseq>ACTATTCCAAACAGCTCATAACCAGAAA</Hsp_hseq>\n",
      "      <Hsp_midline>||||||||||||||||||||||||||||</Hsp_midline>\n",
      "    </Hsp>\n",
      "  </Hit_hsps>\n",
      "</Hit>\n",
      "<Hit>\n",
      "  <Hit_num>6</Hit_num>\n",
      "  <Hit_id>gi|3392899|emb|AL009188.1|</Hit_id>\n",
      "  <Hit_def>Drosophila melanogaster cosmid clone 165H7</Hit_def>\n",
      "  <Hit_accession>AL009188</Hit_accession>\n",
      "  <Hit_len>34159</Hit_len>\n",
      "  <Hit_hsps>\n",
      "    <Hsp>\n",
      "      <Hsp_num>1</Hsp_num>\n",
      "      <Hsp_bit-score>51.7806</Hsp_bit-score>\n",
      "      <Hsp_score>56</Hsp_score>\n",
      "      <Hsp_evalue>0.000239531</Hsp_evalue>\n",
      "      <Hsp_query-from>1</Hsp_query-from>\n",
      "      <Hsp_query-to>28</Hsp_query-to>\n",
      "      <Hsp_hit-from>34060</Hsp_hit-from>\n",
      "      <Hsp_hit-to>34087</Hsp_hit-to>\n",
      "      <Hsp_query-frame>1</Hsp_query-frame>\n",
      "      <Hsp_hit-frame>1</Hsp_hit-frame>\n",
      "      <Hsp_identity>28</Hsp_identity>\n",
      "      <Hsp_positive>28</Hsp_positive>\n",
      "      <Hsp_gaps>0</Hsp_gaps>\n",
      "      <Hsp_align-len>28</Hsp_align-len>\n",
      "      <Hsp_qseq>ACTATTCCAAACAGCTCATAACCAGAAA</Hsp_qseq>\n",
      "      <Hsp_hseq>ACTATTCCAAACAGCTCATAACCAGAAA</Hsp_hseq>\n",
      "      <Hsp_midline>||||||||||||||||||||||||||||</Hsp_midline>\n",
      "    </Hsp>\n",
      "  </Hit_hsps>\n",
      "</Hit>\n",
      "<Hit>\n",
      "  <Hit_num>7</Hit_num>\n",
      "  <Hit_id>gi|1810186829|emb|LR761637.1|</Hit_id>\n",
      "  <Hit_def>Crassostrea gigas genome assembly, linkage group: LG4</Hit_def>\n",
      "  <Hit_accession>LR761637</Hit_accession>\n",
      "  <Hit_len>53127865</Hit_len>\n",
      "  <Hit_hsps>\n",
      "    <Hsp>\n",
      "      <Hsp_num>1</Hsp_num>\n",
      "      <Hsp_bit-score>40.9604</Hsp_bit-score>\n",
      "      <Hsp_score>44</Hsp_score>\n",
      "      <Hsp_evalue>0.433082</Hsp_evalue>\n",
      "      <Hsp_query-from>1</Hsp_query-from>\n",
      "      <Hsp_query-to>22</Hsp_query-to>\n",
      "      <Hsp_hit-from>38657889</Hsp_hit-from>\n",
      "      <Hsp_hit-to>38657910</Hsp_hit-to>\n",
      "      <Hsp_query-frame>1</Hsp_query-frame>\n",
      "      <Hsp_hit-frame>1</Hsp_hit-frame>\n",
      "      <Hsp_identity>22</Hsp_identity>\n",
      "      <Hsp_positive>22</Hsp_positive>\n",
      "      <Hsp_gaps>0</Hsp_gaps>\n",
      "      <Hsp_align-len>22</Hsp_align-len>\n",
      "      <Hsp_qseq>ACTATTCCAAACAGCTCATAAC</Hsp_qseq>\n",
      "      <Hsp_hseq>ACTATTCCAAACAGCTCATAAC</Hsp_hseq>\n",
      "      <Hsp_midline>||||||||||||||||||||||</Hsp_midline>\n",
      "    </Hsp>\n",
      "  </Hit_hsps>\n",
      "</Hit>\n",
      "<Hit>\n",
      "  <Hit_num>8</Hit_num>\n",
      "  <Hit_id>gi|685042192|emb|LN590717.1|</Hit_id>\n",
      "  <Hit_def>Cyprinus carpio genome assembly common carp genome, scaffold: LG12, chromosome: 12</Hit_def>\n",
      "  <Hit_accession>LN590717</Hit_accession>\n",
      "  <Hit_len>12725232</Hit_len>\n",
      "  <Hit_hsps>\n",
      "    <Hsp>\n",
      "      <Hsp_num>1</Hsp_num>\n",
      "      <Hsp_bit-score>40.0587</Hsp_bit-score>\n",
      "      <Hsp_score>43</Hsp_score>\n",
      "      <Hsp_evalue>1.5116</Hsp_evalue>\n",
      "      <Hsp_query-from>1</Hsp_query-from>\n",
      "      <Hsp_query-to>24</Hsp_query-to>\n",
      "      <Hsp_hit-from>4348134</Hsp_hit-from>\n",
      "      <Hsp_hit-to>4348111</Hsp_hit-to>\n",
      "      <Hsp_query-frame>1</Hsp_query-frame>\n",
      "      <Hsp_hit-frame>-1</Hsp_hit-frame>\n",
      "      <Hsp_identity>23</Hsp_identity>\n",
      "      <Hsp_positive>23</Hsp_positive>\n",
      "      <Hsp_gaps>0</Hsp_gaps>\n",
      "      <Hsp_align-len>24</Hsp_align-len>\n",
      "      <Hsp_qseq>ACTATTCCAAACAGCTCATAACCA</Hsp_qseq>\n",
      "      <Hsp_hseq>ACTAATCCAAACAGCTCATAACCA</Hsp_hseq>\n",
      "      <Hsp_midline>|||| |||||||||||||||||||</Hsp_midline>\n",
      "    </Hsp>\n",
      "  </Hit_hsps>\n",
      "</Hit>\n",
      "<Hit>\n",
      "  <Hit_num>9</Hit_num>\n",
      "  <Hit_id>gi|1695378237|emb|LR597439.1|</Hit_id>\n",
      "  <Hit_def>Salarias fasciatus genome assembly, chromosome: 4</Hit_def>\n",
      "  <Hit_accession>LR597439</Hit_accession>\n",
      "  <Hit_len>27169852</Hit_len>\n",
      "  <Hit_hsps>\n",
      "    <Hsp>\n",
      "      <Hsp_num>1</Hsp_num>\n",
      "      <Hsp_bit-score>38.2554</Hsp_bit-score>\n",
      "      <Hsp_score>41</Hsp_score>\n",
      "      <Hsp_evalue>5.27602</Hsp_evalue>\n",
      "      <Hsp_query-from>5</Hsp_query-from>\n",
      "      <Hsp_query-to>27</Hsp_query-to>\n",
      "      <Hsp_hit-from>20762406</Hsp_hit-from>\n",
      "      <Hsp_hit-to>20762428</Hsp_hit-to>\n",
      "      <Hsp_query-frame>1</Hsp_query-frame>\n",
      "      <Hsp_hit-frame>1</Hsp_hit-frame>\n",
      "      <Hsp_identity>22</Hsp_identity>\n",
      "      <Hsp_positive>22</Hsp_positive>\n",
      "      <Hsp_gaps>0</Hsp_gaps>\n",
      "      <Hsp_align-len>23</Hsp_align-len>\n",
      "      <Hsp_qseq>TTCCAAACAGCTCATAACCAGAA</Hsp_qseq>\n",
      "      <Hsp_hseq>TTCCAAACTGCTCATAACCAGAA</Hsp_hseq>\n",
      "      <Hsp_midline>|||||||| ||||||||||||||</Hsp_midline>\n",
      "    </Hsp>\n",
      "  </Hit_hsps>\n",
      "</Hit>\n",
      "<Hit>\n",
      "  <Hit_num>10</Hit_num>\n",
      "  <Hit_id>gi|1540409112|ref|XR_003495806.1|</Hit_id>\n",
      "  <Hit_def>PREDICTED: Anas platyrhynchos uncharacterized LOC113842900 (LOC113842900), ncRNA</Hit_def>\n",
      "  <Hit_accession>XR_003495806</Hit_accession>\n",
      "  <Hit_len>2818</Hit_len>\n",
      "  <Hit_hsps>\n",
      "    <Hsp>\n",
      "      <Hsp_num>1</Hsp_num>\n",
      "      <Hsp_bit-score>38.2554</Hsp_bit-score>\n",
      "      <Hsp_score>41</Hsp_score>\n",
      "      <Hsp_evalue>5.27602</Hsp_evalue>\n",
      "      <Hsp_query-from>6</Hsp_query-from>\n",
      "      <Hsp_query-to>28</Hsp_query-to>\n",
      "      <Hsp_hit-from>1904</Hsp_hit-from>\n",
      "      <Hsp_hit-to>1926</Hsp_hit-to>\n",
      "      <Hsp_query-frame>1</Hsp_query-frame>\n",
      "      <Hsp_hit-frame>1</Hsp_hit-frame>\n",
      "      <Hsp_identity>22</Hsp_identity>\n",
      "      <Hsp_positive>22</Hsp_positive>\n",
      "      <Hsp_gaps>0</Hsp_gaps>\n",
      "      <Hsp_align-len>23</Hsp_align-len>\n",
      "      <Hsp_qseq>TCCAAACAGCTCATAACCAGAAA</Hsp_qseq>\n",
      "      <Hsp_hseq>TCCAAACAGCTCATAACCAGGAA</Hsp_hseq>\n",
      "      <Hsp_midline>|||||||||||||||||||| ||</Hsp_midline>\n",
      "    </Hsp>\n",
      "  </Hit_hsps>\n",
      "</Hit>\n",
      "<Hit>\n",
      "  <Hit_num>11</Hit_num>\n",
      "  <Hit_id>gi|1795661394|emb|LR738417.1|</Hit_id>\n",
      "  <Hit_def>Lutra lutra genome assembly, chromosome: 15</Hit_def>\n",
      "  <Hit_accession>LR738417</Hit_accession>\n",
      "  <Hit_len>69992071</Hit_len>\n",
      "  <Hit_hsps>\n",
      "    <Hsp>\n",
      "      <Hsp_num>1</Hsp_num>\n",
      "      <Hsp_bit-score>37.3537</Hsp_bit-score>\n",
      "      <Hsp_score>40</Hsp_score>\n",
      "      <Hsp_evalue>5.27602</Hsp_evalue>\n",
      "      <Hsp_query-from>2</Hsp_query-from>\n",
      "      <Hsp_query-to>27</Hsp_query-to>\n",
      "      <Hsp_hit-from>45123058</Hsp_hit-from>\n",
      "      <Hsp_hit-to>45123032</Hsp_hit-to>\n",
      "      <Hsp_query-frame>1</Hsp_query-frame>\n",
      "      <Hsp_hit-frame>-1</Hsp_hit-frame>\n",
      "      <Hsp_identity>25</Hsp_identity>\n",
      "      <Hsp_positive>25</Hsp_positive>\n",
      "      <Hsp_gaps>1</Hsp_gaps>\n",
      "      <Hsp_align-len>27</Hsp_align-len>\n",
      "      <Hsp_qseq>CTATTCCAA-ACAGCTCATAACCAGAA</Hsp_qseq>\n",
      "      <Hsp_hseq>CTATTCCAAGACAGCACATAACCAGAA</Hsp_hseq>\n",
      "      <Hsp_midline>||||||||| ||||| |||||||||||</Hsp_midline>\n",
      "    </Hsp>\n",
      "  </Hit_hsps>\n",
      "</Hit>\n",
      "<Hit>\n",
      "  <Hit_num>12</Hit_num>\n",
      "  <Hit_id>gi|1770734366|emb|LR735560.1|</Hit_id>\n",
      "  <Hit_def>Sarcophilus harrisii genome assembly, chromosome: X</Hit_def>\n",
      "  <Hit_accession>LR735560</Hit_accession>\n",
      "  <Hit_len>83081154</Hit_len>\n",
      "  <Hit_hsps>\n",
      "    <Hsp>\n",
      "      <Hsp_num>1</Hsp_num>\n",
      "      <Hsp_bit-score>37.3537</Hsp_bit-score>\n",
      "      <Hsp_score>40</Hsp_score>\n",
      "      <Hsp_evalue>5.27602</Hsp_evalue>\n",
      "      <Hsp_query-from>8</Hsp_query-from>\n",
      "      <Hsp_query-to>27</Hsp_query-to>\n",
      "      <Hsp_hit-from>33998158</Hsp_hit-from>\n",
      "      <Hsp_hit-to>33998139</Hsp_hit-to>\n",
      "      <Hsp_query-frame>1</Hsp_query-frame>\n",
      "      <Hsp_hit-frame>-1</Hsp_hit-frame>\n",
      "      <Hsp_identity>20</Hsp_identity>\n",
      "      <Hsp_positive>20</Hsp_positive>\n",
      "      <Hsp_gaps>0</Hsp_gaps>\n",
      "      <Hsp_align-len>20</Hsp_align-len>\n",
      "      <Hsp_qseq>CAAACAGCTCATAACCAGAA</Hsp_qseq>\n",
      "      <Hsp_hseq>CAAACAGCTCATAACCAGAA</Hsp_hseq>\n",
      "      <Hsp_midline>||||||||||||||||||||</Hsp_midline>\n",
      "    </Hsp>\n",
      "  </Hit_hsps>\n",
      "</Hit>\n",
      "<Hit>\n",
      "  <Hit_num>13</Hit_num>\n",
      "  <Hit_id>gi|1012238138|ref|XM_016166786.1|</Hit_id>\n",
      "  <Hit_def>PREDICTED: Rousettus aegyptiacus v-akt murine thymoma viral oncogene homolog 2 (AKT2), transcript variant X3, mRNA</Hit_def>\n",
      "  <Hit_accession>XM_016166786</Hit_accession>\n",
      "  <Hit_len>3959</Hit_len>\n",
      "  <Hit_hsps>\n",
      "    <Hsp>\n",
      "      <Hsp_num>1</Hsp_num>\n",
      "      <Hsp_bit-score>37.3537</Hsp_bit-score>\n",
      "      <Hsp_score>40</Hsp_score>\n",
      "      <Hsp_evalue>5.27602</Hsp_evalue>\n",
      "      <Hsp_query-from>1</Hsp_query-from>\n",
      "      <Hsp_query-to>20</Hsp_query-to>\n",
      "      <Hsp_hit-from>76</Hsp_hit-from>\n",
      "      <Hsp_hit-to>95</Hsp_hit-to>\n",
      "      <Hsp_query-frame>1</Hsp_query-frame>\n",
      "      <Hsp_hit-frame>1</Hsp_hit-frame>\n",
      "      <Hsp_identity>20</Hsp_identity>\n",
      "      <Hsp_positive>20</Hsp_positive>\n",
      "      <Hsp_gaps>0</Hsp_gaps>\n",
      "      <Hsp_align-len>20</Hsp_align-len>\n",
      "      <Hsp_qseq>ACTATTCCAAACAGCTCATA</Hsp_qseq>\n",
      "      <Hsp_hseq>ACTATTCCAAACAGCTCATA</Hsp_hseq>\n",
      "      <Hsp_midline>||||||||||||||||||||</Hsp_midline>\n",
      "    </Hsp>\n",
      "  </Hit_hsps>\n",
      "</Hit>\n",
      "<Hit>\n",
      "  <Hit_num>14</Hit_num>\n",
      "  <Hit_id>gi|309243112|ref|NG_027833.1|</Hit_id>\n",
      "  <Hit_def>Homo sapiens aminopeptidase O (putative) (AOPEP), RefSeqGene on chromosome 9</Hit_def>\n",
      "  <Hit_accession>NG_027833</Hit_accession>\n",
      "  <Hit_len>367550</Hit_len>\n",
      "  <Hit_hsps>\n",
      "    <Hsp>\n",
      "      <Hsp_num>1</Hsp_num>\n",
      "      <Hsp_bit-score>37.3537</Hsp_bit-score>\n",
      "      <Hsp_score>40</Hsp_score>\n",
      "      <Hsp_evalue>5.27602</Hsp_evalue>\n",
      "      <Hsp_query-from>4</Hsp_query-from>\n",
      "      <Hsp_query-to>28</Hsp_query-to>\n",
      "      <Hsp_hit-from>296380</Hsp_hit-from>\n",
      "      <Hsp_hit-to>296356</Hsp_hit-to>\n",
      "      <Hsp_query-frame>1</Hsp_query-frame>\n",
      "      <Hsp_hit-frame>-1</Hsp_hit-frame>\n",
      "      <Hsp_identity>23</Hsp_identity>\n",
      "      <Hsp_positive>23</Hsp_positive>\n",
      "      <Hsp_gaps>0</Hsp_gaps>\n",
      "      <Hsp_align-len>25</Hsp_align-len>\n",
      "      <Hsp_qseq>ATTCCAAACAGCTCATAACCAGAAA</Hsp_qseq>\n",
      "      <Hsp_hseq>ATTCCAAACATCTCATAACCAGTAA</Hsp_hseq>\n",
      "      <Hsp_midline>|||||||||| ||||||||||| ||</Hsp_midline>\n",
      "    </Hsp>\n",
      "  </Hit_hsps>\n",
      "</Hit>\n",
      "<Hit>\n",
      "  <Hit_num>15</Hit_num>\n",
      "  <Hit_id>gi|123709466|emb|AM475328.1|</Hit_id>\n",
      "  <Hit_def>Vitis vinifera, whole genome shotgun sequence, contig VV78X126180.6, clone ENTAV 115</Hit_def>\n",
      "  <Hit_accession>AM475328</Hit_accession>\n",
      "  <Hit_len>54739</Hit_len>\n",
      "  <Hit_hsps>\n",
      "    <Hsp>\n",
      "      <Hsp_num>1</Hsp_num>\n",
      "      <Hsp_bit-score>37.3537</Hsp_bit-score>\n",
      "      <Hsp_score>40</Hsp_score>\n",
      "      <Hsp_evalue>5.27602</Hsp_evalue>\n",
      "      <Hsp_query-from>3</Hsp_query-from>\n",
      "      <Hsp_query-to>27</Hsp_query-to>\n",
      "      <Hsp_hit-from>18733</Hsp_hit-from>\n",
      "      <Hsp_hit-to>18709</Hsp_hit-to>\n",
      "      <Hsp_query-frame>1</Hsp_query-frame>\n",
      "      <Hsp_hit-frame>-1</Hsp_hit-frame>\n",
      "      <Hsp_identity>23</Hsp_identity>\n",
      "      <Hsp_positive>23</Hsp_positive>\n",
      "      <Hsp_gaps>0</Hsp_gaps>\n",
      "      <Hsp_align-len>25</Hsp_align-len>\n",
      "      <Hsp_qseq>TATTCCAAACAGCTCATAACCAGAA</Hsp_qseq>\n",
      "      <Hsp_hseq>TATTCCAAACAGCACAAAACCAGAA</Hsp_hseq>\n",
      "      <Hsp_midline>||||||||||||| || ||||||||</Hsp_midline>\n",
      "    </Hsp>\n",
      "  </Hit_hsps>\n",
      "</Hit>\n",
      "<Hit>\n",
      "  <Hit_num>16</Hit_num>\n",
      "  <Hit_id>gi|19571564|emb|AL353768.28|</Hit_id>\n",
      "  <Hit_def>Human DNA sequence from clone RP11-54O15 on chromosome 9q22.2-31.1, complete sequence</Hit_def>\n",
      "  <Hit_accession>AL353768</Hit_accession>\n",
      "  <Hit_len>168062</Hit_len>\n",
      "  <Hit_hsps>\n",
      "    <Hsp>\n",
      "      <Hsp_num>1</Hsp_num>\n",
      "      <Hsp_bit-score>37.3537</Hsp_bit-score>\n",
      "      <Hsp_score>40</Hsp_score>\n",
      "      <Hsp_evalue>5.27602</Hsp_evalue>\n",
      "      <Hsp_query-from>4</Hsp_query-from>\n",
      "      <Hsp_query-to>28</Hsp_query-to>\n",
      "      <Hsp_hit-from>114846</Hsp_hit-from>\n",
      "      <Hsp_hit-to>114822</Hsp_hit-to>\n",
      "      <Hsp_query-frame>1</Hsp_query-frame>\n",
      "      <Hsp_hit-frame>-1</Hsp_hit-frame>\n",
      "      <Hsp_identity>23</Hsp_identity>\n",
      "      <Hsp_positive>23</Hsp_positive>\n",
      "      <Hsp_gaps>0</Hsp_gaps>\n",
      "      <Hsp_align-len>25</Hsp_align-len>\n",
      "      <Hsp_qseq>ATTCCAAACAGCTCATAACCAGAAA</Hsp_qseq>\n",
      "      <Hsp_hseq>ATTCCAAACATCTCATAACCAGTAA</Hsp_hseq>\n",
      "      <Hsp_midline>|||||||||| ||||||||||| ||</Hsp_midline>\n",
      "    </Hsp>\n",
      "  </Hit_hsps>\n",
      "</Hit>\n",
      "</Iteration_hits>\n",
      "  <Iteration_stat>\n",
      "    <Statistics>\n",
      "      <Statistics_db-num>59916490</Statistics_db-num>\n",
      "      <Statistics_db-len>1121403425</Statistics_db-len>\n",
      "      <Statistics_hsp-len>0</Statistics_hsp-len>\n",
      "      <Statistics_eff-space>0</Statistics_eff-space>\n",
      "      <Statistics_kappa>0.41</Statistics_kappa>\n",
      "      <Statistics_lambda>0.625</Statistics_lambda>\n",
      "      <Statistics_entropy>0.78</Statistics_entropy>\n",
      "    </Statistics>\n",
      "  </Iteration_stat>\n",
      "</Iteration>\n",
      "</BlastOutput_iterations>\n",
      "</BlastOutput>\n",
      "\n"
     ]
    }
   ],
   "source": [
    "from Bio.Blast import NCBIWWW\n",
    "sequence = \"ACTATTCCAAACAGCTCATAACCAGAAA\"\n",
    "handle = NCBIWWW.qblast(\"blastn\", \"nt\", sequence) \n",
    "result = handle.read()\n",
    "print(result) # Output is in XML format\n",
    "#N.B. The results are not instantaneous (may take a minute to run). Here is some output:"
   ]
  },
  {
   "cell_type": "markdown",
   "metadata": {},
   "source": [
    "### Biopython - BLAST\n",
    "- The code from the previous slide essentially copy and pastes your sequence into the [NCBI](https://blast.ncbi.nlm.nih.gov/Blast.cgi?PROGRAM=blastn&PAGE_TYPE=BlastSearch&LINK_LOC=blasthome) web server which performs an algorithm for string matching.\n",
    "- blastn specifies the type of algorithm (n for nucleotide) where nt (for nucleotide) gives the name of the database you want to search.\n",
    "- The query preformed by NCBIWWW.qblast will open an XML file that we can read from."
   ]
  },
  {
   "cell_type": "markdown",
   "metadata": {},
   "source": [
    "### Biopython BLAST - Parsing Results"
   ]
  },
  {
   "cell_type": "code",
   "execution_count": 72,
   "metadata": {},
   "outputs": [],
   "source": [
    "from Bio.Blast import NCBIWWW \n",
    "# for BLAST request from Bio.Blast import NCBIXML # for parser\n",
    "# may be entered manually or read from a text doc\n",
    "sequence = \"ACTATTCCAAACAGCTCATAACCAGAAA\"\n",
    "  # We parse through \"handle\" and extract information\n",
    "handle = NCBIWWW.qblast(\"blastn\", \"nt\", sequence)"
   ]
  },
  {
   "cell_type": "markdown",
   "metadata": {},
   "source": [
    "- Here we are only searching one sequence (sequence = \"ACTATTCCAAACAGCTCATAACCAGAAA\") but in practice we may replace sequence with a fasta file containing multiple sequences."
   ]
  },
  {
   "cell_type": "markdown",
   "metadata": {},
   "source": [
    "### Biopython BLAST - Parsing Results\n",
    "- If we want to reference this results in a future Python session, it will be best to save this XML file locally so we don’t have to re-do the BLAST search every time (these requests take a long time!).\n",
    "- We can do this using the following read and write command:"
   ]
  },
  {
   "cell_type": "markdown",
   "metadata": {},
   "source": [
    "```\n",
    "save_file = open(filename, \"w\") \n",
    "result = handle.read() \n",
    "save_file.write(result) \n",
    "save_file.close()\n",
    "\n",
    "```"
   ]
  },
  {
   "cell_type": "markdown",
   "metadata": {},
   "source": [
    "- where filename should be replaces with something reasonable (eg. my_blast.xml). Alternatively, we could write this in a with clause.\n",
    "\n",
    "### Biopython - BLAST\n",
    "- To extract the useful information from this file, we will use NCBIXML.parse function.\n",
    "- This parser will create a BLAST object which we can iterate over and print information from our search result.\n",
    "- Each “iteration\" is a BLAST record object with holds all the information about the BLAST search.\n",
    "- We can iterate over each record in the following way:\n",
    "- for record in records:\n",
    "    - ... do something with that record\n",
    "- You can only step through the BLAST records once. If you want to save all returned BLAST records, you can convert the iterator into a list:\n",
    "```\n",
    "blast_records = list(blast_records)\n",
    "```\n",
    "\n",
    "### Biopython - BLAST\n",
    "- Since our BLAST search only involves one search (we only searched one sequence) we do not need a for loop.\n",
    "- I will however need to select the first (and only) record by using the next() command.\n"
   ]
  },
  {
   "cell_type": "code",
   "execution_count": 75,
   "metadata": {},
   "outputs": [
    {
     "ename": "KeyboardInterrupt",
     "evalue": "",
     "output_type": "error",
     "traceback": [
      "\u001b[0;31m---------------------------------------------------------------------------\u001b[0m",
      "\u001b[0;31mKeyboardInterrupt\u001b[0m                         Traceback (most recent call last)",
      "\u001b[0;32m<ipython-input-75-b43cc88081dc>\u001b[0m in \u001b[0;36m<module>\u001b[0;34m\u001b[0m\n\u001b[1;32m      2\u001b[0m \u001b[0;32mfrom\u001b[0m \u001b[0mBio\u001b[0m\u001b[0;34m.\u001b[0m\u001b[0mBlast\u001b[0m \u001b[0;32mimport\u001b[0m \u001b[0mNCBIXML\u001b[0m\u001b[0;34m\u001b[0m\u001b[0;34m\u001b[0m\u001b[0m\n\u001b[1;32m      3\u001b[0m \u001b[0msequence\u001b[0m \u001b[0;34m=\u001b[0m \u001b[0;34m\"ACTATTCCAAACAGCTCATAACCAGAAA\"\u001b[0m\u001b[0;34m\u001b[0m\u001b[0;34m\u001b[0m\u001b[0m\n\u001b[0;32m----> 4\u001b[0;31m \u001b[0mhandle\u001b[0m \u001b[0;34m=\u001b[0m \u001b[0mNCBIWWW\u001b[0m\u001b[0;34m.\u001b[0m\u001b[0mqblast\u001b[0m\u001b[0;34m(\u001b[0m\u001b[0;34m\"blastn\"\u001b[0m\u001b[0;34m,\u001b[0m \u001b[0;34m\"nt\"\u001b[0m\u001b[0;34m,\u001b[0m \u001b[0msequence\u001b[0m\u001b[0;34m)\u001b[0m\u001b[0;34m\u001b[0m\u001b[0;34m\u001b[0m\u001b[0m\n\u001b[0m\u001b[1;32m      5\u001b[0m \u001b[0mrecords\u001b[0m \u001b[0;34m=\u001b[0m \u001b[0mNCBIXML\u001b[0m\u001b[0;34m.\u001b[0m\u001b[0mparse\u001b[0m\u001b[0;34m(\u001b[0m\u001b[0mhandle\u001b[0m\u001b[0;34m)\u001b[0m\u001b[0;34m\u001b[0m\u001b[0;34m\u001b[0m\u001b[0m\n\u001b[1;32m      6\u001b[0m \u001b[0mrecord\u001b[0m \u001b[0;34m=\u001b[0m \u001b[0mnext\u001b[0m\u001b[0;34m(\u001b[0m\u001b[0mrecords\u001b[0m\u001b[0;34m)\u001b[0m\u001b[0;34m\u001b[0m\u001b[0;34m\u001b[0m\u001b[0m\n",
      "\u001b[0;32m~/opt/anaconda3/lib/python3.7/site-packages/Bio/Blast/NCBIWWW.py\u001b[0m in \u001b[0;36mqblast\u001b[0;34m(program, database, sequence, url_base, auto_format, composition_based_statistics, db_genetic_code, endpoints, entrez_query, expect, filter, gapcosts, genetic_code, hitlist_size, i_thresh, layout, lcase_mask, matrix_name, nucl_penalty, nucl_reward, other_advanced, perc_ident, phi_pattern, query_file, query_believe_defline, query_from, query_to, searchsp_eff, service, threshold, ungapped_alignment, word_size, short_query, alignments, alignment_view, descriptions, entrez_links_new_window, expect_low, expect_high, format_entrez_query, format_object, format_type, ncbi_gi, results_file, show_overview, megablast, template_type, template_length)\u001b[0m\n\u001b[1;32m    244\u001b[0m         \u001b[0mwait\u001b[0m \u001b[0;34m=\u001b[0m \u001b[0mqblast\u001b[0m\u001b[0;34m.\u001b[0m\u001b[0m_previous\u001b[0m \u001b[0;34m+\u001b[0m \u001b[0mdelay\u001b[0m \u001b[0;34m-\u001b[0m \u001b[0mcurrent\u001b[0m\u001b[0;34m\u001b[0m\u001b[0;34m\u001b[0m\u001b[0m\n\u001b[1;32m    245\u001b[0m         \u001b[0;32mif\u001b[0m \u001b[0mwait\u001b[0m \u001b[0;34m>\u001b[0m \u001b[0;36m0\u001b[0m\u001b[0;34m:\u001b[0m\u001b[0;34m\u001b[0m\u001b[0;34m\u001b[0m\u001b[0m\n\u001b[0;32m--> 246\u001b[0;31m             \u001b[0mtime\u001b[0m\u001b[0;34m.\u001b[0m\u001b[0msleep\u001b[0m\u001b[0;34m(\u001b[0m\u001b[0mwait\u001b[0m\u001b[0;34m)\u001b[0m\u001b[0;34m\u001b[0m\u001b[0;34m\u001b[0m\u001b[0m\n\u001b[0m\u001b[1;32m    247\u001b[0m             \u001b[0mqblast\u001b[0m\u001b[0;34m.\u001b[0m\u001b[0m_previous\u001b[0m \u001b[0;34m=\u001b[0m \u001b[0mcurrent\u001b[0m \u001b[0;34m+\u001b[0m \u001b[0mwait\u001b[0m\u001b[0;34m\u001b[0m\u001b[0;34m\u001b[0m\u001b[0m\n\u001b[1;32m    248\u001b[0m         \u001b[0;32melse\u001b[0m\u001b[0;34m:\u001b[0m\u001b[0;34m\u001b[0m\u001b[0;34m\u001b[0m\u001b[0m\n",
      "\u001b[0;31mKeyboardInterrupt\u001b[0m: "
     ]
    }
   ],
   "source": [
    "from Bio.Blast import NCBIWWW\n",
    "from Bio.Blast import NCBIXML\n",
    "sequence = \"ACTATTCCAAACAGCTCATAACCAGAAA\"\n",
    "handle = NCBIWWW.qblast(\"blastn\", \"nt\", sequence) \n",
    "records = NCBIXML.parse(handle)\n",
    "record = next(records)\n",
    " "
   ]
  },
  {
   "cell_type": "markdown",
   "metadata": {},
   "source": [
    "### Biopython - BLAST\n",
    "- If we had multiple records, we could also avoid the for loop and go through the records one-by-one using step:"
   ]
  },
  {
   "cell_type": "code",
   "execution_count": null,
   "metadata": {},
   "outputs": [],
   "source": [
    "record = next(records)\n",
    "# ... do something with that record \n",
    "record = next(records)\n",
    "# ... do something with that record \n",
    "record = next(records)\n"
   ]
  },
  {
   "cell_type": "code",
   "execution_count": null,
   "metadata": {},
   "outputs": [],
   "source": [
    "#To use results saved from a previous session: \n",
    "result_handle = open(\"my_blast.xml\", \"r\")\n",
    "records = NCBIXML.parse(result_handle)"
   ]
  },
  {
   "cell_type": "markdown",
   "metadata": {},
   "source": [
    "- We also could have used the read function instead of and parse read is generally used for when you have exactly one object, and parse is an iterator for when you can have lots of objects. Hence the following generic code\n",
    "```\n",
    ">>> from Bio.Blast import NCBIXML\n",
    ">>> blast_records = NCBIXML.parse(result_handle) >>> blast_record = next(blast_records)\n",
    "is equivalent to:\n",
    ">>> from Bio.Blast import NCBIXML\n",
    ">>> blast_record = NCBIXML.read(result_handle)\n",
    "```\n",
    "- A BLAST Record contains everything you might ever want to extract from the BLAST output. The BLAST object actually has a hierarchy of Python objects:\n",
    "- QueryResult The output file may contain results from one or more search queries.\n",
    "- Hit In each search query, you will see one or more hits from the given search database. more here\n",
    "- HSP (short for high-scoring pair) In each database hit, you will see one or more regions containing the actual sequence alignment between your query sequence and the database sequence; more here\n",
    "- For more see Section 7.3 in the Biopython Tutorial and Cookbook.\n",
    "- Each line represents a HIT (accessed through .alignment). Hit objects are contained within QueryResult and in each QueryResult there is zero or more Hit objects.\n",
    "- Each hit stores the HSP (accessed through .hsp). HSP objects are contained within Hit objects and each Hit has one or more HSP objects.\n",
    "- Any/all the information reported on the website, you can access once you have have parsed it.\n",
    "    - For example: hsp.expect gives the expected value that describes the number of hits one can expect to see by chance when searching a database of a particular size (Expect on the webpage output).\n",
    "\n",
    "![alt text](../images/07Python/hsp2.png)\n",
    "\n",
    "### Biopython BLAST - Parsing Results\n",
    "- continued from slide 17\n",
    "```\n",
    "records = NCBIXML.parse(handle)\n",
    "record = next(records)\n",
    "for alignment in record.alignments:\n",
    "for\n",
    "hsp in alignment.hsps: print('sequence:', alignment.title) print('length:', alignment.length) print('e value:', hsp.expect)\n",
    "# the sequence we queried to BLAST print(hsp.query[0:75] + '...') print(hsp.match[0:75] + '...') print(hsp.sbjct[0:75] + '...')\n",
    "```   \n",
    " ![alt text](../images/07Python/yes2.png)   \n",
    " \n",
    "### Biopython - Try It\n",
    "\n",
    "```text\n",
    " Example\n",
    "Write a program that has a DNA sequence that you create, per- forms a BLAST, and then outputs the top 3 hits. \n",
    "```\n",
    "\n",
    "### Charts\n",
    "- There are numerous graphing and chart libraries for Python:\n",
    "    - matplotlib http://matplotlib.org/ - foundational 2D plotting library\n",
    "    - ggplot http://ggplot.yhathq.com/ - based on R’s ggplot2 pygal http://pygal.org/en/stable/ - dynamic chart library\n",
    "    - Bokeh http://bokeh.pydata.org/ - goal is to produce charts similar to D3.js for browsers\n",
    "    - Seaborn http://stanford.edu/ mwaskom/software/seaborn/ - based on matplotlib and designed for statistical graphics\n",
    "    - NVD3 https://github.com/areski/python-nvd3\n",
    "    \n",
    "### SciPy\n",
    "- [SciPy](https://www.scipy.org) (pronounced “Sigh Pie\") is group of Python libraries for scientific computing:\n",
    "- NumPy (http://www.numpy.org/) - N-dimensional arrays, integrating C/C++ and Fortran code, linear algebra, Fourier transform, and random numbers\n",
    "- SciPy (http://www.scipy.org/) - numerical integration and optimization\n",
    "- matplotlib (http://matplotlib.org/) - 2D plotting library IPython (http://ipython.org/) - interactive console(Jupyter)\n",
    "- Sympy (http://www.sympy.org/) - symbolic mathematics (equations, calculus, statistics, combinatorics, cryptography)\n",
    "- pandas (http://pandas.pydata.org/) - data structures, reading/writing data, data merging/joining/slicing/grouping, time series    \n",
    "\n",
    "### matplotlib\n",
    "- [matplotlib](https://matplotlib.org) is the most widely used plotting library in Python.\n",
    "- N.B. to have plots appear in Jupyter Notebook will use the command:"
   ]
  },
  {
   "cell_type": "code",
   "execution_count": 76,
   "metadata": {},
   "outputs": [],
   "source": [
    "%matplotlib inline\n",
    "#(if you are not using Jupyter notebook, you don’t need this)"
   ]
  },
  {
   "cell_type": "markdown",
   "metadata": {},
   "source": [
    "### pyplot\n",
    "- [matplotlib.pyplot](https://matplotlib.org/api/pyplot_api.html) is a commonly used sub-library.\n",
    "- It is standard practice to shorten matplotlib.pyplot to plt:"
   ]
  },
  {
   "cell_type": "code",
   "execution_count": 77,
   "metadata": {},
   "outputs": [],
   "source": [
    "import matplotlib.pyplot as plt"
   ]
  },
  {
   "cell_type": "markdown",
   "metadata": {},
   "source": [
    "- This will save us some typing (eg. we can type plt.bar) instead of matplotlib.pyplot.bar)\n",
    "- See a helpful [pyplot tutorial](https://matplotlib.org/3.1.0/tutorials/introductory/pyplot.html)\n",
    "```\n",
    "dotted module names\n",
    "Packages are a way of structuring Python’s module namespace by using dotted module names. For example, the module name A.B designates a submodule named B in a package named A.\n",
    "```\n",
    "\n",
    "- As a very simple first example (from [pyplot tutorial](https://matplotlib.org/3.1.0/tutorials/introductory/pyplot.html)), lets create a line chart:\n"
   ]
  },
  {
   "cell_type": "code",
   "execution_count": 78,
   "metadata": {},
   "outputs": [
    {
     "data": {
      "image/png": "[encoded data removed]",
      "text/plain": [
       "<Figure size 432x288 with 1 Axes>"
      ]
     },
     "metadata": {
      "needs_background": "light"
     },
     "output_type": "display_data"
    }
   ],
   "source": [
    "# x-values = 1,2,3,4\n",
    "# y-values = 1,4,9,16\n",
    "plt.plot([1, 2, 3, 4], [1, 4, 9, 16])\n",
    "# plot wont be shown until we call:\n",
    "plt.show()"
   ]
  },
  {
   "cell_type": "code",
   "execution_count": 82,
   "metadata": {},
   "outputs": [
    {
     "data": {
      "image/png": "[encoded data removed]",
      "text/plain": [
       "<Figure size 432x288 with 1 Axes>"
      ]
     },
     "metadata": {
      "needs_background": "light"
     },
     "output_type": "display_data"
    }
   ],
   "source": [
    "#We can change the plot from lines - to points o and from blue (b) to red (r).\n",
    "plt.plot([1, 2, 3, 4], [1, 4, 9, 16], 'ro')\n",
    "#Additionally we can change the axis ranges:\n",
    "# x-axis from 0--6, y-axis from 0--20 \n",
    "plt.axis([0, 6, 0, 20])\n",
    "plt.show()"
   ]
  },
  {
   "cell_type": "markdown",
   "metadata": {},
   "source": [
    "See [here](https://matplotlib.org/3.1.0/api/_as_gen/matplotlib.pyplot.plot.html%23matplotlib.pyplot.plot) for more plotting options."
   ]
  },
  {
   "cell_type": "markdown",
   "metadata": {},
   "source": [
    "### numpy\n",
    "- In matplotlib were limited to working with lists.\n",
    "- To get over this limitation, we will generally also import the numpy module (pronounced num-pie) to make use of numpy arrays.\n",
    "- Common practice is to shorten this module name to np using "
   ]
  },
  {
   "cell_type": "code",
   "execution_count": 84,
   "metadata": {},
   "outputs": [],
   "source": [
    "import numpy as np"
   ]
  },
  {
   "cell_type": "markdown",
   "metadata": {},
   "source": [
    "- See a helpful [numpy tutorial](https://cs231n.github.io/python-numpy-tutorial/)\n",
    "### numpy arrays\n",
    "- A numpy array is a grid of values, all of the same type, and is indexed by a tuple of nonnegative integers. \n",
    "    - rank The number of dimensions is the rank of the array\n",
    "    - shape the shape of an array is a tuple of integers giving the size of the array along each dimension.\n",
    "- Consider the following examples taken from the [pyplot tutorial](https://matplotlib.org/3.1.0/tutorials/introductory/pyplot.html)"
   ]
  },
  {
   "cell_type": "code",
   "execution_count": 85,
   "metadata": {},
   "outputs": [
    {
     "name": "stdout",
     "output_type": "stream",
     "text": [
      "(3,)\n"
     ]
    },
    {
     "data": {
      "text/plain": [
       "array([5, 2, 3])"
      ]
     },
     "execution_count": 85,
     "metadata": {},
     "output_type": "execute_result"
    }
   ],
   "source": [
    "# Create a rank 1 array\n",
    "a = np.array([1, 2, 3])\n",
    "a[0] = 5 # Change an element of the array >>> \n",
    "print(a.shape) # Prints \"(3,)\"\n",
    "a\n"
   ]
  },
  {
   "cell_type": "markdown",
   "metadata": {},
   "source": [
    "### numpy arrays\n",
    "- Create a rank 2 array using Python nested lists, and access elements using square brackets:"
   ]
  },
  {
   "cell_type": "code",
   "execution_count": 87,
   "metadata": {},
   "outputs": [
    {
     "name": "stdout",
     "output_type": "stream",
     "text": [
      "(2, 3)\n",
      "3 4\n"
     ]
    }
   ],
   "source": [
    "b = np.array([[1,2,3],[4,5,6]]) \n",
    "print(b.shape) # Prints \"(2, 3)\" >>>\n",
    "b\n",
    "# extract element in row 1 (index 1) and column 3 (index 2) \n",
    "b[1,2]\n",
    "b[(1,2)] # can also index using a tuple\n",
    "# more examples:\n",
    "print(b[0,2],b[1,0])\n"
   ]
  },
  {
   "cell_type": "markdown",
   "metadata": {},
   "source": [
    "### numpy arrays indexing\n",
    "- Similar to Python lists, numpy arrays can be sliced. Since arrays may be multidimensional, you must specify a slice for each dimension of the array:"
   ]
  },
  {
   "cell_type": "code",
   "execution_count": 93,
   "metadata": {},
   "outputs": [
    {
     "data": {
      "text/plain": [
       "array([[2, 3],\n",
       "       [5, 6]])"
      ]
     },
     "execution_count": 93,
     "metadata": {},
     "output_type": "execute_result"
    }
   ],
   "source": [
    "b\n"
   ]
  },
  {
   "cell_type": "code",
   "execution_count": 94,
   "metadata": {},
   "outputs": [
    {
     "data": {
      "text/plain": [
       "array([1, 2, 3])"
      ]
     },
     "execution_count": 94,
     "metadata": {},
     "output_type": "execute_result"
    }
   ],
   "source": [
    "# first row:\n",
    "b[0, :]\n",
    "\n",
    " "
   ]
  },
  {
   "cell_type": "code",
   "execution_count": 95,
   "metadata": {},
   "outputs": [
    {
     "data": {
      "text/plain": [
       "array([2, 5])"
      ]
     },
     "execution_count": 95,
     "metadata": {},
     "output_type": "execute_result"
    }
   ],
   "source": [
    "# second column\n",
    "b[:,1]\n"
   ]
  },
  {
   "cell_type": "code",
   "execution_count": 96,
   "metadata": {},
   "outputs": [
    {
     "data": {
      "text/plain": [
       "array([[2, 3],\n",
       "       [5, 6]])"
      ]
     },
     "execution_count": 96,
     "metadata": {},
     "output_type": "execute_result"
    }
   ],
   "source": [
    "#array([2, 5])\n",
    "# first 2 rows and columns 1 and 2\n",
    "b[:2, 1:3]"
   ]
  },
  {
   "cell_type": "markdown",
   "metadata": {},
   "source": [
    "### numpy arrays\n",
    "- [np.arrange](https://numpy.org/doc/stable/reference/generated/numpy.arange.html%23numpy.arange) return evenly spaced values within a given interval. Eg, evenly sampled points between 0 and 5 at 0.2 intervals\n",
    "\n"
   ]
  },
  {
   "cell_type": "code",
   "execution_count": null,
   "metadata": {},
   "outputs": [],
   "source": [
    "t = np.arange(0, 1, 0.2)\n",
    "# array([0. , 0.2, 0.4, 0.6, 0.8])\n"
   ]
  },
  {
   "cell_type": "markdown",
   "metadata": {},
   "source": [
    "- General usage: np.arrange(start,stop,step).\n",
    "    - as before start and step defaults to 0 and 1, resp.\n",
    "- There are a number of [other methods](https://numpy.org/doc/stable/user/basics.creation.html%23arrays-creation) for array creation as well:\n",
    "```\n",
    ">>> a = np.zeros((2,2)) # Create a 2x2 array of zeros \n",
    ">>> b = np.ones((1,2)) # Create a 1x2 array of ones \n",
    ">>> c = np.full((2,2), 7) # Creates 2x2 a array of 7s\n",
    "```"
   ]
  },
  {
   "cell_type": "markdown",
   "metadata": {},
   "source": [
    "### matplotlib - Bar Chart Example\n",
    "\n",
    "![alt text](../images/07Python/catsdogs.png)\n"
   ]
  },
  {
   "cell_type": "code",
   "execution_count": 101,
   "metadata": {},
   "outputs": [],
   "source": [
    "import matplotlib.pyplot as plt #[1] import numpy as np\n",
    "# number of dogs/group\n",
    "data1 = [25,45,35,20]\n",
    "# number of cats/group\n",
    "data2 = [35,40,25,30]\n",
    "index = np.arange(len(data1)) \n",
    "bar_width = 0.35\n",
    "opacity = 0.4\n",
    "# cont'd on next slide\n"
   ]
  },
  {
   "cell_type": "code",
   "execution_count": 102,
   "metadata": {},
   "outputs": [
    {
     "data": {
      "text/plain": [
       "array([0, 1, 2, 3])"
      ]
     },
     "execution_count": 102,
     "metadata": {},
     "output_type": "execute_result"
    }
   ],
   "source": [
    " # to create arrays for rect position \n",
    "index = np.arange(len(data1))\n",
    "index\n"
   ]
  },
  {
   "cell_type": "markdown",
   "metadata": {},
   "source": [
    "### matplotlib - Bar Chart Example"
   ]
  },
  {
   "cell_type": "code",
   "execution_count": 105,
   "metadata": {},
   "outputs": [
    {
     "data": {
      "image/png": "[encoded data removed]",
      "text/plain": [
       "<Figure size 432x288 with 1 Axes>"
      ]
     },
     "metadata": {
      "needs_background": "light"
     },
     "output_type": "display_data"
    }
   ],
   "source": [
    "# continued from previous slide\n",
    "rects1 = plt.bar(index, data1, bar_width, alpha=opacity,\n",
    "color='b', label='Dogs')\n",
    "rects2 = plt.bar(index + bar_width, data2, bar_width,\n",
    "alpha=opacity, color='r', label='Cats') \n",
    "plt.xlabel('Group')\n",
    "plt.ylabel('Count')\n",
    "plt.title('Dogs versus Cats')\n",
    "plt.xticks(index + bar_width, ('1', '2', '3', '4'))\n",
    "plt.legend()\n",
    "plt.tight_layout() # to remove whitespace plt.show()"
   ]
  },
  {
   "cell_type": "code",
   "execution_count": 107,
   "metadata": {},
   "outputs": [
    {
     "data": {
      "text/plain": [
       "array([0.35, 1.35, 2.35, 3.35])"
      ]
     },
     "execution_count": 107,
     "metadata": {},
     "output_type": "execute_result"
    }
   ],
   "source": [
    "#N.B.:\n",
    "index + bar_width "
   ]
  },
  {
   "cell_type": "markdown",
   "metadata": {},
   "source": [
    "### Some comments\n",
    "- Python starts plotting everything in the background and wont display the graph until plot.show() is called.\n",
    "- matplotlib colours are given [here](https://matplotlib.org/2.1.1/api/_as_gen/matplotlib.pyplot.plot.html)\n",
    "    - eg. rforredcforcyankforblack\n",
    "    - you can also use full names ('green'), hex strings ('#008000'), or RGB/RGBA tuples ((0,1,0,1)).\n",
    "- Thelabelargumentwillbeusedwhenwecallplt.legend() 􏰀 \n",
    "    - the colours, and labels will be generated automatically (using the plt.x/ylabel)\n",
    "    \n",
    "### matplotlib - Histograms\n",
    "\n",
    "Python [histograms](https://matplotlib.org/3.1.0/api/_as_gen/matplotlib.pyplot.hist.html)\n"
   ]
  },
  {
   "cell_type": "code",
   "execution_count": 109,
   "metadata": {},
   "outputs": [
    {
     "data": {
      "image/png": "[encoded data removed]",
      "text/plain": [
       "<Figure size 432x288 with 1 Axes>"
      ]
     },
     "metadata": {
      "needs_background": "light"
     },
     "output_type": "display_data"
    }
   ],
   "source": [
    "import numpy as np\n",
    "import matplotlib.pyplot as plt\n",
    "num_bins = 5\n",
    "x = [5,3,8,5,2,7,2,4,6,2]\n",
    "# saves output to variables\n",
    "# (eg of tuple unpacking!)\n",
    "n, bins, patches = plt.hist(x, num_bins,\n",
    "density=False, facecolor='blue', alpha=0.5)\n",
    "plt.xlabel('Number') \n",
    "plt.ylabel('Count')\n",
    "plt.title('Histogram') \n",
    "plt.show()"
   ]
  },
  {
   "cell_type": "markdown",
   "metadata": {},
   "source": [
    "### matplotlib - Histograms comments\n",
    "- bins partition our range of values into a subsets\n",
    "- Histograms count the number of observations falling into each bin \n",
    "    - n: is the number of counts in each bin of the histogram\n",
    "    - bins: is the left hand edge of each bin, \n",
    "    - example: >>> bins\n",
    "    - array([2. , 3.2, 4.4, 5.6, 6.8, 8. ])\n",
    "- patches: is the individual patches used to create the histogram,\n",
    "- e.g a collection of rectangles:\n",
    "    - >>> print(patches[1])\n",
    "    - Rectangle(xy=(3.2, 0), width=1.2, height=1, angle=0)\n",
    "- density is a logical object that is False (or 0) if you want the y-axis to be in terms of counts, and True (or 1) when plotting the probability densities\n",
    "\n",
    "### SciPy stats\n",
    "- Another helpful module is [scipy.stats](https://docs.scipy.org/doc/scipy/reference/stats.html)\n",
    "- This module contains a large number of probability distributions as well as a growing library of statistical functions.\n",
    "- We will use the norm.pdf compare the probability density function (pdf) or a normal distribution with random data generated from a normal distribution.\n",
    "    - The [normal distribution](https://en.wikipedia.org/wiki/Normal_distribution) is a bell shaped distribution with a mean (i.e. center) given my μ (or mu in the code) and a standard deviation of σ (or sigma in the code).\n",
    "    - We generate random normal data using the [numpy.random.randn](https://numpy.org/doc/stable/reference/generated/numpy.random.randn.html) function (which return samples from the \"standard normal\"2 distribution).\n",
    "- N.B. \n",
    "- we use [TeX markup](https://matplotlib.org/tutorials/text/mathtext.html) in the title eg. $\\mu$ appears μ\n",
    "\n",
    "### matplotlib - Histogram Example (2)"
   ]
  },
  {
   "cell_type": "code",
   "execution_count": 111,
   "metadata": {},
   "outputs": [
    {
     "data": {
      "image/png": "[encoded data removed]",
      "text/plain": [
       "<Figure size 432x288 with 1 Axes>"
      ]
     },
     "metadata": {
      "needs_background": "light"
     },
     "output_type": "display_data"
    }
   ],
   "source": [
    "import numpy as np\n",
    "import matplotlib.pyplot as plt \n",
    "import scipy.stats\n",
    "mu = 100\n",
    "sigma = 15\n",
    "x = mu+sigma*np.random.randn(10000)\n",
    "num_bins = 50\n",
    "n, bins, patches = plt.hist(x, num_bins, edgecolor=\"k\",\n",
    "density=1, facecolor='green', alpha=0.5)\n",
    "y = scipy.stats.norm.pdf(bins, mu, sigma)\n",
    "plt.plot(bins, y, 'r--')\n",
    "plt.xlabel('Smarts')\n",
    "plt.ylabel('Probability')\n",
    "plt.title(r'Histogram of IQ: $\\mu=100$, $\\sigma=15$')\n",
    "plt.subplots_adjust(left=0.15)\n",
    "plt.show()"
   ]
  },
  {
   "cell_type": "markdown",
   "metadata": {},
   "source": [
    "```text\n",
    " Exercise\n",
    "\n",
    "1.How does your plot change when you update the number of bins from the previous example from 50 to 10.\n",
    "2.How does your plot change when you delete the edgecolor = \"k\"? (remember k stands for black)\n",
    "3.How does your plot change when you set density to False? \n",
    "4. How does your plot change when you set the facecolor to'g'?\n",
    "5. How does your plot change when you set alpha to 0.1?\n",
    "```\n",
    "### Try in Charts\n",
    "\n",
    "```text\n",
    "Example\n",
    "Write a program to create a bar chart for this data:\n",
    "series1 = [40, 50, 60, 70, 80] series2 = [70, 50, 40, 90, 30] \n",
    "Output\n",
    "\n",
    "```\n",
    "![alt text](../images/07Python/barchart.png)"
   ]
  },
  {
   "cell_type": "markdown",
   "metadata": {},
   "source": [
    "### SciPy stats\n",
    "- In addition the scipy.stats module has the linregress function for performing linear regression.\n",
    "- The gerenal syntax is:\n",
    "\n",
    "```\n",
    "scipy.stats.linregress(x, y)\n",
    "```\n",
    "- The above calculate a linear least-squares regression for two sets of measurements: the explanatory variable x and the response variable y.\n",
    "\n",
    "### SciPy [Linear Regression]( https://docs.scipy.org/doc/scipy/reference/generated/scipy.stats.linregress.html) Example"
   ]
  },
  {
   "cell_type": "code",
   "execution_count": 113,
   "metadata": {},
   "outputs": [],
   "source": [
    "from scipy import stats\n",
    "import numpy as np\n",
    "import matplotlib.pyplot as plt\n",
    "x = np.array([5, 7, 9, 11, 13, 15])\n",
    "y = np.array([11, 14, 20, 24, 29, 31])\n",
    "slope, intercept, r_value, p_value,slope_std_error = stats.linregress(x, y)\n",
    "#Save the resulting tuple to variables that we can use later,. . ."
   ]
  },
  {
   "cell_type": "markdown",
   "metadata": {},
   "source": [
    "### SciPy [Linear Regression](https://docs.scipy.org/doc/scipy/reference/generated/scipy.stats.linregress.html) Example\n",
    "- Find the residuals, (observed y values minus the predicted y values produced by our fitted model):\n"
   ]
  },
  {
   "cell_type": "code",
   "execution_count": 114,
   "metadata": {},
   "outputs": [
    {
     "name": "stdout",
     "output_type": "stream",
     "text": [
      "Predicted y-values: [10.85714286 15.11428571 19.37142857 23.62857143 27.88571429 32.14285714]\n",
      "Prediction error: [ 0.14285714 -1.11428571  0.62857143  0.37142857  1.11428571 -1.14285714]\n"
     ]
    }
   ],
   "source": [
    "predict_y = intercept + slope * x \n",
    "print(\"Predicted y-values:\",predict_y)\n",
    "pred_error = y - predict_y \n",
    "print(\"Prediction error:\",pred_error)"
   ]
  },
  {
   "cell_type": "markdown",
   "metadata": {},
   "source": [
    "- Compute the residual standard error (a measure of prediction error)"
   ]
  },
  {
   "cell_type": "code",
   "execution_count": 115,
   "metadata": {},
   "outputs": [
    {
     "name": "stdout",
     "output_type": "stream",
     "text": [
      "Residual error: 1.041976144503454\n"
     ]
    }
   ],
   "source": [
    "degr_freedom = len(x) - 2\n",
    "residual_std_error = np.sqrt(np.sum(pred_error**2)/degr_freedom) \n",
    "print(\"Residual error:\",residual_std_error)"
   ]
  },
  {
   "cell_type": "markdown",
   "metadata": {},
   "source": [
    "### SciPy [Linear Regression](https://docs.scipy.org/doc/scipy/reference/generated/scipy.stats.linregress.html) Example\n",
    "- Plot the raw data with the fitted regression line:"
   ]
  },
  {
   "cell_type": "code",
   "execution_count": 116,
   "metadata": {},
   "outputs": [
    {
     "data": {
      "image/png": "[encoded data removed]",
      "text/plain": [
       "<Figure size 432x288 with 1 Axes>"
      ]
     },
     "metadata": {
      "needs_background": "light"
     },
     "output_type": "display_data"
    }
   ],
   "source": [
    "plt.plot(x, y, 'o') # o for points\n",
    "plt.plot(x, predict_y, 'k-') # - for line, k for black\n",
    "plt.show()"
   ]
  },
  {
   "cell_type": "markdown",
   "metadata": {},
   "source": [
    "### SciPy - K-means Clustering\n",
    "- Scipy also provides routines for conducting k-means clustering and vector quantization.\n",
    "- The input of k-means algorithm:\n",
    "    - k the number of clusters to generate\n",
    "    - x the set of observations to cluster\n",
    "- The output of k-means algorithm:\n",
    "    - a set of centroids, one for each of the k clusters.\n",
    "    - a classification vector: an observation is assigned to the cluster whose centroid is closest to it.\n",
    "### SciPy - [K-means Clustering](https://glowingpython.blogspot.com/2012/04/k-means-clustering-with-scipy.html)"
   ]
  },
  {
   "cell_type": "code",
   "execution_count": 117,
   "metadata": {},
   "outputs": [],
   "source": [
    "from numpy import vstack,array\n",
    "from numpy.random import rand\n",
    "from scipy.cluster.vq import kmeans,vq\n",
    "# creates a 300x2 array of data\n",
    "data = vstack((rand(150,2) + array([.5,.5]),rand(150,2))) \n",
    "# computing K-Means with K = 2 (2 clusters)\n",
    "centroids,_ = kmeans(data,2)\n",
    "# assign each sample to a cluster\n",
    "idx,_ = vq(data,centroids)"
   ]
  },
  {
   "cell_type": "markdown",
   "metadata": {},
   "source": [
    "### Some comments\n",
    "- rand(150,2) generates an np.array with 150 rows and 2 columns with random numbers from the interval (0, 1)more [here](https://docs.scipy.org/doc/numpy-1.15.1/reference/generated/numpy.random.rand.html )\n",
    "- Alternatively, we could have used a loop and See [numpy.asarray](https://numpy.org/doc/stable/reference/generated/numpy.asarray.html)\n",
    "\n"
   ]
  },
  {
   "cell_type": "code",
   "execution_count": 119,
   "metadata": {
    "scrolled": true
   },
   "outputs": [
    {
     "data": {
      "text/plain": [
       "array([[0.77954308, 0.52482256],\n",
       "       [0.2197231 , 0.84319801],\n",
       "       [0.68818824, 0.91141375],\n",
       "       [0.58576791, 0.64746507],\n",
       "       [0.35308863, 0.6502877 ],\n",
       "       [0.88045119, 0.72255322],\n",
       "       [0.8114223 , 0.03277539],\n",
       "       [0.90070148, 0.215134  ],\n",
       "       [0.65875255, 0.88001017],\n",
       "       [0.80183343, 0.09432588],\n",
       "       [0.27422179, 0.2495625 ],\n",
       "       [0.71871457, 0.28923544],\n",
       "       [0.98344889, 0.38926487],\n",
       "       [0.58880354, 0.09448002],\n",
       "       [0.45267982, 0.17466207],\n",
       "       [0.81573283, 0.01611689],\n",
       "       [0.62783206, 0.19897191],\n",
       "       [0.92931085, 0.14942751],\n",
       "       [0.05898619, 0.00262404],\n",
       "       [0.54245114, 0.24889862],\n",
       "       [0.68980389, 0.97170821],\n",
       "       [0.34419016, 0.51169688],\n",
       "       [0.68261513, 0.03446783],\n",
       "       [0.61453711, 0.53031134],\n",
       "       [0.34532851, 0.96793893],\n",
       "       [0.88757832, 0.96084942],\n",
       "       [0.68739712, 0.40799526],\n",
       "       [0.54294633, 0.06765599],\n",
       "       [0.66630018, 0.51501686],\n",
       "       [0.13638777, 0.14858935],\n",
       "       [0.37961546, 0.04376354],\n",
       "       [0.37701154, 0.52760607],\n",
       "       [0.48076319, 0.80398241],\n",
       "       [0.64486266, 0.26718954],\n",
       "       [0.68759718, 0.66634427],\n",
       "       [0.03728204, 0.86427207],\n",
       "       [0.63362612, 0.12471806],\n",
       "       [0.70781699, 0.66755213],\n",
       "       [0.13123861, 0.01856731],\n",
       "       [0.50611165, 0.07801864],\n",
       "       [0.68387085, 0.46641861],\n",
       "       [0.98509886, 0.65948905],\n",
       "       [0.33492542, 0.00472804],\n",
       "       [0.0422948 , 0.38534565],\n",
       "       [0.31511219, 0.83560744],\n",
       "       [0.01934827, 0.45499917],\n",
       "       [0.91826908, 0.86002271],\n",
       "       [0.99169462, 0.4513138 ],\n",
       "       [0.40335722, 0.04702482],\n",
       "       [0.18084742, 0.71334349],\n",
       "       [0.31207111, 0.36797421],\n",
       "       [0.90158741, 0.47583155],\n",
       "       [0.75215354, 0.02268508],\n",
       "       [0.62623587, 0.51785704],\n",
       "       [0.10189566, 0.71309085],\n",
       "       [0.75571248, 0.93963171],\n",
       "       [0.79044417, 0.81246264],\n",
       "       [0.68457899, 0.04935256],\n",
       "       [0.603704  , 0.39607115],\n",
       "       [0.19462275, 0.13305201],\n",
       "       [0.16834816, 0.36938937],\n",
       "       [0.39262884, 0.66150681],\n",
       "       [0.80717784, 0.45211722],\n",
       "       [0.24586691, 0.22560857],\n",
       "       [0.75981316, 0.93460432],\n",
       "       [0.47674871, 0.39037866],\n",
       "       [0.51680422, 0.98213775],\n",
       "       [0.49676586, 0.7410851 ],\n",
       "       [0.90008036, 0.96685802],\n",
       "       [0.69560934, 0.00429011],\n",
       "       [0.97781096, 0.13765953],\n",
       "       [0.87351189, 0.70288864],\n",
       "       [0.60790545, 0.24738298],\n",
       "       [0.11421989, 0.47462108],\n",
       "       [0.46144169, 0.38282739],\n",
       "       [0.6953144 , 0.45897779],\n",
       "       [0.61989934, 0.33436304],\n",
       "       [0.70516832, 0.91085235],\n",
       "       [0.48613416, 0.61667264],\n",
       "       [0.88792807, 0.6552998 ],\n",
       "       [0.24152067, 0.35769202],\n",
       "       [0.21994769, 0.37112675],\n",
       "       [0.89938454, 0.74277008],\n",
       "       [0.20759946, 0.81912224],\n",
       "       [0.51399935, 0.93980304],\n",
       "       [0.22908269, 0.01111641],\n",
       "       [0.862649  , 0.62192952],\n",
       "       [0.97455801, 0.62804958],\n",
       "       [0.03749191, 0.33236888],\n",
       "       [0.81198345, 0.58889332],\n",
       "       [0.32664961, 0.67762122],\n",
       "       [0.95083534, 0.50701058],\n",
       "       [0.78682219, 0.73383171],\n",
       "       [0.53117262, 0.94597816],\n",
       "       [0.63651915, 0.32515917],\n",
       "       [0.93947447, 0.99557371],\n",
       "       [0.83645309, 0.03886161],\n",
       "       [0.44564985, 0.3335224 ],\n",
       "       [0.16846448, 0.19328743],\n",
       "       [0.28577692, 0.1708739 ]])"
      ]
     },
     "execution_count": 119,
     "metadata": {},
     "output_type": "execute_result"
    }
   ],
   "source": [
    "import random as rnd \n",
    "import numpy as np \n",
    "data = []\n",
    "for i in range(0,100):\n",
    "    data.append([rnd.random(), rnd.random()])\n",
    "# need to convert to array for kmeans \n",
    "data = np.asarray(data)\n",
    "data"
   ]
  },
  {
   "cell_type": "markdown",
   "metadata": {},
   "source": [
    "### Some comments\n",
    "[vstack](https://numpy.org/doc/stable/reference/generated/numpy.vstack.html) stack arrays in sequence vertically (row wise)"
   ]
  },
  {
   "cell_type": "code",
   "execution_count": 120,
   "metadata": {},
   "outputs": [
    {
     "data": {
      "text/plain": [
       "array([[1, 2, 3],\n",
       "       [2, 3, 4],\n",
       "       [5, 6, 7]])"
      ]
     },
     "execution_count": 120,
     "metadata": {},
     "output_type": "execute_result"
    }
   ],
   "source": [
    "a = np.array([1, 2, 3])\n",
    "b = np.array([[2, 3, 4], [5,6,7]]) \n",
    "np.vstack((a,b))"
   ]
  },
  {
   "cell_type": "markdown",
   "metadata": {},
   "source": [
    "```\n",
    "Tip:\n",
    "When you import a function named myfunction from a module named mymodule via import mymodule you need to use the dot notation, i.e. mymodule.myfunction to use it. If you import the function via from mymodule import myfunction, you can access the function by calling it directly, i.e myfunction\n",
    "   \n",
    "```\n",
    "\n",
    "### Some comments\n",
    "- The notation ,_ means we’ll be taking the first element of the tuple outputed from kmeans() (i.e. the k × N centroid array) and ignore the second argument.\n"
   ]
  },
  {
   "cell_type": "code",
   "execution_count": 123,
   "metadata": {},
   "outputs": [],
   "source": [
    "# a simple example (2 gets thrown away) \n",
    "A,_ = [1,2] # A = 1\n",
    "_,B = [1,2] # B=2\n",
    "A,_,_ = [1,2,3] # A = 1"
   ]
  },
  {
   "cell_type": "markdown",
   "metadata": {},
   "source": [
    "- Alternatively, we may think of this notation as doing the following:"
   ]
  },
  {
   "cell_type": "code",
   "execution_count": 125,
   "metadata": {},
   "outputs": [
    {
     "data": {
      "text/plain": [
       "tuple"
      ]
     },
     "execution_count": 125,
     "metadata": {},
     "output_type": "execute_result"
    }
   ],
   "source": [
    "km = kmeans(data,2)\n",
    "type(km)"
   ]
  },
  {
   "cell_type": "code",
   "execution_count": 126,
   "metadata": {},
   "outputs": [
    {
     "data": {
      "text/plain": [
       "array([[0.46809011, 0.2111649 ],\n",
       "       [0.6568639 , 0.72491287]])"
      ]
     },
     "execution_count": 126,
     "metadata": {},
     "output_type": "execute_result"
    }
   ],
   "source": [
    "centroids = km[0]\n",
    "centroids"
   ]
  },
  {
   "cell_type": "markdown",
   "metadata": {},
   "source": [
    "### SciPy - K means Clustering (2)\n",
    "``` \n",
    ">>> # Move data into individual lists based on clustering \n",
    "... clusters = []\n",
    ">>> for i in range(0, numclusters):\n",
    "... clusters.append([[],[]])\n",
    "...\n",
    "  >>> clusters\n",
    "  [[[], []], [[], []]]\n",
    "```\n",
    "- Creates a nested Pyhon list. First element is of clusters contains the data points from members assigned to group 0, the second elements contains the data pairs assigned to group 1.\n",
    "```\n",
    "# run after the code from the next slide:\n",
    "  clusters[0][0] # x values from cluster 0 (blue)\n",
    "  clusters[0][1] # y values from cluster 0 (blue)\n",
    "  clusters[1][0] # x values from cluster 1 (red)\n",
    "  clusters[1][1] # y values from cluster 1 (red)\n",
    "```\n",
    "### SciPy - K means Clustering (3)\n",
    "```\n",
    "for i in range(0,len(idx)):\n",
    "    clusterIdx = idx[i]\n",
    "    # saving the x values for \n",
    "cluster = clusterIdx \n",
    "    clusters[clusterIdx][0].append(data[i][0])\n",
    "    # saving the y values for cluster = clusterIdx \n",
    "    clusters[clusterIdx][1].append(data[i][1])\n",
    "# Plot data points and cluster centroids\n",
    "# 'ob' for blue points (group index 0)\n",
    "# 'or' for red points (group index 1) \n",
    "plt.plot(clusters[0][0],clusters[0][1],'ob',clusters[1][0],clusters[1][1],'or')\n",
    "# centroids[:,0] = first column for centroid of group 0\n",
    "# centroids[:,1] = second column for centroid of group 1 \n",
    "plt.plot(centroids[:,0],centroids[:,1],'sg',markersize=8) \n",
    "plt.show()\n",
    "```\n",
    "### SciPy - K means Clustering\n",
    "- The plot argument ob/or stands for blue and red circle markers, resp. See more on plot formatting here.\n",
    "![alt text](../images/07Python/kmeans.png)\n",
    "\n",
    "```\n",
    "Example\n",
    "Write a program that uses SciPy to perform a linear regression on this data set:\n",
    "x = [1, 5, 10, 15, 20, 25]\n",
    "y = [-1, -12, -26, -40, -60, -73]\n",
    "Output:\n",
    "\n",
    "```\n",
    "![alt text](../images/07Python/scipy.png)\n",
    "\n",
    "### cikit-learn and BeautifulSoup\n",
    "- scikit-learn (http://scikit-learn.org/) is a machine learning library for Python.\n",
    "- Features:\n",
    "    - classification\n",
    "    - regression\n",
    "    - clustering\n",
    "    - dimensionality reduction\n",
    "- BeautifulSoup (http://www.crummy.com/software/BeautifulSoup/) is a library to make it easy to search, navigate, and extract data from HTML and XML documents.\n",
    "\n",
    "### Python - Databases\n",
    "- [MySQL](https://www.mysql.com) is a popular open source relational database management system.\n",
    "- We can access this data via Python using the mysql.connector module. See the [developer guide](https://dev.mysql.com/doc/connector-python/en/) and [W3schools](https://www.w3schools.com/python/python_mysql_getstarted.asp) tutorial for more details\n",
    "    - [notes](https://dev.mysql.com/doc/connector-python/en/connector-python-example-connecting.html) on connecting\n",
    "    - [notes](https://dev.mysql.com/doc/connector-python/en/connector-python-example-ddl.html) on creating tables\n",
    "    - [notes](https://dev.mysql.com/doc/connector-python/en/connector-python-example-cursor-select.html) on querying\n",
    "- Note that this code will require that we are on UBC secure wifi (off campus we must connect with VPN).\n",
    "\n",
    "\n",
    "### Try it - Databases\n",
    "``` \n",
    " Example\n",
    "Write a program that queries the WorksOn database and returns the employees grouped by title where the employee name is after 'J'. The output should display their title and the average salary for that title. Connection info:\n",
    "cnx = mysql.connector.connect(user='data301', password='ubc', host='cosc304.ok.ubc.ca', database='WorksOn')\n",
    "```\n",
    "- output \n",
    "\n",
    "![alt text](../images/07Python/Database.png)\n",
    "\n",
    "```\n",
    "answer\n",
    "import mysql.connector try:\n",
    "cnx=mysql.connector.connect(user='data301', password='ubc', host='cosc304.ok.ubc.ca',database='WorksOn')\n",
    "cursor = cnx.cursor()\n",
    "query = (\"SELECT title, AVG(salary) as avgSalary\n",
    "FROM emp WHERE ename >= 'J' GROUP BY title\") cursor.execute(query)\n",
    "for (title, avgSalary) in cursor:\n",
    "print(title, avgSalary) cursor.close()\n",
    "except mysql.connector.Error as err: print(err)\n",
    "finally: cnx.close()\n",
    " \n",
    "```\n",
    "\n",
    "### MapReduce\n",
    "- Map-Reduce is a technique for processing large data sets in a functional manner. See the [Wikipedia article](https://en.wikipedia.org/wiki/MapReduce)\n",
    "- The technique was invented by Google and is implemented in a variety of systems including Python, NoSQL databases, and a Big Data system called Hadoop.\n",
    "- In Hadoop, map takes as input key-value pairs and outputs key-value pairs. The shuffle step will move pairs to particular machines based on keys. The reduce step takes a list of key-value pairs (with same key) and reduces to one value.\n",
    "- It is possible to code map/reduce functions in Python for use in Hadoop cluster\n",
    "### MapReduce\n",
    "- Simpler version of Map-Reduce in Python without a cluster:\n",
    "- Map function takes as input a list and a function then applies function to each element of the list to produce a new list as output\n",
    "- Filter function only keeps list elements where filter function is True\n",
    "- Reduce function takes result of map/filter and produces single value from list\n",
    "- N.B. The reduce function has been moved to the functools module for Python3 with creator noting “99% of the time an explicit for loop is more readable\"\n",
    "\n",
    "### map\n",
    "- General usage: map(function_to_apply, list_of_inputs)\n",
    "- Data: a1, a2, . . . , an (could be elements in a tuple or a list)\n",
    "- Function: f (x)\n",
    "- Calling map(f (x), Data) would return\n",
    "    - f(a1),f(a2),...f(an)\n"
   ]
  },
  {
   "cell_type": "markdown",
   "metadata": {},
   "source": [
    "###  filter\n",
    "- General usage: filter(function_to_apply, list_of_inputs) \n",
    "- Data: a1, a2, . . . , an (could be elements in a tuple or a list)\n",
    "- Function: f (x ) (this function should return True or False\n",
    "- Calling map(f (x), Data) would return:\n",
    "    - all ai s for which f (ai ) returns True\n",
    "### reduce\n",
    "- General usage: reduce(function_to_apply, list_of_inputs) \n",
    "- Data: a1, a2, . . . , an (could be elements in a tuple or a list)\n",
    "- Function: f(x,y)\n",
    "- Calling reduce(f(x,y), Data) would perform: \n",
    "    - Step 1: val1 = f (a1, a2)\n",
    "    - Step 2: val2 = f (val1, a3)\n",
    "    - Step 3: val3 = f (val2, a4)\n",
    "        ...\n",
    "    - Step n-1 valn−1 = f (valn−2, an) and return: valn−1\n",
    "    \n",
    "### Python - MapReduce Example"
   ]
  },
  {
   "cell_type": "code",
   "execution_count": 155,
   "metadata": {},
   "outputs": [],
   "source": [
    "import functools     # For Reduce\n",
    "data = [1, 2, 3, 4, 5, 6]\n",
    "def triple(x):  # function to be used with map\n",
    "    return x*3\n",
    "def myfilter(x): # function to be used with filter \n",
    "    if x % 2 == 0:\n",
    "        return True\n",
    "    return False\n",
    "def sum(x, y):  # function to be used with reduce \n",
    "    return x+y\n"
   ]
  },
  {
   "cell_type": "markdown",
   "metadata": {},
   "source": [
    "### Python - map Example"
   ]
  },
  {
   "cell_type": "code",
   "execution_count": 156,
   "metadata": {},
   "outputs": [
    {
     "name": "stdout",
     "output_type": "stream",
     "text": [
      "Result after map: [3, 6, 9, 12, 15, 18]\n"
     ]
    }
   ],
   "source": [
    "result = list(map(triple, data)) \n",
    "print(\"Result after map:\",result) "
   ]
  },
  {
   "cell_type": "code",
   "execution_count": 158,
   "metadata": {},
   "outputs": [
    {
     "name": "stdout",
     "output_type": "stream",
     "text": [
      "[3, 6, 9, 12, 15, 18]\n"
     ]
    }
   ],
   "source": [
    "#To see this using a for loop:\n",
    "items = [1, 2, 3, 4, 5, 6]\n",
    "output = []\n",
    "for i in items:\n",
    "    val = triple(i)\n",
    "    output.append(val)\n",
    "\n",
    "print(output)"
   ]
  },
  {
   "cell_type": "markdown",
   "metadata": {},
   "source": [
    "### Python - filter Example"
   ]
  },
  {
   "cell_type": "code",
   "execution_count": 159,
   "metadata": {},
   "outputs": [
    {
     "name": "stdout",
     "output_type": "stream",
     "text": [
      "Result after filter: [6, 12, 18]\n"
     ]
    }
   ],
   "source": [
    "result = list(filter(myfilter, result))\n",
    "print(\"Result after filter:\",result)"
   ]
  },
  {
   "cell_type": "code",
   "execution_count": 160,
   "metadata": {},
   "outputs": [
    {
     "name": "stdout",
     "output_type": "stream",
     "text": [
      "[6, 12, 18]\n"
     ]
    }
   ],
   "source": [
    "#Alternatively using a for loop:\n",
    "items = [3, 6, 9, 12, 15, 18]\n",
    "output = []\n",
    "for i in items:\n",
    "    val = myfilter(i) \n",
    "    if val:\n",
    "        output.append(i)\n",
    "print(output) # returns all the even numbers"
   ]
  },
  {
   "cell_type": "markdown",
   "metadata": {},
   "source": [
    "### Python - reduce Example"
   ]
  },
  {
   "cell_type": "code",
   "execution_count": 161,
   "metadata": {},
   "outputs": [
    {
     "name": "stdout",
     "output_type": "stream",
     "text": [
      "Result after reduce: 36\n"
     ]
    }
   ],
   "source": [
    "result = functools.reduce(sum, result) \n",
    "print(\"Result after reduce:\",result)"
   ]
  },
  {
   "cell_type": "code",
   "execution_count": 162,
   "metadata": {},
   "outputs": [
    {
     "name": "stdout",
     "output_type": "stream",
     "text": [
      "36\n"
     ]
    }
   ],
   "source": [
    "#To see this using a loop:\n",
    "items = [6, 12, 18]\n",
    "val = items[0]\n",
    "item2 = items[1:] \n",
    "for a in item2:\n",
    "    val = sum(val,a)\n",
    "print(val)\n"
   ]
  },
  {
   "cell_type": "markdown",
   "metadata": {},
   "source": [
    "- Notice that when using map, the items in the result are values returned by the function triple.\n",
    "- In contrast, the values returned by myfilter in filter(f, ...) are not outputted results themselves, but rather an index of the values that returned True.\n",
    "- The values returned by the reduce function returns a single result.\n",
    "### Try It - MapReduce\n",
    "```\n",
    "Example\n",
    "Write a map-reduce program that during the map step will sub- tract 2 from each element. The reduce step should return the product of all the elements in the list.\n",
    "```\n",
    "### Conclusion\n",
    "- Python has many libraries to help with data analysis tasks:\n",
    "    - reading and write to files\n",
    "    - csv module for processing CSV files\n",
    "    - Biopython for bioinformatics\n",
    "    - numerous chart libraries including matplotlib and ggplot 􏰀 \n",
    "    - SciPy - collection of libraries for scientific computing\n",
    "    - libraries for web access and parsing (BeautifulSoup)\n",
    "    - database access libraries and connectors\n",
    "- The try-except statement is used to handle exceptions so that the program may continue when an error condition occurs.\n",
    "- Open, read, write, and close text files\n",
    "- Process CSV files including using the csv module\n",
    "- Define: IPv4/IPv6 address, domain, domain name, URL\n",
    "- Read URLs using urllib.request.\n",
    "- Define: exception, exception handling\n",
    "- Use try-except statement to handle exceptions and understand how each of try, except, else, finally blocks are used\n",
    "- Import Python modules\n",
    "- Use Biopython module to retrieve NCBI data and perform BLAST\n",
    "- Build charts using matplotlib\n",
    "- Perform linear regression and k-means clustering using SciPy \n",
    "- Connect to and query the MySQL database using Python\n",
    "- Write simple Map-Reduce programs\n"
   ]
  },
  {
   "cell_type": "code",
   "execution_count": null,
   "metadata": {},
   "outputs": [],
   "source": []
  },
  {
   "cell_type": "code",
   "execution_count": null,
   "metadata": {},
   "outputs": [],
   "source": []
  }
 ],
 "metadata": {
  "kernelspec": {
   "display_name": "Python 3",
   "language": "python",
   "name": "python3"
  },
  "language_info": {
   "codemirror_mode": {
    "name": "ipython",
    "version": 3
   },
   "file_extension": ".py",
   "mimetype": "text/x-python",
   "name": "python",
   "nbconvert_exporter": "python",
   "pygments_lexer": "ipython3",
   "version": "3.7.7"
  }
 },
 "nbformat": 4,
 "nbformat_minor": 4
}
