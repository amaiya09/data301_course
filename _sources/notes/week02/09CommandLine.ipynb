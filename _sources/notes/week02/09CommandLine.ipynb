{
 "cells": [
  {
   "cell_type": "markdown",
   "metadata": {},
   "source": [
    "## Command Line\n",
    "\n",
    "\n",
    "### Why learn command line?\n",
    "The command line is the text interface to the computer.\n",
    "Understanding the command line allows you to interact with the computer in ways that you often cannot with the graphical user interface (GUI).\n",
    "The command line is commonly used for scripting and automation of tasks and when accessing remote systems.\n",
    "It will also be useful to run programs that make use of the command line (eg. github).\n",
    " \n",
    "### What is the Command Line?\n",
    "\n",
    "The <b>command line </b>is the text interface to the computer that accepts commands that the computer will execute. These commands include:\n",
    "- starting programs\n",
    "- navigating directories and manipulating files \n",
    "- searching, sorting, and editing text files \n",
    "- system and environment configuration\n",
    "\n",
    "### Why use command line?\n",
    "The command line is part of the operating system (OS), which is software that manages your computer including all devices and programs.\n",
    "\n",
    "- Common operating systems include Windows, Mac OS, and Linux/Unix. \n",
    "- Some commands will be OS specif\n",
    "\n",
    "You might be wondering why we would ever prefer command line over using the graphical user interface (GUI).\n",
    "- Certain tools may only be available to command line. \n",
    "- Sometimes command line is faster.\n",
    " \n",
    "### Windows Command Line\n",
    "\n",
    "The command line on Windows dates back to the original Microsoft operating system called DOS (Disk Operating System) in 1981.\n",
    "\n",
    "This command line interface is still part of all modern Windows operating systems and is accessible as the \"Command Prompt\".\n",
    "<img src=\"../images/09CommandLine/CommandPrompt.png\" alt=\"CommandPrompt\" width=\"400\" >\n",
    "\n",
    "\n",
    "To access this, navigate to the start menu with your mouse (or click the windows button on your keyboard) and type “cmd\" then\n",
    "ENTER .\n",
    "\n",
    "### Command Line - Windows\n",
    "<img src=\"../images/09CommandLine/rlawrenc.png\" alt=\"rlawrenc\" width=\"600\" >\n",
    "\n",
    "\n",
    "### Mac OS Command Line\n",
    "The command line for Mac OS uses the same commands as Linux. It can be opened using Finder then Utilities then Terminal.\n",
    "\n",
    "![Kiku](../images/09CommandLine/cmdMac.png)\n",
    "\n",
    "Alternatively, we could type Cmnd + spacebar, then type “Terminal\" and press ENTER\n",
    "\n",
    "### Command Line - Mac/Linux\n",
    "\n",
    "![Kiku](../images/09CommandLine/terminalex.png)\n",
    "\n",
    "### Entering a Command\n",
    "Enter a command at a prompt. The prompt may be a > or a $ or customized by the user.\n",
    "\n",
    "Press ENTER to execute the command.\n",
    "\n",
    "On Windows, commands are mostly case-insensitive while on Mac/Linux they are case-sensitive.\n",
    "\n",
    "![Kiku](../images/09CommandLine/terminalex.png)\n",
    "\n",
    "```text\n",
    "ls\n",
    "For example, the ls/dir (Mac/Windows), lists all the contents (i.e files and folders) inside or your current directory.\n",
    "```\n",
    "\n",
    "### File System\n",
    "The file system organizes data on a device as a hierarchy of directories and files (like a tree).\n",
    "Each folder (AKA directory) has a name and can contain any number of files or subdirectories.\n",
    "Each file has a name.\n",
    "The user can change (navigate) directories in the hierarchy\n",
    "\n",
    "![Kiku](../images/09CommandLine/filesystem.png)\n",
    "\n",
    "### File System\n",
    "The tree is rooted at, well, the root.\n",
    "- There is only one root of a directory hierarchy.\n",
    "Every item in the tree is either a file or a directory (AKA folder).\n",
    "- You can think of a directory as a container that may contains files and/or other directories.\n",
    "- Files on the other hand holds information (and cannot contain other files or directories) .\n",
    "\n",
    "If directoryC is contained in directoryP, then directoryC is a child of directoryP and directoryP is said to be the parent to directoryC.\n",
    "- A directory may have many children, but can only have one parent.\n",
    "\n",
    "### Absolute versus Relative Path\n",
    "\n",
    "- The root of the file system is the directory \"/\" \n",
    "       - There is only one root of a directory hierarchy.\n",
    "- A path to a new location (from your current location) can be specified as an absolute path from the root (this will work no matter where we are in the file system):"
   ]
  },
  {
   "cell_type": "markdown",
   "metadata": {},
   "source": [
    "```\n",
    "cd /Users/ivrbik/301/level1\n",
    "```\n",
    "           "
   ]
  },
  {
   "cell_type": "markdown",
   "metadata": {},
   "source": [
    "or a relative path from your current location (this will only work if we are in /Users/ivrbik/):"
   ]
  },
  {
   "cell_type": "markdown",
   "metadata": {},
   "source": [
    "```\n",
    "cd 301/level1\n",
    "```"
   ]
  },
  {
   "cell_type": "markdown",
   "metadata": {},
   "source": [
    "- The directory separator is a forward slash ‘/’ for Macs/Linux.\n",
    "In windows you may use forward or backward slashes ‘/’ or ‘\\’\n",
    "\n",
    "\n",
    "### Short forms\n",
    "- ‘.’ is the short-form for the current directory\n",
    "- ‘..’ signifies the parent directory (akin to pressing Cmnd +↑\n",
    "on a Mac)\n",
    "- For example, to navigate (i.e. change directories) to the parent directory of the current directory, use the command:\n",
    "     cd ..\n",
    "- Note that this command is dependant on your current directory (i.e. the folder you are currently in).\n",
    "```text\n",
    "pwd/cd\n",
    "To print your current working directory type pwd/cd (Mac/Windows) then ENTER .\n",
    "```\n",
    "### Absolute versus Relative Path Question\n",
    " ```text \n",
    " Example\n",
    "Given this directory hierarchy and that the user is currently in the directory level2 and level1 directory contains a file test.txt. How many of the following statements are TRUE?\n",
    "1. A relative path to change to directory 301 is ..\n",
    "2. Absolute path to test.txt is /Users/ivrbik/301/level1/test.txt\n",
    "3. Relative path to test.txt is ../test.txt\n",
    "4. Relative path to test.txt is different if\n",
    "user was currently in level3 directory.\n",
    "5. There is only one root of the directory hierarchy.\n",
    "A) 0 B) 1 C) 2 D) 3 E) 4 \n",
    "```\n",
    "<img src=\"../images/09CommandLine/relativepath.png\" alt=\"relativepath\" width=\"300\" >\n",
    "\n",
    "   \n",
    "### makdir\n",
    "Download this filesystem as a zip file on Canvas.\n",
    "- To create a new folder in the current directory we use mkdir.\n",
    "- To complete this task we need to specify the directory name as an argument.\n",
    "- For example, the following creates a folder called NewFolder in the current directory:"
   ]
  },
  {
   "cell_type": "markdown",
   "metadata": {},
   "source": [
    "```\n",
    "mkdir NewFolder\n",
    "```"
   ]
  },
  {
   "cell_type": "markdown",
   "metadata": {},
   "source": [
    "```text\n",
    "Exercise: mkdir\n",
    "Navigate to the 301 folder and create a new folder called Demo.\n",
    "```\n",
    "\n",
    "### touch\n",
    "-  We can create files using the touch command.\n",
    "-  Like mkdir we need to specify a argument.\n",
    "-  Rather than a folder name, we provide a filename as the argument.\n",
    "-  For example, the following command creates a new file named empty.txt inside the current working directory."
   ]
  },
  {
   "cell_type": "markdown",
   "metadata": {},
   "source": [
    "```\n",
    "touch empty.txt\n",
    "```"
   ]
  },
  {
   "cell_type": "markdown",
   "metadata": {},
   "source": [
    "```text\n",
    "touch\n",
    "Navigate to the Demo folder and type touch abc.txt\n",
    "```\n",
    "    \n",
    "### notepad/nano\n",
    "- To create a file with actually text, we can use the notepad/nano command (Windows/Mac).\n",
    "- Typing nano will open a blank file for editing.\n",
    "- We can then type the desired text and save using the shortcuts\n",
    "given on the bottom of the window. More shortcuts [here](https://skorks.com/2009/09/bash-shortcuts-for-maximum-productivity/).\n",
    "- N.B. the standard shortcuts we might be used to wont work in\n",
    "this command line (eg. Ctrl /Cmnd + C for copy);\n",
    "\n",
    "<img src=\"../images/09CommandLine/editme.png\" alt=\"editme\" width=\"600\" >\n",
    "\n",
    "\n",
    "### notepad/nano\n",
    "- Upon saving (ie WriteOut via Ctrl + O ) you will be prompted to provide a filename to save the document under.\n",
    "- We could have supplied this information as an argument in our nano command as follows:"
   ]
  },
  {
   "cell_type": "markdown",
   "metadata": {},
   "source": [
    "```\n",
    "nano notes.txt\n",
    "\n",
    "```"
   ]
  },
  {
   "cell_type": "markdown",
   "metadata": {},
   "source": [
    "<img src=\"../images/09CommandLine/writeout.png\" alt=\"writeout\" width=\"600\" >\n",
    "\n",
    "-  N.B. We will still be asked to verify the name upon exiting,\n",
    "but we won’t have to type it again.\n",
    "\n",
    "### Commonly Used File Navigation Commands\n",
    "\n",
    "||Windows| Mac OS & Linux|\n",
    "|---|---|---|\n",
    "|List contents of directory <br>Change directory<br>Print working directory Make a directory  <br>Remove a directory <br> Rename a file<br>Remove a file <br> Copy a file <br> Move a file|dir <br>cd 301 <br>cd <br>mkdir 301 <br>rmdir 301 <br>ren old.txt new.txt <br>del file.txt<br>copy src.txt dest.txt<br> move <source> <dest>|ls <br>cd 301 <br>pwd <br>mkdir 301 <br>rmdir 301<br>mv old.txt new.txt <br>rm file.txt <br>cp src.txt dest.txt <br> mv source dest |\n",
    "\n",
    "   \n",
    "[Click here](https://www.lemoda.net/windows/windows2unix/windows2unix.html) for see some more Windows and Unix equivalents.\n",
    "\n",
    "### Commonly Used Text Related Commands\n",
    "||Windows| Mac OS & Linux|\n",
    "|---|---|---|\n",
    "|Open a text editor<br>Echo output<br>Output contents of a file<br> Search text files<br>Sort text files|notepad <br>echo Hello <br>more file.txt<br> find<br>sort|nano<br>echo Hello<br> cat file.txt <br>grep<br>sort |\n",
    "\n",
    "### Wildcards\n",
    "- A wildcard character allows for matching file names with more flexibility.\n",
    "- The ? represents any one character in a file name. Example: file?.txt would match file1.txt.\n",
    "- The * (asterisk) matches any number of characters (including no characters). Example: *.txt would match anything ending with .txt (i.e. all .txt files).\n",
    "### Wildcards\n",
    "<img src=\"../images/09CommandLine/files.png\" alt=\"files\" width=\"300\" >\n",
    "\n",
    "<img src=\"../images/09CommandLine/wildcards.png\" alt=\"wildcards\" width=\"600\" >\n",
    "\n",
    "\n",
    "Replace ls with dir if you are using Windows.\n",
    "\n",
    "### Navigating the Command Line\n",
    "||Windows| Mac OS & Linux|\n",
    "|---|---|---|\n",
    "|Previous command in history<br>Next command in history <br>First command in history<br>Last command in history<br>Move to start of line<br>Move to end of line<br>Auto-compete file name|Up<br>Down<br>PageUp<br>PageDown<br>Home<br>End<br>Tab|Up<br>Down<br> <br> <br>Ctrl+A<br> Ctrl+E<br> Tab<br>|\n",
    "\n",
    "### Pausing or Cancelling Commands\n",
    "## To pause a command:\n",
    "- Windows: Press Ctrl +S or the Pause To resume, press any key. \n",
    "- Mac: Ctrl + Esc or Cmnd + .\n",
    "To cancel a command, press Ctrl +C .\n",
    "- The command is canceled, and the command prompt returns.\n",
    "- However, any actions performed before the cancel are not undone.\n",
    "```text\n",
    " Example\n",
    "How many of the following statements are TRUE?\n",
    "1. To cancel a command, press Ctrl +X .\n",
    "2. To go to the most recent command, press Up arrow.\n",
    "3. This wildcard expression te*a?.txt matches tea12.txt. 4. The command to change a directory is pwd.\n",
    "A) 0 B) 1 C) 2 D) 3 E) 4\n",
    "```\n",
    "### Try It: Navigating Directories with Commands\n",
    "\n",
    "```text\n",
    " Example\n",
    "Using a terminal window, perform the following actions:\n",
    "1. Create a directory called 301.\n",
    "2. Change into the directory 301.\n",
    "3. Echo I am awesome!\n",
    "4. Show your current directory (print working directory). \n",
    "5. Create a text file called message.txt with a message in it. \n",
    "6. List the contents of your directory.\n",
    "7. Rename the file message.txt to test.txt.Verify the name change.\n",
    "8. Delete the test.txt file.\n",
    "9. Change directory to directory above 301. \n",
    "10. Delete directory 301.\n",
    "```\n",
    "### Command Arguments - Windows\n",
    "A command can take arguments that changes its behaviour.\n",
    "- Example: Path was an argument for the cd command. cd 301\n",
    "On Windows, commands also can be modified by a switch (or extension) which is usually a slash then a letter (e.g. /S).\n",
    "- To find out what is available, run the command with: /?\n",
    "\n",
    "![Kiku](../images/09CommandLine/help.png)\n",
    "\n",
    "### Command Arguments - Mac/Linux\n",
    "On Mac/Linux arguments are separated by spaces and begin with ‘-’\n",
    "\n",
    "An explanation of arguments can be found by using man then the command name. Example: man cp (to quit press q)\n",
    "\n",
    "![Kiku](../images/09CommandLine/man.png)\n",
    "\n",
    "### Standard Input, Output, and Error\n",
    "<b>Standard input</b> (stdin) is the default input device (usually a keyboard) into the terminal.\n",
    "<b>Standard output</b> (stdout) is the location where output is sent after a command is run. The default is the terminal window.\n",
    "<b>Standard error</b>(stderr) is the location where error messages are displayed (typically the terminal window).\n",
    "\n",
    "### Redirecting Input\n",
    "By default, a command gets its input from standard input and outputs results to standard output.\n",
    "A command can get its input from the output of another command by using the pipe (|) symbol. Example:"
   ]
  },
  {
   "cell_type": "markdown",
   "metadata": {},
   "source": [
    "    \n",
    "```\n",
    "cat test.txt | wc\n",
    "```"
   ]
  },
  {
   "cell_type": "markdown",
   "metadata": {},
   "source": [
    "Note the example commands are Mac OS/Linux only: wc (word\n",
    "count) is not on Windows.\n",
    "Also can use redirect input (<) to send input to a command. Ex:"
   ]
  },
  {
   "cell_type": "markdown",
   "metadata": {},
   "source": [
    "```\n",
    "cat < test.txt\n",
    "```"
   ]
  },
  {
   "cell_type": "markdown",
   "metadata": {},
   "source": [
    "same as"
   ]
  },
  {
   "cell_type": "markdown",
   "metadata": {},
   "source": [
    "```\n",
    "sort cat test.txt\n",
    "```"
   ]
  },
  {
   "cell_type": "markdown",
   "metadata": {},
   "source": [
    "### Redirecting Output\n",
    "Redirect output using > which will overwrite the file: "
   ]
  },
  {
   "cell_type": "markdown",
   "metadata": {},
   "source": [
    "```\n",
    "sort test.txt > sorted.txt\n",
    "```"
   ]
  },
  {
   "cell_type": "markdown",
   "metadata": {},
   "source": [
    "Use » to append to the existing file:"
   ]
  },
  {
   "cell_type": "markdown",
   "metadata": {},
   "source": [
    "```\n",
    "sort test.txt » sorted.txt\n",
    "```"
   ]
  },
  {
   "cell_type": "markdown",
   "metadata": {},
   "source": [
    "### Redirection Summary\n",
    "| |Symbol|\n",
    "|---|---|\n",
    "|Redirect input| < |\n",
    "|Redirect output| > |\n",
    "|Redirect output (append)| >>| \n",
    "|Pipe output to input of next command|||\n",
    "\n",
    "\n",
    "### Escape Symbol\n",
    "An escape symbol is used when a command requires input that contains a character with a special meaning. The escape symbol indicates this character is data not part of the command.\n",
    "Windows the caret (^) indicates that whatever character that follows it is data rather than part of the command.\n",
    "- Example: cp test.txt a^&b.txt Linux use the backslash (\\).\n",
    "This is especially common when dealing with spaces in a file name. The other way to handle file names with spaces is to enclose them in double [quotes](https://wiki.bash-hackers.org/syntax/quoting%20):"
   ]
  },
  {
   "cell_type": "markdown",
   "metadata": {},
   "source": [
    "```\n",
    "cp test.txt \"c:\\program files\\file spaces.txt\"\n",
    "```"
   ]
  },
  {
   "cell_type": "markdown",
   "metadata": {},
   "source": [
    "### Environment Variable\n",
    "Environment variables allow for customization and control of the command and system environment.\n",
    "\n",
    "Current variables are seen using the set or env command. \n",
    "\n",
    "Important variables:\n",
    "\n",
    "$PATH list of directories where commands/applications will be found\n",
    "\n",
    "$HOME user home directory\n",
    "\n",
    "### Finding Text in Files\n",
    "The grep command allows for searching for text in files that match a pattern (Mac/Linux only, find on Windows).\n",
    "- grep stands for \"global regular expression print\"\n",
    "- Search is case-sensitive (use -i for case-insensitive) and can contain regular expressions.\n",
    "- grep -i will be case-insensitive\n",
    "Example:"
   ]
  },
  {
   "cell_type": "markdown",
   "metadata": {},
   "source": [
    "```\n",
    "grep er *.txt\n",
    "```"
   ]
  },
  {
   "cell_type": "markdown",
   "metadata": {},
   "source": [
    "searches for er in any file that ends in .txt\n",
    "\n",
    "\n",
    "### Batch Files\n",
    "A batch program (also commonly called a batch file or command file) is a text file that contains a sequence of commands to be executed.\n",
    "\n",
    "You define the sequence of commands, name the sequence, and then execute the commands by entering the name at a command prompt. Any action you can take by typing a command at a command prompt can be encapsulated in a batch program.\n",
    "\n",
    "In Windows files typically end in .bat or .cmd and on Mac/Linux with .sh\n",
    "\n",
    "Batch files can take arguments like other commands.\n",
    "\n",
    "### Connecting to Another Computer using SSH\n",
    "\n",
    "Secure shell or SSH is a protocol allowing remote login to other machines to execute commands.\n",
    "- The network communication is encrypted for security. \n",
    "- An open-source program on campus is Putty.\n",
    "Using SSH allows you to connect and execute commands on another machine even when you do not have physical access to that machine.\n",
    "\n",
    "SSH may be used to send or retrieve data from other computers for analysis.\n",
    "\n",
    "### Try it: Using Batch Files\n",
    "Before creating the batch file, create a file called numbers.txt that has the numbers one, two, three, ... , ten.\n",
    "```text\n",
    "Example\n",
    "Using a terminal window, create a batch file called myscript.bat (or .sh), to perform the following:\n",
    "1. sort numbers.txt and output as sorted.txt.\n",
    "2. output the word count on numbers.txt to count.txt.\n",
    "3. take numbers.txt and append its data three times into the file output.txt.\n",
    "4. search for \"e\" in output.txt and write results as file search.txt (use grep).\n",
    "5. Output the contents of sorted.txt, output.txt, and search.txt .\n",
    "6. Run your batch file.\n",
    "\n",
    "```\n",
    "### Conclusion\n",
    "- The command line is the text interface to the computer that accepts commands that the computer will execute including running programs, manipulating files, and running scripts.\n",
    "\n",
    "- The command line allows for automation and more control than may be available in the user interface. It may also be the only way to interact with the machine if connecting via SSH.\n",
    "\n",
    "- The command environment allows for redirecting the standard input and output using input/output redirection and pipes.\n",
    "\n",
    "### Objectives\n",
    "\n",
    "- Define command line and list some of its uses \n",
    "- Explain the purpose of an operating system\n",
    "- Know how to open the command line window on Mac OS and Windows\n",
    "- Be able to enter commands and stop them\n",
    "- Define: file system, folder, file\n",
    "- Explain the difference between an absolute and relative path Use command line shortcuts to save time\n",
    "- Be able to match wildcards involving ? and *\n",
    "- Be able to cancel a command\n",
    "- Explain standard input, standard output, and standard error\n",
    "- Be able to use input and output redirection and pipes (?, >, < , »)\n",
    "- Explain the reason for an escape symbol\n",
    "- Define and explain the purpose of environment variables. Be able to use grep to search text files.\n",
    "- Explain the purpose of a batch program.\n",
    "- Be able to connect to another machine using SSH.\n",
    "\n",
    "\n",
    "### Questions"
   ]
  },
  {
   "cell_type": "code",
   "execution_count": null,
   "metadata": {},
   "outputs": [],
   "source": []
  }
 ],
 "metadata": {
  "kernelspec": {
   "display_name": "Python 3",
   "language": "python",
   "name": "python3"
  },
  "language_info": {
   "codemirror_mode": {
    "name": "ipython",
    "version": 3
   },
   "file_extension": ".py",
   "mimetype": "text/x-python",
   "name": "python",
   "nbconvert_exporter": "python",
   "pygments_lexer": "ipython3",
   "version": "3.8.3"
  },
  "nteract": {
   "version": "0.25.0"
  }
 },
 "nbformat": 4,
 "nbformat_minor": 4
}
