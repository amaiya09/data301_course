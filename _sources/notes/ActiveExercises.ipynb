{
 "cells": [
  {
   "cell_type": "markdown",
   "metadata": {},
   "source": [
    "# Active exercises Thebe"
   ]
  },
  {
   "cell_type": "code",
   "execution_count": 1,
   "metadata": {},
   "outputs": [],
   "source": [
    "import numpy as np\n"
   ]
  },
  {
   "cell_type": "code",
   "execution_count": 2,
   "metadata": {},
   "outputs": [
    {
     "name": "stdout",
     "output_type": "stream",
     "text": [
      "The number is 0.\n",
      "The number is 1.\n",
      "The number is 2.\n",
      "The number is 3.\n",
      "The number is 4.\n",
      "The number is 5.\n",
      "The number is 6.\n",
      "The number is 7.\n",
      "The number is 8.\n",
      "The number is 9.\n"
     ]
    }
   ],
   "source": [
    "for i in range(10):\n",
    "    print('The number is {0}.'.format(i))"
   ]
  },
  {
   "cell_type": "code",
   "execution_count": 3,
   "metadata": {},
   "outputs": [
    {
     "name": "stdout",
     "output_type": "stream",
     "text": [
      "The area of a circle is 50.3m^2\n"
     ]
    }
   ],
   "source": [
    "def compute_area(r):\n",
    "    return np.pi*r**2\n",
    "\n",
    "print('The area of a circle is {0:.3}m^2'.format(compute_area(4)))"
   ]
  },
  {
   "cell_type": "code",
   "execution_count": null,
   "metadata": {},
   "outputs": [],
   "source": []
  },
  {
   "cell_type": "code",
   "execution_count": null,
   "metadata": {},
   "outputs": [],
   "source": []
  }
 ],
 "metadata": {
  "kernelspec": {
   "display_name": "Python 3",
   "language": "python",
   "name": "python3"
  },
  "language_info": {
   "codemirror_mode": {
    "name": "ipython",
    "version": 3
   },
   "file_extension": ".py",
   "mimetype": "text/x-python",
   "name": "python",
   "nbconvert_exporter": "python",
   "pygments_lexer": "ipython3",
   "version": "3.8.3"
  }
 },
 "nbformat": 4,
 "nbformat_minor": 4
}
